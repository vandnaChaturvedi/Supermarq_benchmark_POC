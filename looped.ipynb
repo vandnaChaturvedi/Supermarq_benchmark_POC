{
 "cells": [
  {
   "cell_type": "code",
   "execution_count": 51,
   "id": "73c0cb18-d087-4e67-9431-75bafb11742e",
   "metadata": {},
   "outputs": [],
   "source": [
    "from qiskit_aer import AerSimulator\n",
    "from qiskit import *\n",
    "import supermarq , os\n",
    "from qiskit.providers.fake_provider import *\n",
    "import numpy as np\n",
    "emulator_aer_dm = Aer.get_backend('aer_simulator_density_matrix')"
   ]
  },
  {
   "cell_type": "code",
   "execution_count": 27,
   "id": "b9a8eda9-471c-43a8-b3f2-9862c57bc789",
   "metadata": {},
   "outputs": [
    {
     "data": {
      "text/html": [
       "<pre style=\"word-wrap: normal;white-space: pre;background: #fff0;line-height: 1.1;font-family: &quot;Courier New&quot;,Courier,monospace\">     ┌───┐          ┌─┐                      \n",
       "q_0: ┤ H ├──■───────┤M├──────────────────────\n",
       "     └───┘┌─┴─┐     └╥┘     ┌─┐              \n",
       "q_1: ─────┤ X ├──■───╫──────┤M├──────────────\n",
       "          └───┘┌─┴─┐ ║      └╥┘     ┌─┐      \n",
       "q_2: ──────────┤ X ├─╫───■───╫──────┤M├──────\n",
       "               └───┘ ║ ┌─┴─┐ ║      └╥┘┌─┐   \n",
       "q_3: ────────────────╫─┤ X ├─╫───■───╫─┤M├───\n",
       "                     ║ └───┘ ║ ┌─┴─┐ ║ └╥┘┌─┐\n",
       "q_4: ────────────────╫───────╫─┤ X ├─╫──╫─┤M├\n",
       "                     ║       ║ └───┘ ║  ║ └╥┘\n",
       "c: 5/════════════════╩═══════╩═══════╩══╩══╩═\n",
       "                     0       1       2  3  4 </pre>"
      ],
      "text/plain": [
       "     ┌───┐          ┌─┐                      \n",
       "q_0: ┤ H ├──■───────┤M├──────────────────────\n",
       "     └───┘┌─┴─┐     └╥┘     ┌─┐              \n",
       "q_1: ─────┤ X ├──■───╫──────┤M├──────────────\n",
       "          └───┘┌─┴─┐ ║      └╥┘     ┌─┐      \n",
       "q_2: ──────────┤ X ├─╫───■───╫──────┤M├──────\n",
       "               └───┘ ║ ┌─┴─┐ ║      └╥┘┌─┐   \n",
       "q_3: ────────────────╫─┤ X ├─╫───■───╫─┤M├───\n",
       "                     ║ └───┘ ║ ┌─┴─┐ ║ └╥┘┌─┐\n",
       "q_4: ────────────────╫───────╫─┤ X ├─╫──╫─┤M├\n",
       "                     ║       ║ └───┘ ║  ║ └╥┘\n",
       "c: 5/════════════════╩═══════╩═══════╩══╩══╩═\n",
       "                     0       1       2  3  4 "
      ]
     },
     "execution_count": 27,
     "metadata": {},
     "output_type": "execute_result"
    }
   ],
   "source": [
    "ghz = supermarq.ghz.GHZ(5)\n",
    "ghz_circuit = ghz.qiskit_circuit()\n",
    "ghz_circuit.draw()"
   ]
  },
  {
   "cell_type": "code",
   "execution_count": 24,
   "id": "fa22e59e-93d7-424d-9ead-f3d282f7da60",
   "metadata": {},
   "outputs": [],
   "source": [
    "all_fakes=[FakeAlmadenV2,FakeArmonkV2,FakeAthensV2,FakeAuckland,FakeBelemV2,FakeBoeblingenV2,FakeBogotaV2,FakeBrooklynV2,FakeBurlingtonV2,FakeCairoV2,FakeCambridgeV2,FakeCasablancaV2,FakeEssexV2,FakeGeneva,FakeGuadalupeV2,FakeHanoiV2,FakeJakartaV2,FakeJohannesburgV2,FakeKolkataV2,FakeLagosV2,FakeLimaV2,FakeLondonV2,FakeManhattanV2,FakeManilaV2,FakeMelbourneV2,FakeMontrealV2,FakeMumbaiV2,FakeNairobiV2,FakeOslo,FakeOurenseV2,FakeParisV2,FakePerth,FakePrague,FakePoughkeepsieV2,FakeQuitoV2,FakeRochesterV2,FakeRomeV2,FakeSantiagoV2,FakeSherbrooke,FakeSingaporeV2,FakeSydneyV2,FakeTorontoV2,FakeValenciaV2,FakeVigoV2,FakeWashingtonV2,FakeYorktownV2]\n",
    "selected_fakes = random.sample(all_fakes, 5)"
   ]
  },
  {
   "cell_type": "code",
   "execution_count": 50,
   "id": "2dc8cb02-d894-4e72-b601-70eb0e91f567",
   "metadata": {},
   "outputs": [
    {
     "data": {
      "text/plain": [
       "[(<supermarq.benchmarks.ghz.GHZ at 0x7bee15498340>,\n",
       "  qiskit.providers.fake_provider.backends.prague.fake_prague.FakePrague,\n",
       "  <qiskit_aer.jobs.aerjob.AerJob at 0x7bedc8107fa0>),\n",
       " (<supermarq.benchmarks.ghz.GHZ at 0x7bee15498340>,\n",
       "  qiskit.providers.fake_provider.backends.guadalupe.fake_guadalupe.FakeGuadalupeV2,\n",
       "  <qiskit_aer.jobs.aerjob.AerJob at 0x7bedc18734f0>),\n",
       " (<supermarq.benchmarks.ghz.GHZ at 0x7bee15498340>,\n",
       "  qiskit.providers.fake_provider.backends.lagos.fake_lagos.FakeLagosV2,\n",
       "  <qiskit_aer.jobs.aerjob.AerJob at 0x7bedc818aad0>),\n",
       " (<supermarq.benchmarks.ghz.GHZ at 0x7bee15498340>,\n",
       "  qiskit.providers.fake_provider.backends.washington.fake_washington.FakeWashingtonV2,\n",
       "  <qiskit_aer.jobs.aerjob.AerJob at 0x7bedb87e4bb0>),\n",
       " (<supermarq.benchmarks.ghz.GHZ at 0x7bee15498340>,\n",
       "  qiskit.providers.fake_provider.backends.casablanca.fake_casablanca.FakeCasablancaV2,\n",
       "  <qiskit_aer.jobs.aerjob.AerJob at 0x7bedc9c4a650>)]"
      ]
     },
     "execution_count": 50,
     "metadata": {},
     "output_type": "execute_result"
    }
   ],
   "source": [
    "jobs =[]\n",
    "for backend in selected_fakes:\n",
    "    fake=backend\n",
    "    job = fake().run(ghz.qiskit_circuit(), shots=1000)\n",
    "    status=job.status()\n",
    "    #print(job.result())\n",
    "    jobs.append((ghz,fake, job))\n",
    "jobs"
   ]
  },
  {
   "cell_type": "code",
   "execution_count": null,
   "id": "b03369c6-fabb-47c0-a678-81a9b522ab57",
   "metadata": {},
   "outputs": [],
   "source": [
    "for ckt,backend,job in jobs:\n",
    "    \n",
    "\n",
    "#counts = job.result(0).get_counts()\n",
    "    #score = ghz_circuit.score(counts)"
   ]
  },
  {
   "cell_type": "code",
   "execution_count": null,
   "id": "dfa9c8a7-eb12-47b3-bd98-ea169aaed5f0",
   "metadata": {},
   "outputs": [],
   "source": [
    "score_all = {}\n",
    "for label, emulator in selected_fakes:\n",
    "  print(\"Hello\")"
   ]
  },
  {
   "cell_type": "code",
   "execution_count": null,
   "id": "452a098c-ffdb-4fd2-8de5-8e731500f912",
   "metadata": {},
   "outputs": [],
   "source": [
    "score_all = {}\n",
    "for label, emulator in selected_fakes:\n",
    "    print(emulator)\n",
    "    job = execute(transpile(ghz_circuit, backend_fake0), backend_fake0, shots=8192, memory=False)\n",
    "    #job = emulator.run(ghz_circuit, shots=1000)\n",
    "    #job = execute(transpile(ghz_circuit, emulator), emulator, shots=8192, memory=False)\n",
    "    status=job.status()\n",
    "    counts = job.result(0).get_counts()\n",
    "    score = benchmark.score(counts)\n",
    "    score_all.append((label, job, score))\n",
    "score_all"
   ]
  },
  {
   "cell_type": "code",
   "execution_count": null,
   "id": "036abeee-f037-414b-989c-a27b8a6bf6da",
   "metadata": {},
   "outputs": [],
   "source": [
    "counts = job.result().get_counts()\n",
    "print(counts)\n",
    "counts_fake0 = job_fake0.result().get_counts()\n",
    "print(counts_fake0)\n",
    "counts_fake1 = job_fake1.result().get_counts()\n",
    "print(counts_fake1)\n",
    "counts_fake2 = job_fake2.result().get_counts()\n",
    "print(counts_fake2)\n",
    "counts_fake3 = job_fake3.result().get_counts()\n",
    "print(counts_fake3)\n",
    "counts_fake4 = job_fake4.result().get_counts()\n",
    "print(counts_fake4)\n",
    "counts_fake5 = job_fake5.result().get_counts()\n",
    "print(counts_fake5)"
   ]
  },
  {
   "cell_type": "code",
   "execution_count": null,
   "id": "d84d4918-7188-459a-a7f0-20e6e364e862",
   "metadata": {},
   "outputs": [],
   "source": [
    "score = ghz.score(counts)\n",
    "print(score)\n",
    "score_fake0 = ghz.score(counts_fake0)\n",
    "print(score_fake0)\n",
    "score_fake1 = ghz.score(counts_fake1)\n",
    "print(score_fake1)\n",
    "score_fake2 = ghz.score(counts_fake2)\n",
    "print(score_fake2)\n",
    "score_fake3 = ghz.score(counts_fake3)\n",
    "print(score_fake3)\n",
    "score_fake4 = ghz.score(counts_fake4)\n",
    "print(score_fake4)\n",
    "score_fake5 = ghz.score(counts_fake5)\n",
    "print(scevice_scoresore_fake5)"
   ]
  },
  {
   "cell_type": "code",
   "execution_count": null,
   "id": "44a9929f-9592-431a-a2f8-99898b810807",
   "metadata": {},
   "outputs": [],
   "source": [
    "ghz_features = [supermarq.converters.compute_communication_with_qiskit(ghz_circuit),\n",
    "                supermarq.converters.compute_depth_with_qiskit(ghz_circuit),\n",
    "                supermarq.converters.compute_entanglement_with_qiskit(ghz_circuit),\n",
    "                supermarq.converters.compute_liveness_with_qiskit(ghz_circuit),\n",
    "                supermarq.converters.compute_measurement_with_qiskit(ghz_circuit),\n",
    "                supermarq.converters.compute_parallelism_with_qiskit(ghz_circuit),]\n",
    "print(ghz_features)\n",
    "print(\"--------------------------------------------------------------\")\n",
    "supermarq.plotting.plot_benchmark(\n",
    "    [\"A single GHZ benchmark\", [\"ghz5\"], [ghz_features]],\n",
    "    spoke_labels=[\"PC\", \"CD\", \"Ent\", \"Liv\", \"Mea\", \"Par\"],\n",
    ")"
   ]
  },
  {
   "cell_type": "code",
   "execution_count": null,
   "id": "e4ec7172-4721-42d8-bedd-6b9fb36954f9",
   "metadata": {},
   "outputs": [],
   "source": [
    "supermarq.plotting.plot_results([score], [\"ghz_5\"])\n",
    "supermarq.plotting.plot_results([score_fake0], [\"ghz_5\"])\n",
    "supermarq.plotting.plot_results([score_fake1], [\"ghz_5\"])\n",
    "supermarq.plotting.plot_results([score_fake2], [\"ghz_5\"])\n",
    "supermarq.plotting.plot_results([score_fake3], [\"ghz_5\"])\n",
    "supermarq.plotting.plot_results([score_fake4], [\"ghz_5\"])\n",
    "supermarq.plotting.plot_results([score_fake5], [\"ghz_5\"])\n"
   ]
  },
  {
   "cell_type": "code",
   "execution_count": null,
   "id": "49c76dfd-e816-44cf-b421-a1189504c27b",
   "metadata": {},
   "outputs": [],
   "source": [
    "benchmark_features = {}\n",
    "benchmarks = [(supermarq.ghz.GHZ(5), \"ghz5\"),(supermarq.ghz.GHZ(6), \"ghz6\"),]\n",
    "for benchmark, label in benchmarks:\n",
    "    benchmark_features[label] = [\n",
    "        supermarq.converters.compute_communication_with_qiskit(benchmark.qiskit_circuit()),\n",
    "        supermarq.converters.compute_depth_with_qiskit(benchmark.qiskit_circuit()),\n",
    "        supermarq.converters.compute_entanglement_with_qiskit(benchmark.qiskit_circuit()),\n",
    "        supermarq.converters.compute_liveness_with_qiskit(benchmark.qiskit_circuit()),\n",
    "        supermarq.converters.compute_measurement_with_qiskit(benchmark.qiskit_circuit()),\n",
    "        supermarq.converters.compute_parallelism_with_qiskit(benchmark.qiskit_circuit()),]\n",
    "print(benchmark_features)"
   ]
  },
  {
   "cell_type": "code",
   "execution_count": null,
   "id": "d784e32d-e1b8-474d-a865-b0833617428c",
   "metadata": {},
   "outputs": [],
   "source": [
    "jobs = []\n",
    "for benchmark, label in benchmarks:\n",
    "    job_dm = emulator_aer_dm.run(benchmark.qiskit_circuit(), shots=1000)\n",
    "    jobs.append((label, job_dm, benchmark))\n",
    "jobs"
   ]
  },
  {
   "cell_type": "code",
   "execution_count": null,
   "id": "0efb757b-eb38-455a-ae44-4fe73de880fc",
   "metadata": {},
   "outputs": [],
   "source": [
    "jobs_fake = []\n",
    "for benchmark, label in benchmarks:\n",
    "    job_fake = backend_fake0.run(benchmark.qiskit_circuit(), shots=1000)\n",
    "    jobs_fake.append((label, job_fake, benchmark))\n",
    "jobs_fake"
   ]
  },
  {
   "cell_type": "code",
   "execution_count": null,
   "id": "1a6df31d-d7f2-4562-8287-cb475cee509c",
   "metadata": {},
   "outputs": [],
   "source": [
    "device_scores = {}\n",
    "for label, job, benchmark in jobs:\n",
    "    counts = job.result(0).get_counts()\n",
    "    print(counts)\n",
    "    score = benchmark.score(counts)\n",
    "    print(score)\n",
    "    device_scores[label] = score"
   ]
  },
  {
   "cell_type": "code",
   "execution_count": null,
   "id": "5a030aca-8a97-4caf-b4d7-de35cd258d9f",
   "metadata": {},
   "outputs": [],
   "source": [
    "device_scores_fake = {}\n",
    "for label, job, benchmark in jobs_fake:\n",
    "    counts_fake = job.result(0).get_counts()\n",
    "    print(counts_fake)\n",
    "    score_fake = benchmark.score(counts_fake)\n",
    "    print(score_fake)\n",
    "    device_scores_fake[label] = score_fake"
   ]
  },
  {
   "cell_type": "code",
   "execution_count": null,
   "id": "6a17f45e-b157-4cc0-8ffc-0cf35009a732",
   "metadata": {},
   "outputs": [],
   "source": [
    "device_scores_fake "
   ]
  },
  {
   "cell_type": "code",
   "execution_count": null,
   "id": "61e27616-110f-475a-a39e-d2a9d11ab4a9",
   "metadata": {},
   "outputs": [],
   "source": [
    "device_scores"
   ]
  },
  {
   "cell_type": "code",
   "execution_count": null,
   "id": "c487140e-4cbb-4cf8-a2d4-5d1b562c3ed8",
   "metadata": {},
   "outputs": [],
   "source": [
    "supermarq.plotting.plot_correlations(benchmark_features,\n",
    "                                     [device_scores_fake, device_scores],\n",
    "                                     [\"PC\", \"CD\", \"Ent\", \"Liv\", \"Mea\", \"Par\"],\n",
    "                                     device_name=[\"aer_dm_sim\",\"FakeRueschlikon\"],\n",
    "                                     show=True,)"
   ]
  },
  {
   "cell_type": "code",
   "execution_count": null,
   "id": "b0948af7-59c8-448f-b251-936b92f0580d",
   "metadata": {},
   "outputs": [],
   "source": [
    "supermarq.plotting.plot_correlations(benchmark_features,\n",
    "                                     [device_scores_fake, device_scores],\n",
    "                                     [\"PC\", \"CD\", \"Ent\", \"Liv\", \"Mea\", \"Par\"],\n",
    "                                     device_name=[\"aer_dm_sim\",\"FakeRueschlikon\"],\n",
    "                                     show=True,)"
   ]
  }
 ],
 "metadata": {
  "kernelspec": {
   "display_name": "Python 3 (ipykernel)",
   "language": "python",
   "name": "python3"
  },
  "language_info": {
   "codemirror_mode": {
    "name": "ipython",
    "version": 3
   },
   "file_extension": ".py",
   "mimetype": "text/x-python",
   "name": "python",
   "nbconvert_exporter": "python",
   "pygments_lexer": "ipython3",
   "version": "3.10.14"
  }
 },
 "nbformat": 4,
 "nbformat_minor": 5
}
