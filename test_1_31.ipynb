{
 "cells": [
  {
   "cell_type": "code",
   "execution_count": null,
   "id": "4cc62b77-62b7-48a3-82f6-6a2daea1f9ac",
   "metadata": {},
   "outputs": [],
   "source": [
    "from qiskit.providers.fake_provider import fake_pulse_backend, fake_backend\n",
    "from qiskit.providers.fake_provider import *\n",
    "from qiskit.providers.backend import BackendV2\n",
    "from qiskit.providers.backend import *"
   ]
  },
  {
   "cell_type": "code",
   "execution_count": null,
   "id": "dcd5857c-7869-42f1-9be4-9795c04e3a1f",
   "metadata": {},
   "outputs": [],
   "source": []
  }
 ],
 "metadata": {
  "kernelspec": {
   "display_name": "Python 3 (ipykernel)",
   "language": "python",
   "name": "python3"
  },
  "language_info": {
   "codemirror_mode": {
    "name": "ipython",
    "version": 3
   },
   "file_extension": ".py",
   "mimetype": "text/x-python",
   "name": "python",
   "nbconvert_exporter": "python",
   "pygments_lexer": "ipython3",
   "version": "3.10.14"
  }
 },
 "nbformat": 4,
 "nbformat_minor": 5
}
