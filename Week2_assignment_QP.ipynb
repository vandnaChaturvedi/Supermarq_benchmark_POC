{
 "cells": [
  {
   "cell_type": "markdown",
   "id": "1c18e5c9",
   "metadata": {
    "tags": []
   },
   "source": [
    "# Week 2 Assignment : Quantum circuits\n",
    "Author : Anupama Ray, Research Scientist & IBM Quantum Technical Ambassador, IBM Research India"
   ]
  },
  {
   "cell_type": "markdown",
   "id": "27cf8b4b",
   "metadata": {},
   "source": [
    " We will learn to implement Basic circuits and Quantum concepts learnt in Week 1 and Week 2 of the course in this notebook. First lets import all the required libraries"
   ]
  },
  {
   "cell_type": "code",
   "execution_count": 20,
   "id": "75416166",
   "metadata": {},
   "outputs": [],
   "source": [
    "import numpy as np\n",
    "# Importing standard Qiskit libraries\n",
    "from qiskit import QuantumCircuit, transpile, Aer, IBMQ\n",
    "from qiskit.tools.jupyter import *\n",
    "from qiskit.visualization import *\n",
    "from qiskit_aer import AerSimulator\n",
    "from qiskit import *\n",
    "import supermarq , os\n",
    "from qiskit.providers.fake_provider import *\n",
    "import numpy as np\n",
    "#from ibm_quantum_widgets import *\n",
    "emulator = Aer.get_backend('aer_simulator_density_matrix')"
   ]
  },
  {
   "cell_type": "code",
   "execution_count": 21,
   "id": "400e033a-42f9-4761-a85d-b9d8c3a855c6",
   "metadata": {},
   "outputs": [],
   "source": [
    "emulator1 = Aer.get_backend('statevector_simulator')\n",
    "#|statevector_simulator"
   ]
  },
  {
   "cell_type": "code",
   "execution_count": 22,
   "id": "0562dbc8",
   "metadata": {},
   "outputs": [],
   "source": [
    "from qiskit import assemble\n",
    "import numpy as np\n",
    "import matplotlib.pyplot as plt"
   ]
  },
  {
   "cell_type": "markdown",
   "id": "406fe45f",
   "metadata": {},
   "source": [
    "Space for trying out answers\n",
    "You can add any new cells in this notebook to try to figure out the answers for questions.\n"
   ]
  },
  {
   "cell_type": "code",
   "execution_count": 23,
   "id": "cf51c9ab",
   "metadata": {},
   "outputs": [
    {
     "name": "stdout",
     "output_type": "stream",
     "text": [
      "{'000': 4066, '111': 4126}\n"
     ]
    }
   ],
   "source": [
    "qc = QuantumCircuit(3)\n",
    "qc.h(0)\n",
    "qc.cx(0, 1)\n",
    "qc.cx(0, 2)\n",
    "qc.measure_all()\n",
    "\n",
    "job = execute(transpile(qc, emulator1), emulator1, shots=8192, memory=True)\n",
    "#job = emulator.run(circuit, shots=1000)    \n",
    "#job = qiskit.execute(qc, qiskit.BasicAer.get_backend('qasm_simulator'), shots=1000)\n",
    "\n",
    "print(job.result().get_counts())   "
   ]
  },
  {
   "cell_type": "code",
   "execution_count": 24,
   "id": "2a5f6753-0fe3-4693-bbd6-8c5a74814192",
   "metadata": {},
   "outputs": [
    {
     "data": {
      "text/plain": [
       "Result(backend_name='statevector_simulator', backend_version='0.13.0', qobj_id='', job_id='ff282868-52b0-48f1-abec-89b5a697f2f1', success=True, results=[ExperimentResult(shots=8192, success=True, meas_level=2, data=ExperimentResultData(counts={'0x0': 4066, '0x7': 4126}, statevector=Statevector([1.+0.j, 0.+0.j, 0.+0.j, 0.+0.j, 0.+0.j, 0.+0.j, 0.+0.j,\n",
       "             0.+0.j],\n",
       "            dims=(2, 2, 2))), header=QobjExperimentHeader(creg_sizes=[['meas', 3]], global_phase=0.0, memory_slots=3, n_qubits=3, name='circuit-166', qreg_sizes=[['q', 3]], metadata={}), status=DONE, seed_simulator=4202704118, metadata={'time_taken': 0.036786649, 'num_bind_params': 1, 'parallel_state_update': 1, 'required_memory_mb': 1, 'input_qubit_map': [[2, 2], [1, 1], [0, 0]], 'method': 'statevector', 'device': 'CPU', 'num_qubits': 3, 'active_input_qubits': [0, 1, 2], 'num_clbits': 3, 'remapped_qubits': False, 'parallel_shots': 24, 'runtime_parameter_bind': False, 'max_memory_mb': 63964, 'noise': 'ideal', 'measure_sampling': False, 'batched_shots_optimization': False, 'result_types': {'statevector': 'save_statevector'}, 'result_subtypes': {'statevector': 'single'}, 'fusion': {'applied': False, 'max_fused_qubits': 5, 'threshold': 14, 'enabled': True}}, time_taken=0.036786649)], date=2024-07-26T11:45:08.638044, status=COMPLETED, header=None, metadata={'time_taken_parameter_binding': 9.583e-06, 'time_taken_execute': 0.036820085, 'omp_enabled': True, 'max_gpu_memory_mb': 0, 'max_memory_mb': 63964, 'parallel_experiments': 1}, time_taken=0.037261247634887695)"
      ]
     },
     "execution_count": 24,
     "metadata": {},
     "output_type": "execute_result"
    }
   ],
   "source": [
    "job.result()"
   ]
  },
  {
   "cell_type": "code",
   "execution_count": 27,
   "id": "22150467-652f-478a-9ea6-4bd3d45aa2ae",
   "metadata": {},
   "outputs": [
    {
     "ename": "QiskitError",
     "evalue": "'Invalid input data format for DensityMatrix'",
     "output_type": "error",
     "traceback": [
      "\u001b[0;31m---------------------------------------------------------------------------\u001b[0m",
      "\u001b[0;31mQiskitError\u001b[0m                               Traceback (most recent call last)",
      "Cell \u001b[0;32mIn[27], line 3\u001b[0m\n\u001b[1;32m      1\u001b[0m \u001b[38;5;28;01mfrom\u001b[39;00m \u001b[38;5;21;01mqiskit\u001b[39;00m\u001b[38;5;21;01m.\u001b[39;00m\u001b[38;5;21;01mvisualization\u001b[39;00m \u001b[38;5;28;01mimport\u001b[39;00m plot_state_city\n\u001b[1;32m      2\u001b[0m job \u001b[38;5;241m=\u001b[39m execute(transpile(qc, emulator), emulator, shots\u001b[38;5;241m=\u001b[39m\u001b[38;5;241m8192\u001b[39m, memory\u001b[38;5;241m=\u001b[39m\u001b[38;5;28;01mTrue\u001b[39;00m)\n\u001b[0;32m----> 3\u001b[0m \u001b[43mplot_state_city\u001b[49m\u001b[43m(\u001b[49m\u001b[43mjob\u001b[49m\u001b[38;5;241;43m.\u001b[39;49m\u001b[43mresult\u001b[49m\u001b[43m(\u001b[49m\u001b[43m)\u001b[49m\u001b[43m,\u001b[49m\u001b[43m \u001b[49m\u001b[43mcolor\u001b[49m\u001b[38;5;241;43m=\u001b[39;49m\u001b[43m[\u001b[49m\u001b[38;5;124;43m'\u001b[39;49m\u001b[38;5;124;43mmidnightblue\u001b[39;49m\u001b[38;5;124;43m'\u001b[39;49m\u001b[43m,\u001b[49m\u001b[43m \u001b[49m\u001b[38;5;124;43m'\u001b[39;49m\u001b[38;5;124;43mcrimson\u001b[39;49m\u001b[38;5;124;43m'\u001b[39;49m\u001b[43m]\u001b[49m\u001b[43m,\u001b[49m\u001b[43m \u001b[49m\u001b[43mtitle\u001b[49m\u001b[38;5;241;43m=\u001b[39;49m\u001b[38;5;124;43m\"\u001b[39;49m\u001b[38;5;124;43mNew State City\u001b[39;49m\u001b[38;5;124;43m\"\u001b[39;49m\u001b[43m)\u001b[49m\n",
      "File \u001b[0;32m~/anaconda3/envs/qiskit-venv/lib/python3.10/site-packages/qiskit/utils/lazy_tester.py:165\u001b[0m, in \u001b[0;36mLazyDependencyManager.require_in_call.<locals>.out\u001b[0;34m(*args, **kwargs)\u001b[0m\n\u001b[1;32m    162\u001b[0m \u001b[38;5;129m@functools\u001b[39m\u001b[38;5;241m.\u001b[39mwraps(function)\n\u001b[1;32m    163\u001b[0m \u001b[38;5;28;01mdef\u001b[39;00m \u001b[38;5;21mout\u001b[39m(\u001b[38;5;241m*\u001b[39margs, \u001b[38;5;241m*\u001b[39m\u001b[38;5;241m*\u001b[39mkwargs):\n\u001b[1;32m    164\u001b[0m     \u001b[38;5;28mself\u001b[39m\u001b[38;5;241m.\u001b[39mrequire_now(feature)\n\u001b[0;32m--> 165\u001b[0m     \u001b[38;5;28;01mreturn\u001b[39;00m \u001b[43mfunction\u001b[49m\u001b[43m(\u001b[49m\u001b[38;5;241;43m*\u001b[39;49m\u001b[43margs\u001b[49m\u001b[43m,\u001b[49m\u001b[43m \u001b[49m\u001b[38;5;241;43m*\u001b[39;49m\u001b[38;5;241;43m*\u001b[39;49m\u001b[43mkwargs\u001b[49m\u001b[43m)\u001b[49m\n",
      "File \u001b[0;32m~/anaconda3/envs/qiskit-venv/lib/python3.10/site-packages/qiskit/visualization/state_visualization.py:454\u001b[0m, in \u001b[0;36mplot_state_city\u001b[0;34m(state, title, figsize, color, alpha, ax_real, ax_imag, filename)\u001b[0m\n\u001b[1;32m    451\u001b[0m \u001b[38;5;28;01mfrom\u001b[39;00m \u001b[38;5;21;01mmatplotlib\u001b[39;00m \u001b[38;5;28;01mimport\u001b[39;00m pyplot \u001b[38;5;28;01mas\u001b[39;00m plt\n\u001b[1;32m    452\u001b[0m \u001b[38;5;28;01mfrom\u001b[39;00m \u001b[38;5;21;01mmpl_toolkits\u001b[39;00m\u001b[38;5;21;01m.\u001b[39;00m\u001b[38;5;21;01mmplot3d\u001b[39;00m\u001b[38;5;21;01m.\u001b[39;00m\u001b[38;5;21;01mart3d\u001b[39;00m \u001b[38;5;28;01mimport\u001b[39;00m Poly3DCollection\n\u001b[0;32m--> 454\u001b[0m rho \u001b[38;5;241m=\u001b[39m \u001b[43mDensityMatrix\u001b[49m\u001b[43m(\u001b[49m\u001b[43mstate\u001b[49m\u001b[43m)\u001b[49m\n\u001b[1;32m    455\u001b[0m num \u001b[38;5;241m=\u001b[39m rho\u001b[38;5;241m.\u001b[39mnum_qubits\n\u001b[1;32m    456\u001b[0m \u001b[38;5;28;01mif\u001b[39;00m num \u001b[38;5;129;01mis\u001b[39;00m \u001b[38;5;28;01mNone\u001b[39;00m:\n",
      "File \u001b[0;32m~/anaconda3/envs/qiskit-venv/lib/python3.10/site-packages/qiskit/quantum_info/states/densitymatrix.py:99\u001b[0m, in \u001b[0;36mDensityMatrix.__init__\u001b[0;34m(self, data, dims)\u001b[0m\n\u001b[1;32m     97\u001b[0m     \u001b[38;5;28mself\u001b[39m\u001b[38;5;241m.\u001b[39m_data \u001b[38;5;241m=\u001b[39m np\u001b[38;5;241m.\u001b[39masarray(data\u001b[38;5;241m.\u001b[39mto_matrix(), dtype\u001b[38;5;241m=\u001b[39m\u001b[38;5;28mcomplex\u001b[39m)\n\u001b[1;32m     98\u001b[0m \u001b[38;5;28;01melse\u001b[39;00m:\n\u001b[0;32m---> 99\u001b[0m     \u001b[38;5;28;01mraise\u001b[39;00m QiskitError(\u001b[38;5;124m\"\u001b[39m\u001b[38;5;124mInvalid input data format for DensityMatrix\u001b[39m\u001b[38;5;124m\"\u001b[39m)\n\u001b[1;32m    100\u001b[0m \u001b[38;5;66;03m# Convert statevector into a density matrix\u001b[39;00m\n\u001b[1;32m    101\u001b[0m ndim \u001b[38;5;241m=\u001b[39m \u001b[38;5;28mself\u001b[39m\u001b[38;5;241m.\u001b[39m_data\u001b[38;5;241m.\u001b[39mndim\n",
      "\u001b[0;31mQiskitError\u001b[0m: 'Invalid input data format for DensityMatrix'"
     ]
    }
   ],
   "source": [
    "from qiskit.visualization import plot_state_city\n",
    "job = execute(transpile(qc, emulator), emulator, shots=8192, memory=True)\n",
    "plot_state_city(job.result(), color=['midnightblue', 'crimson'], title=\"New State City\")"
   ]
  },
  {
   "cell_type": "markdown",
   "id": "620efacc",
   "metadata": {
    "tags": []
   },
   "source": [
    "Exercise 2.1\n",
    "# Question 1\n",
    "Create a Quantum Circuit acting on a quantum register of three qubits, set the first qubit to superposition and entangle with the other qubits. \n",
    "You need to complete the function in the cell below to Create the above mentioned entangled state. \n",
    " This Function should take a circuit object 'ckt', and an integer 'n' : The number of data qubits \n",
    " "
   ]
  },
  {
   "cell_type": "code",
   "execution_count": 4,
   "id": "362314a2",
   "metadata": {},
   "outputs": [],
   "source": [
    "ckt = QuantumCircuit(3)\n",
    "def create_entangledstate_function(ckt):\n",
    "    \n",
    "    pass\n",
    "    \n",
    "\n",
    "\n"
   ]
  },
  {
   "cell_type": "markdown",
   "id": "c1478a6f",
   "metadata": {},
   "source": [
    "To run the above circuit using the statevector simulator, first you need to import Aer and then set the backend to statevector_simulator. "
   ]
  },
  {
   "cell_type": "code",
   "execution_count": 5,
   "id": "032a1195",
   "metadata": {},
   "outputs": [],
   "source": [
    "# Import Aer\n",
    "from qiskit import Aer\n",
    "\n",
    "# Run the quantum circuit on a statevector simulator backend\n",
    "backend = Aer.get_backend('statevector_simulator')\n",
    "# Create a Quantum Program for execution\n",
    "job = backend.run(ckt)\n",
    "result = job.result()\n",
    "\n",
    "\n"
   ]
  },
  {
   "cell_type": "markdown",
   "id": "5b53b991-1778-4a88-b865-59528373a225",
   "metadata": {},
   "source": [
    "# Question 1.1\n",
    "What is the the state vector for the quantum circuit? "
   ]
  },
  {
   "cell_type": "code",
   "execution_count": 6,
   "id": "f2d5b20d-3571-473a-b9b8-22b3bd96e5fc",
   "metadata": {},
   "outputs": [
    {
     "ename": "SyntaxError",
     "evalue": "invalid syntax (3866570419.py, line 2)",
     "output_type": "error",
     "traceback": [
      "\u001b[0;36m  Cell \u001b[0;32mIn[6], line 2\u001b[0;36m\u001b[0m\n\u001b[0;31m    outputstate =\u001b[0m\n\u001b[0m                  ^\u001b[0m\n\u001b[0;31mSyntaxError\u001b[0m\u001b[0;31m:\u001b[0m invalid syntax\n"
     ]
    }
   ],
   "source": [
    "#complete the line to print the outputstate\n",
    "outputstate = \n",
    "print(outputstate)"
   ]
  },
  {
   "cell_type": "markdown",
   "id": "7817d41a",
   "metadata": {},
   "source": [
    "# Question 1.2\n",
    "use the visualization function to plot the real and imaginary components of the state density matrix ρ.\n"
   ]
  },
  {
   "cell_type": "code",
   "execution_count": null,
   "id": "6d5103b4",
   "metadata": {},
   "outputs": [],
   "source": [
    "from qiskit.visualization import *\n",
    "#use the appropriate visualization tool to plot real and imaginary components of the state density matrix"
   ]
  },
  {
   "cell_type": "markdown",
   "id": "ec877173-774f-414a-b9d6-68abe44661d4",
   "metadata": {},
   "source": [
    "Lets create a helper function that we can use multiple times. This function will execute a circuit on the state vector simulator and return state vector results, circuit diagram and Qsphere."
   ]
  },
  {
   "cell_type": "code",
   "execution_count": null,
   "id": "d6c850e4-f643-446f-b4da-5c061fa62395",
   "metadata": {},
   "outputs": [],
   "source": [
    "# Will execute the circuit on the state vector (sv) simulator\n",
    "# Returns state vector results, circuit diagram, and QSphere \n",
    "def execute_circuit_sv(quantum_circuit):\n",
    "    #Create a state vector simulator\n",
    "    statevector_simulator = Aer.get_backend('statevector_simulator')\n",
    "    #Execute the circuit on the simulator\n",
    "    result = execute(quantum_circuit, statevector_simulator).result()\n",
    "    #Assign state vector results\n",
    "    statevector_results  = result.get_statevector(quantum_circuit)\n",
    "    #Draw the circuit diagram\n",
    "    circuit_diagram = quantum_circuit.draw()\n",
    "    #Draw the Qsphere \n",
    "    q_sphere = plot_state_qsphere(statevector_results)\n",
    "    #Return the results, circuit diagram, and QSphere\t\t\n",
    "    return statevector_results, circuit_diagram, q_sphere"
   ]
  },
  {
   "cell_type": "code",
   "execution_count": null,
   "id": "50023cb1-3819-4e63-a378-ea8e4e134b3c",
   "metadata": {},
   "outputs": [],
   "source": [
    "#complete the following lines to execute circuit\n",
    "execute_circuit_sv()"
   ]
  },
  {
   "cell_type": "markdown",
   "id": "77073f48",
   "metadata": {},
   "source": [
    "#Question 2\n",
    "\n",
    "Demonstrating Phase kickback - ability to negate a state vector (add an X gate before H and Z gates)\n",
    "premise:\n",
    "Working with Phase gate (Pauli Z gate) which rotates along the longitude of the Hilbert space, hence the phase of the Hilbert space. So lets first create a circuit for Z gate\n"
   ]
  },
  {
   "cell_type": "code",
   "execution_count": null,
   "id": "d0f3edfe",
   "metadata": {},
   "outputs": [],
   "source": [
    "#single qubit circuit creation\n",
    "qc = QuantumCircuit(1)\n",
    "qc.x(0)\n",
    "qc.h(0) #set qubit to superposition\n",
    "qc.z(0) #add Z gate to rotate out of phase by pi/2\n",
    "#write the next lines to execute circuit and capture results\n"
   ]
  },
  {
   "cell_type": "code",
   "execution_count": null,
   "id": "13d34085",
   "metadata": {},
   "outputs": [],
   "source": []
  },
  {
   "cell_type": "markdown",
   "id": "7e9342ac",
   "metadata": {},
   "source": [
    "So Z gate provides a way to perform a phase shift on a qubit causing the state of teh qubit to change its sign from psoitive to negative.\n",
    "If x gate is used then the state result becomes negative. This ability to negate a state vector is called Phase Kickback."
   ]
  },
  {
   "cell_type": "code",
   "execution_count": null,
   "id": "c87ec42f",
   "metadata": {},
   "outputs": [],
   "source": []
  },
  {
   "cell_type": "markdown",
   "id": "b59dc5aa",
   "metadata": {},
   "source": [
    "# References \n",
    "\n",
    "1. I. Chuang & M. Nielsen, \"Quantum Computation and Quantum Information\", Cambridge: Cambridge University Press, 2000.\n",
    "\n",
    "2. Qiskit Textbook : https://qiskit.org/textbook/\n"
   ]
  }
 ],
 "metadata": {
  "kernelspec": {
   "display_name": "Python 3 (ipykernel)",
   "language": "python",
   "name": "python3"
  },
  "language_info": {
   "codemirror_mode": {
    "name": "ipython",
    "version": 3
   },
   "file_extension": ".py",
   "mimetype": "text/x-python",
   "name": "python",
   "nbconvert_exporter": "python",
   "pygments_lexer": "ipython3",
   "version": "3.10.14"
  },
  "widgets": {
   "application/vnd.jupyter.widget-state+json": {
    "state": {},
    "version_major": 2,
    "version_minor": 0
   }
  }
 },
 "nbformat": 4,
 "nbformat_minor": 5
}
