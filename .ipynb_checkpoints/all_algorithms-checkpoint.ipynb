{
 "cells": [
  {
   "cell_type": "code",
   "execution_count": 1,
   "id": "73c0cb18-d087-4e67-9431-75bafb11742e",
   "metadata": {},
   "outputs": [
    {
     "ename": "ImportError",
     "evalue": "cannot import name 'ProviderV1' from 'qiskit.providers' (unknown location)",
     "output_type": "error",
     "traceback": [
      "\u001b[0;31m---------------------------------------------------------------------------\u001b[0m",
      "\u001b[0;31mImportError\u001b[0m                               Traceback (most recent call last)",
      "Cell \u001b[0;32mIn[1], line 1\u001b[0m\n\u001b[0;32m----> 1\u001b[0m \u001b[38;5;28;01mfrom\u001b[39;00m \u001b[38;5;21;01mqiskit_aer\u001b[39;00m \u001b[38;5;28;01mimport\u001b[39;00m AerSimulator\n\u001b[1;32m      2\u001b[0m \u001b[38;5;28;01mfrom\u001b[39;00m \u001b[38;5;21;01mqiskit\u001b[39;00m \u001b[38;5;28;01mimport\u001b[39;00m \u001b[38;5;241m*\u001b[39m\n\u001b[1;32m      3\u001b[0m \u001b[38;5;28;01mimport\u001b[39;00m \u001b[38;5;21;01msupermarq\u001b[39;00m \u001b[38;5;241m,\u001b[39m \u001b[38;5;21;01mos\u001b[39;00m\n",
      "File \u001b[0;32m~/anaconda3/envs/test3_3.8/lib/python3.8/site-packages/qiskit_aer/__init__.py:70\u001b[0m\n\u001b[1;32m     66\u001b[0m     np\u001b[38;5;241m.\u001b[39mdot(np\u001b[38;5;241m.\u001b[39mzeros(\u001b[38;5;241m100\u001b[39m), np\u001b[38;5;241m.\u001b[39mzeros(\u001b[38;5;241m100\u001b[39m))\n\u001b[1;32m     67\u001b[0m \u001b[38;5;66;03m# ... ¯\\_(ツ)_/¯\u001b[39;00m\n\u001b[1;32m     68\u001b[0m \n\u001b[1;32m     69\u001b[0m \u001b[38;5;66;03m# pylint: disable=wrong-import-position\u001b[39;00m\n\u001b[0;32m---> 70\u001b[0m \u001b[38;5;28;01mfrom\u001b[39;00m \u001b[38;5;21;01mqiskit_aer\u001b[39;00m\u001b[38;5;21;01m.\u001b[39;00m\u001b[38;5;21;01maerprovider\u001b[39;00m \u001b[38;5;28;01mimport\u001b[39;00m AerProvider\n\u001b[1;32m     71\u001b[0m \u001b[38;5;28;01mfrom\u001b[39;00m \u001b[38;5;21;01mqiskit_aer\u001b[39;00m\u001b[38;5;21;01m.\u001b[39;00m\u001b[38;5;21;01mjobs\u001b[39;00m \u001b[38;5;28;01mimport\u001b[39;00m AerJob, AerJobSet\n\u001b[1;32m     72\u001b[0m \u001b[38;5;28;01mfrom\u001b[39;00m \u001b[38;5;21;01mqiskit_aer\u001b[39;00m\u001b[38;5;21;01m.\u001b[39;00m\u001b[38;5;21;01maererror\u001b[39;00m \u001b[38;5;28;01mimport\u001b[39;00m AerError\n",
      "File \u001b[0;32m~/anaconda3/envs/test3_3.8/lib/python3.8/site-packages/qiskit_aer/aerprovider.py:18\u001b[0m\n\u001b[1;32m     14\u001b[0m \u001b[38;5;124;03m\"\"\"Provider for Qiskit Aer backends.\"\"\"\u001b[39;00m\n\u001b[1;32m     16\u001b[0m \u001b[38;5;28;01mimport\u001b[39;00m \u001b[38;5;21;01mwarnings\u001b[39;00m\n\u001b[0;32m---> 18\u001b[0m \u001b[38;5;28;01mfrom\u001b[39;00m \u001b[38;5;21;01mqiskit\u001b[39;00m\u001b[38;5;21;01m.\u001b[39;00m\u001b[38;5;21;01mproviders\u001b[39;00m \u001b[38;5;28;01mimport\u001b[39;00m ProviderV1 \u001b[38;5;28;01mas\u001b[39;00m Provider\n\u001b[1;32m     19\u001b[0m \u001b[38;5;28;01mfrom\u001b[39;00m \u001b[38;5;21;01mqiskit\u001b[39;00m\u001b[38;5;21;01m.\u001b[39;00m\u001b[38;5;21;01mproviders\u001b[39;00m\u001b[38;5;21;01m.\u001b[39;00m\u001b[38;5;21;01mproviderutils\u001b[39;00m \u001b[38;5;28;01mimport\u001b[39;00m filter_backends\n\u001b[1;32m     21\u001b[0m \u001b[38;5;28;01mfrom\u001b[39;00m \u001b[38;5;21;01m.\u001b[39;00m\u001b[38;5;21;01mbackends\u001b[39;00m\u001b[38;5;21;01m.\u001b[39;00m\u001b[38;5;21;01maer_simulator\u001b[39;00m \u001b[38;5;28;01mimport\u001b[39;00m AerSimulator\n",
      "\u001b[0;31mImportError\u001b[0m: cannot import name 'ProviderV1' from 'qiskit.providers' (unknown location)"
     ]
    }
   ],
   "source": [
    "from qiskit_aer import AerSimulator\n",
    "from qiskit import *\n",
    "import supermarq , os\n",
    "from qiskit.providers.fake_provider import *\n",
    "import numpy as np"
   ]
  },
  {
   "cell_type": "code",
   "execution_count": null,
   "id": "90f74c95-9f9b-4e10-ae90-3b2380b7c753",
   "metadata": {},
   "outputs": [],
   "source": [
    "all_fakes=[FakeAlmadenV2,FakeArmonkV2,FakeAthensV2,FakeAuckland,FakeBelemV2,FakeBoeblingenV2,FakeBogotaV2,FakeBrooklynV2,FakeBurlingtonV2,FakeCairoV2,FakeCambridgeV2,FakeCasablancaV2,FakeEssexV2,FakeGeneva,FakeGuadalupeV2,FakeHanoiV2,FakeJakartaV2,FakeJohannesburgV2,FakeKolkataV2,FakeLagosV2,FakeLimaV2,FakeLondonV2,FakeManhattanV2,FakeManilaV2,FakeMelbourneV2,FakeMontrealV2,FakeMumbaiV2,FakeNairobiV2,FakeOslo,FakeOurenseV2,FakeParisV2,FakePerth,FakePrague,FakePoughkeepsieV2,FakeQuitoV2,FakeRochesterV2,FakeRomeV2,FakeSantiagoV2,FakeSherbrooke,FakeSingaporeV2,FakeSydneyV2,FakeTorontoV2,FakeValenciaV2,FakeVigoV2,FakeWashingtonV2,FakeYorktownV2]\n",
    "import random; selected_fakes = random.sample(all_fakes, 5)\n",
    "selected_fakes  # having any randomly selected 5 fake backends out of 46 mentioned in the inital list"
   ]
  },
  {
   "cell_type": "code",
   "execution_count": null,
   "id": "157fda5c-7a99-4184-9fa5-d123ca2c9fe9",
   "metadata": {
    "scrolled": true
   },
   "outputs": [],
   "source": [
    "benchmarks = [\n",
    "    (supermarq.bit_code.BitCode(3, 3, [1, 0, 1]), \"bitcode3\"),\n",
    "    (supermarq.ghz.GHZ(3), \"ghz3\"),\n",
    "    (supermarq.hamiltonian_simulation.HamiltonianSimulation(3), \"hsim3\"),\n",
    "    (supermarq.mermin_bell.MerminBell(3), \"marmin_bell_3\"),\n",
    "    (supermarq.qaoa_fermionic_swap_proxy.QAOAFermionicSwapProxy(3), \"qaoa_swap_proxy3\"),\n",
    "    (supermarq.qaoa_vanilla_proxy.QAOAVanillaProxy(3), \"qaoa_vanilla_proxy3\"),]  \n",
    "\n",
    "for i in benchmarks:\n",
    "    circuit=i[0].qiskit_circuit()\n",
    "    print(i[1],\"\\n\")\n",
    "    print(circuit.draw())"
   ]
  },
  {
   "cell_type": "code",
   "execution_count": null,
   "id": "b9a8eda9-471c-43a8-b3f2-9862c57bc789",
   "metadata": {},
   "outputs": [],
   "source": [
    "benchmark_features = {}\n",
    "for benchmark, label in benchmarks:\n",
    "    benchmark_features[label] = [\n",
    "        supermarq.converters.compute_communication_with_qiskit(benchmark.qiskit_circuit()),\n",
    "        supermarq.converters.compute_depth_with_qiskit(benchmark.qiskit_circuit()),\n",
    "        supermarq.converters.compute_entanglement_with_qiskit(benchmark.qiskit_circuit()),\n",
    "        supermarq.converters.compute_liveness_with_qiskit(benchmark.qiskit_circuit()),\n",
    "        supermarq.converters.compute_measurement_with_qiskit(benchmark.qiskit_circuit()),\n",
    "        supermarq.converters.compute_parallelism_with_qiskit(benchmark.qiskit_circuit()),]\n",
    "print(benchmark_features)"
   ]
  },
  {
   "cell_type": "code",
   "execution_count": null,
   "id": "78ceb8da-9c66-4751-9ac4-6b6dcb697aaf",
   "metadata": {},
   "outputs": [],
   "source": [
    "jobs =[]\n",
    "print(\"=============SCORES OF ALL THE CIRCUITS=============\")    \n",
    "for backend in selected_fakes:\n",
    "    print(\"------------------------BACKEND-NAME :: \", backend().name)\n",
    "    for benchmark, label in benchmarks:\n",
    "        circuit=benchmark.qiskit_circuit()\n",
    "        job = backend().run(circuit, shots=1000)\n",
    "        result=job.result()\n",
    "        counts = job.result(0).get_counts()\n",
    "        score = benchmark.score(counts)\n",
    "        print(label,\" :: \",score)\n",
    "        #counts=job.result(0).count()\n",
    "        jobs.append((label,benchmark,backend,job,score))\n",
    "#jobs"
   ]
  },
  {
   "cell_type": "code",
   "execution_count": null,
   "id": "4d06b228-1c26-41bd-9161-aa2b5866fc40",
   "metadata": {},
   "outputs": [],
   "source": [
    "all_scores={}  \n",
    "all_fake_names=[]\n",
    "all_fake_scores=[]\n",
    "for i in selected_fakes:\n",
    "    fakes=i\n",
    "    #print(\"SELCETED_FAKES:: \",i)\n",
    "    i={}\n",
    "    for label,benchmark,backend,job,score in jobs:\n",
    "        #supermarq.plotting.plot_results([score], [label])\n",
    "        if fakes == backend:\n",
    "            i[label] = score\n",
    "    device_scores = 'device_score_' +str(fakes().name)\n",
    "    all_scores[device_scores]= i\n",
    "    all_fake_scores.append(i)\n",
    "    all_fake_names.append(device_scores)   \n",
    "#print(all_scores)    "
   ]
  },
  {
   "cell_type": "code",
   "execution_count": null,
   "id": "2dc8cb02-d894-4e72-b601-70eb0e91f567",
   "metadata": {},
   "outputs": [],
   "source": [
    "for label,benchmark,backend,job,score in jobs:\n",
    "    #backend=backend().name\n",
    "    print(\"USED BACKEND::\",backend().name,\"; CIRCUIT_NAME:\",label,\"; COUNTS :\", counts, \"; SCORE =\",score)\n",
    "    supermarq.plotting.plot_results([score], [label])\n",
    "    print(\"-----------------------------------------------------------\")"
   ]
  },
  {
   "cell_type": "code",
   "execution_count": null,
   "id": "13d2e4d9-651d-4c20-b21e-e45c896d9406",
   "metadata": {
    "scrolled": true
   },
   "outputs": [],
   "source": [
    "for label, scores in benchmark_features.items(): \n",
    "    r=\"A single \"+label+\" Benchmark\"\n",
    "    supermarq.plotting.plot_benchmark(\n",
    "    [r, [label], [scores]],\n",
    "    spoke_labels=[\"PC\", \"CD\", \"Ent\", \"Liv\", \"Mea\", \"Par\"],\n",
    "    )\n",
    "    print(\"-----------------------------------------------------------\")"
   ]
  },
  {
   "cell_type": "code",
   "execution_count": null,
   "id": "c487140e-4cbb-4cf8-a2d4-5d1b562c3ed8",
   "metadata": {},
   "outputs": [],
   "source": [
    "supermarq.plotting.plot_correlations(benchmark_features,all_fake_scores,[\"PC\", \"CD\", \"Ent\", \"Liv\", \"Mea\", \"Par\"],device_name=all_fake_names,show=True,)"
   ]
  }
 ],
 "metadata": {
  "kernelspec": {
   "display_name": "Python 3 (ipykernel)",
   "language": "python",
   "name": "python3"
  },
  "language_info": {
   "codemirror_mode": {
    "name": "ipython",
    "version": 3
   },
   "file_extension": ".py",
   "mimetype": "text/x-python",
   "name": "python",
   "nbconvert_exporter": "python",
   "pygments_lexer": "ipython3",
   "version": "3.8.0"
  }
 },
 "nbformat": 4,
 "nbformat_minor": 5
}
