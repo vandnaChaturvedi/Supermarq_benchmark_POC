{
 "cells": [
  {
   "cell_type": "code",
   "execution_count": 1,
   "id": "55f19af5-7332-4b7b-8548-c31e3c40f528",
   "metadata": {},
   "outputs": [],
   "source": [
    "from qiskit_aer import AerSimulator\n",
    "from qiskit import *\n",
    "import supermarq\n",
    "from qiskit.providers.fake_provider import *\n",
    "import numpy as np \n",
    "import os\n",
    "\n",
    "########## INPUT ############\n",
    "f=5 # number of fake_backend want to choose\n",
    "lower_limit= 3 # the lower limit of qubits for the circuit\n",
    "upper_limit= 17 # the lower limit of qubits for the circuit\n",
    "steps= 2 #jump in qubit numbers\n",
    "name_of_algo='vanilla_qaoa'"
   ]
  },
  {
   "cell_type": "code",
   "execution_count": 2,
   "id": "c4e03a4b-82dd-4174-a253-da954e75e7d8",
   "metadata": {},
   "outputs": [
    {
     "data": {
      "text/plain": [
       "[qiskit.providers.fake_provider.backends.lagos.fake_lagos.FakeLagosV2,\n",
       " qiskit.providers.fake_provider.backends.singapore.fake_singapore.FakeSingaporeV2,\n",
       " qiskit.providers.fake_provider.backends.armonk.fake_armonk.FakeArmonkV2,\n",
       " qiskit.providers.fake_provider.backends.auckland.fake_auckland.FakeAuckland,\n",
       " qiskit.providers.fake_provider.backends.sydney.fake_sydney.FakeSydneyV2]"
      ]
     },
     "execution_count": 2,
     "metadata": {},
     "output_type": "execute_result"
    }
   ],
   "source": [
    "all_fakes=[FakeAlmadenV2,FakeArmonkV2,FakeAthensV2,FakeAuckland,FakeBelemV2,FakeBoeblingenV2,FakeBogotaV2,FakeBrooklynV2,FakeBurlingtonV2,FakeCairoV2,FakeCambridgeV2,FakeCasablancaV2,FakeEssexV2,FakeGeneva,FakeGuadalupeV2,FakeHanoiV2,FakeJakartaV2,FakeJohannesburgV2,FakeKolkataV2,FakeLagosV2,FakeLimaV2,FakeLondonV2,FakeManhattanV2,FakeManilaV2,FakeMelbourneV2,FakeMontrealV2,FakeMumbaiV2,FakeNairobiV2,FakeOslo,FakeOurenseV2,FakeParisV2,FakePerth,FakePrague,FakePoughkeepsieV2,FakeQuitoV2,FakeRochesterV2,FakeRomeV2,FakeSantiagoV2,FakeSherbrooke,FakeSingaporeV2,FakeSydneyV2,FakeTorontoV2,FakeValenciaV2,FakeVigoV2,FakeWashingtonV2,FakeYorktownV2]\n",
    "import random; selected_fakes = random.sample(all_fakes, f)\n",
    "selected_fakes  # having any randomly selected 5 fake backends out of 46 mentioned in the inital list"
   ]
  },
  {
   "cell_type": "code",
   "execution_count": 3,
   "id": "8d4823e6-f4a7-48c4-b2bb-98281393fb17",
   "metadata": {},
   "outputs": [
    {
     "ename": "TypeError",
     "evalue": "list.append() takes exactly one argument (2 given)",
     "output_type": "error",
     "traceback": [
      "\u001b[0;31m---------------------------------------------------------------------------\u001b[0m",
      "\u001b[0;31mTypeError\u001b[0m                                 Traceback (most recent call last)",
      "Cell \u001b[0;32mIn[3], line 4\u001b[0m\n\u001b[1;32m      2\u001b[0m \u001b[38;5;28;01mfor\u001b[39;00m i \u001b[38;5;129;01min\u001b[39;00m \u001b[38;5;28mrange\u001b[39m(lower_limit,upper_limit,steps):\n\u001b[1;32m      3\u001b[0m     label \u001b[38;5;241m=\u001b[39m name_of_algo\u001b[38;5;241m+\u001b[39m\u001b[38;5;28mstr\u001b[39m(i)\n\u001b[0;32m----> 4\u001b[0m     \u001b[43mbenchmarks\u001b[49m\u001b[38;5;241;43m.\u001b[39;49m\u001b[43mappend\u001b[49m\u001b[43m(\u001b[49m\u001b[43msupermarq\u001b[49m\u001b[38;5;241;43m.\u001b[39;49m\u001b[43mqaoa_vanilla_proxy\u001b[49m\u001b[38;5;241;43m.\u001b[39;49m\u001b[43mQAOAVanillaProxy\u001b[49m\u001b[43m(\u001b[49m\u001b[43mi\u001b[49m\u001b[43m)\u001b[49m\u001b[43m,\u001b[49m\u001b[43mlabel\u001b[49m\u001b[43m)\u001b[49m\n\u001b[1;32m      5\u001b[0m \u001b[38;5;28;01mfor\u001b[39;00m i \u001b[38;5;129;01min\u001b[39;00m benchmarks:\n\u001b[1;32m      6\u001b[0m     circuit\u001b[38;5;241m=\u001b[39mi[\u001b[38;5;241m0\u001b[39m]\u001b[38;5;241m.\u001b[39mqiskit_circuit()\n",
      "\u001b[0;31mTypeError\u001b[0m: list.append() takes exactly one argument (2 given)"
     ]
    }
   ],
   "source": [
    "benchmarks=[]\n",
    "for i in range(lower_limit,upper_limit,steps):\n",
    "    label = name_of_algo+str(i)\n",
    "    benchmarks.append((supermarq.qaoa_vanilla_proxy.QAOAVanillaProxy(i),label))\n",
    "for i in benchmarks:\n",
    "    circuit=i[0].qiskit_circuit()\n",
    "    print(\"--------------------------\",i[1],\"---------------------------\")\n",
    "    #circuit.draw(output=\"mpl\")\n",
    "    print(circuit.draw())"
   ]
  },
  {
   "cell_type": "code",
   "execution_count": null,
   "id": "1f56c735-9507-4fff-81af-9af404fff4cb",
   "metadata": {},
   "outputs": [],
   "source": [
    "benchmark_features = {}\n",
    "for benchmark, label in benchmarks:\n",
    "    benchmark_features[label] = [\n",
    "        supermarq.converters.compute_communication_with_qiskit(benchmark.qiskit_circuit()),\n",
    "        supermarq.converters.compute_depth_with_qiskit(benchmark.qiskit_circuit()),\n",
    "        supermarq.converters.compute_entanglement_with_qiskit(benchmark.qiskit_circuit()),\n",
    "        supermarq.converters.compute_liveness_with_qiskit(benchmark.qiskit_circuit()),\n",
    "        supermarq.converters.compute_measurement_with_qiskit(benchmark.qiskit_circuit()),\n",
    "        supermarq.converters.compute_parallelism_with_qiskit(benchmark.qiskit_circuit()),]\n",
    "print(benchmark_features)"
   ]
  },
  {
   "cell_type": "code",
   "execution_count": null,
   "id": "4ebb6bd3-15f5-4a44-b805-596b648c8432",
   "metadata": {},
   "outputs": [],
   "source": [
    "jobs =[]\n",
    "print(\"=============SCORES OF ALL THE CIRCUITS=============\")    \n",
    "for backend in selected_fakes:\n",
    "    print(\"------------------------BACKEND-NAME :: \", backend().name)\n",
    "    for benchmark, label in benchmarks:\n",
    "        circuit=benchmark.qiskit_circuit()\n",
    "        score_list=[]\n",
    "        for i in range(0,5):\n",
    "            job = backend().run(circuit, shots=1000)\n",
    "            result=job.result()\n",
    "            counts = job.result(0).get_counts()\n",
    "            score = benchmark.score(counts)\n",
    "            score_list.append(score)\n",
    "        score = np.mean(score_list) \n",
    "        sd = np.std(score_list)\n",
    "        print(label,\" :: \",score,\"                       SD :: \",sd)\n",
    "        #counts=job.result(0).count()\n",
    "        jobs.append((label,benchmark,backend,job,score,sd))\n",
    "#jobs"
   ]
  },
  {
   "cell_type": "code",
   "execution_count": null,
   "id": "1e049ac6-4173-4a4c-848e-92eedde47d48",
   "metadata": {},
   "outputs": [],
   "source": [
    "all_scores={}  \n",
    "all_fake_names=[]\n",
    "all_fake_scores=[]\n",
    "for i in selected_fakes:\n",
    "    fakes=i\n",
    "    #print(\"SELCETED_FAKES:: \",i)\n",
    "    i={}\n",
    "    for label,benchmark,backend,job,score,sd in jobs:\n",
    "        #supermarq.plotting.plot_results([score], [label])\n",
    "        if fakes == backend:\n",
    "            i[label] = score\n",
    "    device_scores = 'device_score_' +str(fakes().name)\n",
    "    all_scores[device_scores]= i\n",
    "    all_fake_scores.append(i)\n",
    "    all_fake_names.append(device_scores)   \n",
    "#print(all_scores)    "
   ]
  },
  {
   "cell_type": "code",
   "execution_count": null,
   "id": "f2a17125-410c-434e-b7fa-8aa222a1a5af",
   "metadata": {},
   "outputs": [],
   "source": [
    "for label,benchmark,backend,job,score,sd in jobs:\n",
    "    print(\"USED BACKEND::\",backend().name,\"; CIRCUIT_NAME:\",label, \"; SCORE =\",score)\n",
    "    supermarq.plotting.plot_results([score], [label])\n",
    "    print(\"-----------------------------------------------------------\")"
   ]
  },
  {
   "cell_type": "code",
   "execution_count": null,
   "id": "0cbd4cde-bc4e-43c8-8aac-fdd0111528af",
   "metadata": {},
   "outputs": [],
   "source": [
    "names=[]\n",
    "scores=[]\n",
    "X=\"A \"+name_of_algo+' Benchamrk'\n",
    "for i,j in benchmark_features.items():\n",
    "    names.append(i)\n",
    "    scores.append(j)\n",
    "supermarq.plotting.plot_benchmark([X,names,scores],\n",
    "        spoke_labels=[\"PC\", \"CD\", \"Ent\", \"Liv\", \"Mea\", \"Par\"],show=True)"
   ]
  },
  {
   "cell_type": "code",
   "execution_count": null,
   "id": "2296b800-d26d-4ba8-b199-940531330c9c",
   "metadata": {},
   "outputs": [],
   "source": [
    "supermarq.plotting.plot_correlations(benchmark_features,all_fake_scores,[\"PC\", \"CD\", \"Ent\", \"Liv\", \"Mea\", \"Par\"],device_name=all_fake_names,show=True,)"
   ]
  },
  {
   "cell_type": "code",
   "execution_count": null,
   "id": "bb38aa3b-9b37-4c2d-b757-f1fab42e8c0c",
   "metadata": {},
   "outputs": [],
   "source": [
    "%matplotlib inline \n",
    "import matplotlib.pyplot as plt \n",
    "import numpy as np\n",
    "all_fake_names=[]\n",
    "all_score=[]\n",
    "all_sd=[]\n",
    "all_ckt=[]\n",
    "for i in selected_fakes:\n",
    "    all_fake_names.append(i().name)    \n",
    "for benchmark, label in benchmarks:\n",
    "    i=[]\n",
    "    j=[]\n",
    "    k=[]\n",
    "    for ckt,benchmark,backend,job,score,sd in jobs:\n",
    "        if ckt == label:\n",
    "            i.append(score)\n",
    "            j.append(sd)\n",
    "    all_ckt.append(label)\n",
    "    all_score.append(i)\n",
    "    all_sd.append(j)\n",
    "num_bars = len(all_score)\n",
    "width = 0.1\n",
    "x = np.arange(len(all_fake_names)) # x-axis positions for each bar\n",
    "fig, ax = plt.subplots()\n",
    "for i in range(num_bars):               # Create bars for each category with appropriate offsets\n",
    "    ax.bar(x + i * width, all_score[i], width=width, label=f'Bar {i+1}', \n",
    "           yerr=all_sd[i],align='center',alpha=0.9,ecolor='black',capsize=2)\n",
    "ax.set_xlabel('Name of Fake Backends',fontweight ='bold',fontsize = 12)\n",
    "ax.set_ylabel('Scores',fontweight ='bold',fontsize = 12)\n",
    "ax.set_title('Plot of GHZ over Multiple Qubits')\n",
    "ax.set_xticks(x + (num_bars - 1) * width / 2)\n",
    "ax.set_xticklabels(all_fake_names)\n",
    "ax.legend(all_ckt,loc=\"lower left\")\n",
    "#ax.grid(True)\n",
    "plt.show()"
   ]
  }
 ],
 "metadata": {
  "kernelspec": {
   "display_name": "Python 3 (ipykernel)",
   "language": "python",
   "name": "python3"
  },
  "language_info": {
   "codemirror_mode": {
    "name": "ipython",
    "version": 3
   },
   "file_extension": ".py",
   "mimetype": "text/x-python",
   "name": "python",
   "nbconvert_exporter": "python",
   "pygments_lexer": "ipython3",
   "version": "3.10.14"
  }
 },
 "nbformat": 4,
 "nbformat_minor": 5
}
