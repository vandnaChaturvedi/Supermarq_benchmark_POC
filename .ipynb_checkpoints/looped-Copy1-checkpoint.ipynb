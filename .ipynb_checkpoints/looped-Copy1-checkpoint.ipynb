{
 "cells": [
  {
   "cell_type": "code",
   "execution_count": 1,
   "id": "73c0cb18-d087-4e67-9431-75bafb11742e",
   "metadata": {},
   "outputs": [],
   "source": [
    "from qiskit_aer import AerSimulator\n",
    "from qiskit import *\n",
    "import supermarq , os\n",
    "from qiskit.providers.fake_provider import *\n",
    "import numpy as np\n",
    "emulator_aer_dm = Aer.get_backend('aer_simulator_density_matrix')"
   ]
  },
  {
   "cell_type": "code",
   "execution_count": 2,
   "id": "90f74c95-9f9b-4e10-ae90-3b2380b7c753",
   "metadata": {},
   "outputs": [
    {
     "data": {
      "text/plain": [
       "[qiskit.providers.fake_provider.backends.kolkata.fake_kolkata.FakeKolkataV2,\n",
       " qiskit.providers.fake_provider.backends.ourense.fake_ourense.FakeOurenseV2,\n",
       " qiskit.providers.fake_provider.backends.vigo.fake_vigo.FakeVigoV2,\n",
       " qiskit.providers.fake_provider.backends.london.fake_london.FakeLondonV2,\n",
       " qiskit.providers.fake_provider.backends.oslo.fake_oslo.FakeOslo]"
      ]
     },
     "execution_count": 2,
     "metadata": {},
     "output_type": "execute_result"
    }
   ],
   "source": [
    "all_fakes=[FakeAlmadenV2,FakeArmonkV2,FakeAthensV2,FakeAuckland,FakeBelemV2,FakeBoeblingenV2,FakeBogotaV2,FakeBrooklynV2,FakeBurlingtonV2,FakeCairoV2,FakeCambridgeV2,FakeCasablancaV2,FakeEssexV2,FakeGeneva,FakeGuadalupeV2,FakeHanoiV2,FakeJakartaV2,FakeJohannesburgV2,FakeKolkataV2,FakeLagosV2,FakeLimaV2,FakeLondonV2,FakeManhattanV2,FakeManilaV2,FakeMelbourneV2,FakeMontrealV2,FakeMumbaiV2,FakeNairobiV2,FakeOslo,FakeOurenseV2,FakeParisV2,FakePerth,FakePrague,FakePoughkeepsieV2,FakeQuitoV2,FakeRochesterV2,FakeRomeV2,FakeSantiagoV2,FakeSherbrooke,FakeSingaporeV2,FakeSydneyV2,FakeTorontoV2,FakeValenciaV2,FakeVigoV2,FakeWashingtonV2,FakeYorktownV2]\n",
    "import random; selected_fakes = random.sample(all_fakes, 5)\n",
    "selected_fakes"
   ]
  },
  {
   "cell_type": "code",
   "execution_count": 3,
   "id": "157fda5c-7a99-4184-9fa5-d123ca2c9fe9",
   "metadata": {},
   "outputs": [
    {
     "name": "stdout",
     "output_type": "stream",
     "text": [
      "\n",
      "------------------------------ bitcode3 -----------------------------\n",
      "\n",
      "------------------------------ ghz3 -----------------------------\n",
      "\n",
      "------------------------------ hsim3 -----------------------------\n",
      "\n",
      "------------------------------ marmin_bell_3 -----------------------------\n",
      "\n",
      "------------------------------ qaoa_swap_proxy3 -----------------------------\n",
      "\n",
      "------------------------------ qaoa_vanilla_proxy3 -----------------------------\n"
     ]
    }
   ],
   "source": [
    "benchmarks = [\n",
    "    (supermarq.bit_code.BitCode(3, 3, [1, 0, 1]), \"bitcode3\"),\n",
    "    (supermarq.ghz.GHZ(3), \"ghz3\"),\n",
    "    (supermarq.hamiltonian_simulation.HamiltonianSimulation(3), \"hsim3\"),\n",
    "    (supermarq.mermin_bell.MerminBell(3), \"marmin_bell_3\"),\n",
    "    (supermarq.qaoa_fermionic_swap_proxy.QAOAFermionicSwapProxy(3), \"qaoa_swap_proxy3\"),\n",
    "    (supermarq.qaoa_vanilla_proxy.QAOAVanillaProxy(3), \"qaoa_vanilla_proxy3\"),]  \n",
    "\n",
    "for i in benchmarks:\n",
    "    circuit=i[0].qiskit_circuit()\n",
    "    print(\"\\n------------------------------\",i[1],\"-----------------------------\")\n",
    "    #print(circuit.draw())"
   ]
  },
  {
   "cell_type": "code",
   "execution_count": 4,
   "id": "b9a8eda9-471c-43a8-b3f2-9862c57bc789",
   "metadata": {},
   "outputs": [
    {
     "name": "stdout",
     "output_type": "stream",
     "text": [
      "{'bitcode3': [0.4, 0.5, 0.8571428571428571, 0.6142857142857143, 0.46153846153846156, 0.0], 'ghz3': [0.6666666666666666, 1.0, 0.6666666666666666, 0.6666666666666666, 0.0, 0], 'hsim3': [0.6666666666666666, 1.0, 0.26666666666666666, 0.7333333333333333, 0.0, 0.25], 'marmin_bell_3': [1.0, 1.0, 0.4375, 0.6666666666666666, 0.0, 0.11538461538461542], 'qaoa_swap_proxy3': [0.6666666666666666, 1.0, 0.5, 0.6666666666666666, 0.0, 0.09999999999999998], 'qaoa_vanilla_proxy3': [1.0, 1.0, 0.4, 0.6666666666666666, 0.0, 0.125]}\n"
     ]
    }
   ],
   "source": [
    "benchmark_features = {}\n",
    "for benchmark, label in benchmarks:\n",
    "    benchmark_features[label] = [\n",
    "        supermarq.converters.compute_communication_with_qiskit(benchmark.qiskit_circuit()),\n",
    "        supermarq.converters.compute_depth_with_qiskit(benchmark.qiskit_circuit()),\n",
    "        supermarq.converters.compute_entanglement_with_qiskit(benchmark.qiskit_circuit()),\n",
    "        supermarq.converters.compute_liveness_with_qiskit(benchmark.qiskit_circuit()),\n",
    "        supermarq.converters.compute_measurement_with_qiskit(benchmark.qiskit_circuit()),\n",
    "        supermarq.converters.compute_parallelism_with_qiskit(benchmark.qiskit_circuit()),]\n",
    "print(benchmark_features)"
   ]
  },
  {
   "cell_type": "code",
   "execution_count": 5,
   "id": "78ceb8da-9c66-4751-9ac4-6b6dcb697aaf",
   "metadata": {},
   "outputs": [],
   "source": [
    "jobs =[]\n",
    "for backend in selected_fakes:\n",
    "    fake=backend\n",
    "    for benchmark, label in benchmarks:\n",
    "        circuit=benchmark.qiskit_circuit()\n",
    "        job = fake().run(circuit, shots=1000)\n",
    "        result=job.result()\n",
    "        jobs.append((label,benchmark,fake,job, job.result()))\n",
    "        #counts=job.result(0).count()\n",
    "#jobs"
   ]
  },
  {
   "cell_type": "code",
   "execution_count": 10,
   "id": "4d06b228-1c26-41bd-9161-aa2b5866fc40",
   "metadata": {},
   "outputs": [
    {
     "name": "stdout",
     "output_type": "stream",
     "text": [
      "{'bitcode3': (0.0, <class 'qiskit.providers.fake_provider.backends.oslo.fake_oslo.FakeOslo'>), 'ghz3': (0.9599333287030606, <class 'qiskit.providers.fake_provider.backends.oslo.fake_oslo.FakeOslo'>), 'hsim3': (0.9957799427400593, <class 'qiskit.providers.fake_provider.backends.oslo.fake_oslo.FakeOslo'>), 'marmin_bell_3': (0.488, <class 'qiskit.providers.fake_provider.backends.oslo.fake_oslo.FakeOslo'>), 'qaoa_swap_proxy3': (0.3566655048680333, <class 'qiskit.providers.fake_provider.backends.oslo.fake_oslo.FakeOslo'>), 'qaoa_vanilla_proxy3': (0.32599999439159066, <class 'qiskit.providers.fake_provider.backends.oslo.fake_oslo.FakeOslo'>)}\n"
     ]
    }
   ],
   "source": [
    "device_scores={}\n",
    "for i in selected_fakes:\n",
    "    print(i)    \n",
    "    for label,benchmark,backend,job,result in jobs:\n",
    "        if i == backend:\n",
    "            counts = job.result(0).get_counts()\n",
    "            score = benchmark.score(counts)\n",
    "            #print(circuit)\n",
    "            #print(\" BACKEND = \",backend, \"; \\n CIRCUIT NAME = \",label,\"; \\n SCORE = \",score)\n",
    "            #supermarq.plotting.plot_results([score], [label])\n",
    "            device_scores[label] = (score,i)\n",
    "            #print(device_scores,\"device_scores[label]==\",device_scores[label],\"; score == \",score )\n",
    "print(device_scores)"
   ]
  },
  {
   "cell_type": "code",
   "execution_count": null,
   "id": "e5ffdae2-1556-402d-b79d-105b652f672d",
   "metadata": {},
   "outputs": [],
   "source": [
    "i=1\n",
    "names=[]\n",
    "       \n",
    "#l= str(backend)\n",
    "#import re; parts = l.split(\".\")\n",
    "#names=parts[5]\n",
    "#print(names)\n",
    "\n",
    "\n",
    "for label,circuit,backend,job,result in jobs: \n",
    "    device='device_score_'\n",
    "    device_scores = 'device_score_' +parts[5]\n",
    "    print(device_scores)\n",
    "    device_scores = {}  \n",
    "    print(device_scores)\n",
    "\n",
    "    #print(i)\n",
    "    #counts = job.result(0).get_counts()\n",
    "    #score = circuit.score(counts)\n",
    "    #print(circuit)\n",
    "    #print(\" BACKEND = \",backend, \"; \\n CIRCUIT NAME = \",label,\"; \\n SCORE = \",score)\n",
    "    #supermarq.plotting.plot_results([score], [label])\n",
    "    #print(label)\n",
    "    #device_scores[label] = score\n",
    "    #print(device_scores,\"device_scores[label]==\",device_scores[label],\"; score == \",score )\n",
    "    i+=1\n",
    "print(device_scores)"
   ]
  },
  {
   "cell_type": "code",
   "execution_count": null,
   "id": "3636dc0d-806f-4bd2-8121-f06a25359418",
   "metadata": {
    "scrolled": true
   },
   "outputs": [],
   "source": [
    "\n",
    "\n",
    "for i in range(len(selected_fakes)):\n",
    "    #device='device_score_'\n",
    "    device_scores = 'device_score_' +str(i)\n",
    "    device_scores = {}   \n",
    "    for benchmark, label in benchmarks:\n",
    "        #print(label)\n",
    "        \n",
    "        #i=i+1\n",
    "        #print(i)\n",
    "        for label,benchmark,backend,job,result in jobs:\n",
    "            counts = job.result(0).get_counts()\n",
    "            score = benchmark.score(counts)\n",
    "            #print(circuit)\n",
    "            print(\" BACKEND = \",backend, \"; \\n CIRCUIT NAME = \",label,\"; \\n SCORE = \",score)\n",
    "            #supermarq.plotting.plot_results([score], [label])\n",
    "            #print(\"===========================================================\")\n",
    "            device_scores[label] = score\n",
    "            #print(device_scores,\"device_scores[label]==\",device_scores[label],\"; score == \",score )\n",
    "print(device_scores)\n"
   ]
  },
  {
   "cell_type": "code",
   "execution_count": null,
   "id": "29090681-c315-44fd-be1e-a50ed5e85a8f",
   "metadata": {},
   "outputs": [],
   "source": [
    "print(device_scores_0)"
   ]
  },
  {
   "cell_type": "code",
   "execution_count": null,
   "id": "2dc8cb02-d894-4e72-b601-70eb0e91f567",
   "metadata": {},
   "outputs": [],
   "source": [
    "for label,circuit,backend,job,result in jobs:\n",
    "    print(label,\"counts :\", counts, \"; score =\",score)\n",
    "    supermarq.plotting.plot_results([score], [label])\n",
    "    print(\"-----------------------------------------------------------\")"
   ]
  },
  {
   "cell_type": "code",
   "execution_count": null,
   "id": "8611ed30-3d61-4d5b-9b76-c94534d39850",
   "metadata": {},
   "outputs": [],
   "source": [
    "device_scores = {}\n",
    "for label, job, benchmark in jobs:\n",
    "    counts = job.result(0).get_counts()\n",
    "    print(counts)\n",
    "    score = benchmark.score(counts)\n",
    "    print(score)\n",
    "    device_scores[label] = score"
   ]
  },
  {
   "cell_type": "code",
   "execution_count": null,
   "id": "5656c0b4-b6d6-4e2a-9eae-2c5ffd7e19e2",
   "metadata": {},
   "outputs": [],
   "source": [
    "def create_global_variable(name, value):\n",
    "    globals()[name] = value\n",
    "\n",
    "    device_scores = 'device_score_' +parts[5]\n",
    "\n",
    "def cut(j):\n",
    "    l= str(i)\n",
    "    import re; parts = l.split(\".\")\n",
    "    j=parts[5]\n",
    "    #print(j)\n",
    "    return j\n",
    "\n",
    "j=cut(i)\n",
    "            device='device_score_'\n",
    "            device_scores = 'device_score_' + str(j)\n",
    "            print(device_scores)\n",
    "            x = {}\n",
    "            x = device_scores\n",
    "            device_scores = x\n",
    "            globals()[device_scores] = {}\n",
    "\n",
    "            print(type(device_scores))\n",
    "            print(\"==================\")\n"
   ]
  },
  {
   "cell_type": "code",
   "execution_count": null,
   "id": "c487140e-4cbb-4cf8-a2d4-5d1b562c3ed8",
   "metadata": {},
   "outputs": [],
   "source": [
    "supermarq.plotting.plot_correlations(benchmark_features,\n",
    "                                     [device_scores_fake, device_scores],\n",
    "                                     [\"PC\", \"CD\", \"Ent\", \"Liv\", \"Mea\", \"Par\"],\n",
    "                                     device_name=[\"aer_dm_sim\",\"FakeRueschlikon\"],\n",
    "                                     show=True,)"
   ]
  },
  {
   "cell_type": "code",
   "execution_count": null,
   "id": "52da4e4d-c45d-4a71-84df-df5aa0b29c65",
   "metadata": {},
   "outputs": [],
   "source": []
  }
 ],
 "metadata": {
  "kernelspec": {
   "display_name": "Python 3 (ipykernel)",
   "language": "python",
   "name": "python3"
  },
  "language_info": {
   "codemirror_mode": {
    "name": "ipython",
    "version": 3
   },
   "file_extension": ".py",
   "mimetype": "text/x-python",
   "name": "python",
   "nbconvert_exporter": "python",
   "pygments_lexer": "ipython3",
   "version": "3.10.14"
  }
 },
 "nbformat": 4,
 "nbformat_minor": 5
}
