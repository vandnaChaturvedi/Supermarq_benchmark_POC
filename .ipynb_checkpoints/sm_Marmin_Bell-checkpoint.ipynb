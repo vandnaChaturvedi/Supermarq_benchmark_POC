{
 "cells": [
  {
   "cell_type": "code",
   "execution_count": null,
   "id": "9c82dffd-3e7e-48d8-a5f8-f08a257e9b5b",
   "metadata": {},
   "outputs": [],
   "source": [
    "from qiskit_aer import AerSimulator\n",
    "from qiskit import *\n",
    "import supermarq\n",
    "from qiskit.providers.fake_provider import *\n",
    "import numpy as np \n",
    "import os\n",
    "\n",
    "########## INPUT ############\n",
    "f=5 # number of fake_backend want to choose\n",
    "lower_limit= 3 # the lower limit of qubits for the circuit\n",
    "upper_limit= 17 # the lower limit of qubits for the circuit\n",
    "steps= 2 #jump in qubit numbers\n",
    "name_of_algo='marmin_bell'"
   ]
  },
  {
   "cell_type": "code",
   "execution_count": null,
   "id": "a3a9e9c0-e060-4c5e-919a-6e421adfbe3c",
   "metadata": {},
   "outputs": [],
   "source": [
    "all_fakes=[FakeAlmadenV2,FakeArmonkV2,FakeAthensV2,FakeAuckland,FakeBelemV2,FakeBoeblingenV2,FakeBogotaV2,FakeBrooklynV2,FakeBurlingtonV2,FakeCairoV2,FakeCambridgeV2,FakeCasablancaV2,FakeEssexV2,FakeGeneva,FakeGuadalupeV2,FakeHanoiV2,FakeJakartaV2,FakeJohannesburgV2,FakeKolkataV2,FakeLagosV2,FakeLimaV2,FakeLondonV2,FakeManhattanV2,FakeManilaV2,FakeMelbourneV2,FakeMontrealV2,FakeMumbaiV2,FakeNairobiV2,FakeOslo,FakeOurenseV2,FakeParisV2,FakePerth,FakePrague,FakePoughkeepsieV2,FakeQuitoV2,FakeRochesterV2,FakeRomeV2,FakeSantiagoV2,FakeSherbrooke,FakeSingaporeV2,FakeSydneyV2,FakeTorontoV2,FakeValenciaV2,FakeVigoV2,FakeWashingtonV2,FakeYorktownV2]\n",
    "import random; selected_fakes = random.sample(all_fakes, f)\n",
    "selected_fakes  # having any randomly selected 5 fake backends out of 46 mentioned in the inital list"
   ]
  },
  {
   "cell_type": "code",
   "execution_count": null,
   "id": "f0044090-d811-4bdf-8111-663f7ad06127",
   "metadata": {},
   "outputs": [],
   "source": [
    "benchmarks=[]\n",
    "for i in range(lower_limit,upper_limit,steps):\n",
    "    label = name_of_algo+str(i)\n",
    "    benchmarks.append((supermarq.mermin_bell.MerminBell(i),label))\n",
    "for i in benchmarks:\n",
    "    circuit=i[0].qiskit_circuit()\n",
    "    print(\"--------------------------\",i[1],\"---------------------------\")\n",
    "    #circuit.draw(output=\"mpl\")\n",
    "    print(circuit.draw())"
   ]
  },
  {
   "cell_type": "code",
   "execution_count": null,
   "id": "155f8d9e-b263-4d84-8099-bd24577b2718",
   "metadata": {},
   "outputs": [],
   "source": [
    "benchmark_features = {}\n",
    "for benchmark, label in benchmarks:\n",
    "    benchmark_features[label] = [\n",
    "        supermarq.converters.compute_communication_with_qiskit(benchmark.qiskit_circuit()),\n",
    "        supermarq.converters.compute_depth_with_qiskit(benchmark.qiskit_circuit()),\n",
    "        supermarq.converters.compute_entanglement_with_qiskit(benchmark.qiskit_circuit()),\n",
    "        supermarq.converters.compute_liveness_with_qiskit(benchmark.qiskit_circuit()),\n",
    "        supermarq.converters.compute_measurement_with_qiskit(benchmark.qiskit_circuit()),\n",
    "        supermarq.converters.compute_parallelism_with_qiskit(benchmark.qiskit_circuit()),]\n",
    "print(benchmark_features)"
   ]
  },
  {
   "cell_type": "code",
   "execution_count": null,
   "id": "53029907-785c-4b45-9dfa-1bf7d03d66cc",
   "metadata": {},
   "outputs": [],
   "source": [
    "jobs =[]\n",
    "print(\"=============SCORES OF ALL THE CIRCUITS=============\")    \n",
    "for backend in selected_fakes:\n",
    "    print(\"------------------------BACKEND-NAME :: \", backend().name)\n",
    "    for benchmark, label in benchmarks:\n",
    "        circuit=benchmark.qiskit_circuit()\n",
    "        score_list=[]\n",
    "        for i in range(0,5):\n",
    "            job = backend().run(circuit, shots=1000)\n",
    "            result=job.result()\n",
    "            counts = job.result(0).get_counts()\n",
    "            score = benchmark.score(counts)\n",
    "            score_list.append(score)\n",
    "        score = np.mean(score_list) \n",
    "        sd = np.std(score_list)\n",
    "        print(label,\" :: \",score,\"                       SD :: \",sd)\n",
    "        #counts=job.result(0).count()\n",
    "        jobs.append((label,benchmark,backend,job,score,sd))\n",
    "#jobs"
   ]
  },
  {
   "cell_type": "code",
   "execution_count": null,
   "id": "a4ae764c-81af-49a0-b325-539bdbc5ec15",
   "metadata": {},
   "outputs": [],
   "source": [
    "for label,benchmark,backend,job,score,sd in jobs:\n",
    "    print(\"USED BACKEND::\",backend().name,\"; CIRCUIT_NAME:\",label, \"; SCORE =\",score)\n",
    "    supermarq.plotting.plot_results([score], [label])\n",
    "    print(\"-----------------------------------------------------------\")"
   ]
  },
  {
   "cell_type": "code",
   "execution_count": null,
   "id": "4046c318-52be-444b-a86d-28a40c0e1adf",
   "metadata": {},
   "outputs": [],
   "source": [
    "names=[]\n",
    "scores=[]\n",
    "X=\"A \"+name_of_algo+' Benchamrk'\n",
    "for i,j in benchmark_features.items():\n",
    "    names.append(i)\n",
    "    scores.append(j)\n",
    "supermarq.plotting.plot_benchmark([X,names,scores],\n",
    "        spoke_labels=[\"PC\", \"CD\", \"Ent\", \"Liv\", \"Mea\", \"Par\"],show=True)"
   ]
  },
  {
   "cell_type": "code",
   "execution_count": null,
   "id": "b7d5d18d-3035-43e8-a8e9-7a005d153219",
   "metadata": {},
   "outputs": [],
   "source": [
    "supermarq.plotting.plot_correlations(benchmark_features,all_fake_scores,[\"PC\", \"CD\", \"Ent\", \"Liv\", \"Mea\", \"Par\"],device_name=all_fake_names,show=True,)"
   ]
  },
  {
   "cell_type": "code",
   "execution_count": null,
   "id": "a45ca394-bd9f-4667-ac0d-addb5bed8e4c",
   "metadata": {},
   "outputs": [],
   "source": [
    "supermarq.plotting.plot_results([score], [\"ghz_qiskit_ibm_aer_DM_simulator\"])"
   ]
  },
  {
   "cell_type": "code",
   "execution_count": null,
   "id": "425defa1-a12d-4adc-a8d2-69132276f433",
   "metadata": {},
   "outputs": [],
   "source": [
    "%matplotlib inline \n",
    "import matplotlib.pyplot as plt \n",
    "import numpy as np\n",
    "all_fake_names=[]\n",
    "all_score=[]\n",
    "all_sd=[]\n",
    "all_ckt=[]\n",
    "for i in selected_fakes:\n",
    "    all_fake_names.append(i().name)    \n",
    "for benchmark, label in benchmarks:\n",
    "    i=[]\n",
    "    j=[]\n",
    "    k=[]\n",
    "    for ckt,benchmark,backend,job,score,sd in jobs:\n",
    "        if ckt == label:\n",
    "            i.append(score)\n",
    "            j.append(sd)\n",
    "    all_ckt.append(label)\n",
    "    all_score.append(i)\n",
    "    all_sd.append(j)\n",
    "num_bars = len(all_score)\n",
    "width = 0.1\n",
    "x = np.arange(len(all_fake_names)) # x-axis positions for each bar\n",
    "fig, ax = plt.subplots()\n",
    "for i in range(num_bars):               # Create bars for each category with appropriate offsets\n",
    "    ax.bar(x + i * width, all_score[i], width=width, label=f'Bar {i+1}', \n",
    "           yerr=all_sd[i],align='center',alpha=0.9,ecolor='black',capsize=2)\n",
    "ax.set_xlabel('Name of Fake Backends',fontweight ='bold',fontsize = 12)\n",
    "ax.set_ylabel('Scores',fontweight ='bold',fontsize = 12)\n",
    "ax.set_title('Plot of GHZ over Multiple Qubits')\n",
    "ax.set_xticks(x + (num_bars - 1) * width / 2)\n",
    "ax.set_xticklabels(all_fake_names)\n",
    "ax.legend(all_ckt,loc=\"lower left\")\n",
    "#ax.grid(True)\n",
    "plt.show()"
   ]
  }
 ],
 "metadata": {
  "kernelspec": {
   "display_name": "Python 3 (ipykernel)",
   "language": "python",
   "name": "python3"
  },
  "language_info": {
   "codemirror_mode": {
    "name": "ipython",
    "version": 3
   },
   "file_extension": ".py",
   "mimetype": "text/x-python",
   "name": "python",
   "nbconvert_exporter": "python",
   "pygments_lexer": "ipython3",
   "version": "3.10.14"
  }
 },
 "nbformat": 4,
 "nbformat_minor": 5
}
