{
 "cells": [
  {
   "cell_type": "code",
   "execution_count": 1,
   "id": "3489aee7-b162-4992-9b62-9f2350c43c7b",
   "metadata": {},
   "outputs": [],
   "source": [
    "from qiskit_aer import AerSimulator\n",
    "from qiskit import *\n",
    "import supermarq\n",
    "import numpy as np \n",
    "import os\n",
    "import qiskit"
   ]
  },
  {
   "cell_type": "code",
   "execution_count": 4,
   "id": "e07746ba-83f8-48ac-8e78-d16bdb756329",
   "metadata": {},
   "outputs": [],
   "source": [
    "benchmark_features = {}\n",
    "benchmarks = [\n",
    "    (supermarq.bit_code.BitCode(3, 3, [1, 0, 1]), \"bitcode3\"),\n",
    "    (supermarq.ghz.GHZ(3), \"ghz3\"),\n",
    "    (supermarq.hamiltonian_simulation.HamiltonianSimulation(3), \"hsim3\"),\n",
    "    (supermarq.mermin_bell.MerminBell(3), \"marmin_bell_3\"),\n",
    "    (supermarq.qaoa_fermionic_swap_proxy.QAOAFermionicSwapProxy(3), \"qaoa_swap_proxy3\"),\n",
    "    (supermarq.qaoa_vanilla_proxy.QAOAVanillaProxy(3), \"qaoa_vanilla_proxy3\"), \n",
    "]"
   ]
  },
  {
   "cell_type": "code",
   "execution_count": 5,
   "id": "1b7bba04-ff8d-42dd-8dc0-ff9fb629466e",
   "metadata": {},
   "outputs": [
    {
     "name": "stdout",
     "output_type": "stream",
     "text": [
      "{'bitcode3': [0.4, 0.5, 0.8571428571428571, 0.6142857142857143, 0.46153846153846156, 0.0], 'ghz3': [0.6666666666666666, 1.0, 0.6666666666666666, 0.6666666666666666, 0.0, 0], 'hsim3': [0.6666666666666666, 1.0, 0.26666666666666666, 0.7333333333333333, 0.0, 0.25], 'marmin_bell_3': [1.0, 1.0, 0.4375, 0.6666666666666666, 0.0, 0.11538461538461542], 'qaoa_swap_proxy3': [0.6666666666666666, 1.0, 0.5, 0.6666666666666666, 0.0, 0.09999999999999998], 'qaoa_vanilla_proxy3': [1.0, 1.0, 0.4, 0.6666666666666666, 0.0, 0.125]}\n"
     ]
    }
   ],
   "source": [
    "for benchmark, label in benchmarks:\n",
    "    benchmark_features[label] = [\n",
    "        supermarq.converters.compute_communication_with_qiskit(benchmark.qiskit_circuit()),\n",
    "        supermarq.converters.compute_depth_with_qiskit(benchmark.qiskit_circuit()),\n",
    "        supermarq.converters.compute_entanglement_with_qiskit(benchmark.qiskit_circuit()),\n",
    "        supermarq.converters.compute_liveness_with_qiskit(benchmark.qiskit_circuit()),\n",
    "        supermarq.converters.compute_measurement_with_qiskit(benchmark.qiskit_circuit()),\n",
    "        supermarq.converters.compute_parallelism_with_qiskit(benchmark.qiskit_circuit()),]\n",
    "print(benchmark_features)"
   ]
  },
  {
   "cell_type": "code",
   "execution_count": 8,
   "id": "78ec6c64-a368-441d-97de-ea19e3331d97",
   "metadata": {},
   "outputs": [],
   "source": [
    "emulator = Aer.get_backend('aer_simulator_density_matrix')"
   ]
  },
  {
   "cell_type": "code",
   "execution_count": 13,
   "id": "cd47c0fd-d529-4f3a-b9d6-a49810394e55",
   "metadata": {},
   "outputs": [],
   "source": [
    "benchmark_job = {}\n",
    "for benchmark, label in benchmarks:\n",
    "    benchmark_job[label] = [execute(transpile(benchmark.qiskit_circuit(), emulator), emulator, shots=10, memory=False).result()]"
   ]
  },
  {
   "cell_type": "code",
   "execution_count": 13,
   "id": "8b83958d-73f3-41a9-9e60-203340bc7793",
   "metadata": {},
   "outputs": [],
   "source": [
    "print(benchmark_job)"
   ]
  },
  {
   "cell_type": "code",
   "execution_count": null,
   "id": "57d0f5c7-9a9b-47a5-94be-9d374a3b3c9a",
   "metadata": {},
   "outputs": [],
   "source": [
    "data = job.result()\n",
    "data"
   ]
  },
  {
   "cell_type": "code",
   "execution_count": null,
   "id": "ed7f0c37-3bb5-46a1-b8f4-00600fa547c3",
   "metadata": {},
   "outputs": [],
   "source": [
    "h_sim_features = [\n",
    "    supermarq.converters.compute_communication_with_qiskit(h_sim_circuit),\n",
    "    supermarq.converters.compute_depth_with_qiskit(h_sim_circuit),\n",
    "    supermarq.converters.compute_entanglement_with_qiskit(h_sim_circuit),\n",
    "    supermarq.converters.compute_liveness_with_qiskit(h_sim_circuit),\n",
    "    supermarq.converters.compute_measurement_with_qiskit(h_sim_circuit),\n",
    "    supermarq.converters.compute_parallelism_with_qiskit(h_sim_circuit),\n",
    "]\n",
    "print(h_sim_features)\n",
    "print(\"--------------------------------------------------------------\")\n",
    "supermarq.plotting.plot_benchmark(\n",
    "    [\"A single Hamiltonian Simulation benchmark\", [\"h_sim\"], [h_sim_features]],\n",
    "    spoke_labels=[\"PC\", \"CD\", \"Ent\", \"Liv\", \"Mea\", \"Par\"],\n",
    ")"
   ]
  },
  {
   "cell_type": "code",
   "execution_count": null,
   "id": "96c52ee6-c6d0-43c3-9807-74599ff0c5ec",
   "metadata": {},
   "outputs": [],
   "source": [
    "counts = job.result().get_counts()\n",
    "print(counts)"
   ]
  },
  {
   "cell_type": "code",
   "execution_count": null,
   "id": "0ab2b82a-333d-43d6-bbdc-dc82edfd6a7e",
   "metadata": {},
   "outputs": [],
   "source": [
    "score = h_sim.score(counts)\n",
    "print(score)"
   ]
  },
  {
   "cell_type": "code",
   "execution_count": null,
   "id": "0694cf1b-9ee2-4c82-9075-9d1627c80d68",
   "metadata": {},
   "outputs": [],
   "source": [
    "supermarq.plotting.plot_results([score], [\"h_sim_4\"])"
   ]
  },
  {
   "cell_type": "code",
   "execution_count": null,
   "id": "5731a640-c4aa-4f04-9344-de9e8cb4d539",
   "metadata": {},
   "outputs": [],
   "source": [
    "jobs = []\n",
    "for benchmark, label in benchmarks:\n",
    "    job = emulator.run(benchmark.qiskit_circuit(), shots=1000)\n",
    "    jobs.append((label, job, benchmark))\n",
    "jobs"
   ]
  },
  {
   "cell_type": "code",
   "execution_count": null,
   "id": "bf44a9eb-283e-4f41-8e3b-ef40f6fc9fa8",
   "metadata": {},
   "outputs": [],
   "source": [
    "job.status()"
   ]
  },
  {
   "cell_type": "code",
   "execution_count": null,
   "id": "ddcbae8a-43b9-4d70-b19d-df2b1692acdd",
   "metadata": {},
   "outputs": [],
   "source": [
    "device_scores = {}\n",
    "for label, job, benchmark in jobs:\n",
    "    if job.status() == qiskit.providers.jobstatus.JobStatus.DONE:\n",
    "        counts = job.result(0).get_counts()\n",
    "        print(counts)\n",
    "        score = benchmark.score(counts)\n",
    "        print(score)\n",
    "        device_scores[label] = score\n",
    "    else:\n",
    "        print(label, \"not done!\")"
   ]
  },
  {
   "cell_type": "code",
   "execution_count": null,
   "id": "669738ef-4ade-4eda-8e18-987abf1a71d0",
   "metadata": {},
   "outputs": [],
   "source": [
    "supermarq.plotting.plot_correlations(benchmark_features,\n",
    "    device_scores,\n",
    "    [\"PC\", \"CD\", \"Ent\", \"Liv\", \"Mea\", \"Par\"],\n",
    "    device_name=\"Aer_DM_Sim\",)"
   ]
  }
 ],
 "metadata": {
  "kernelspec": {
   "display_name": "Python 3 (ipykernel)",
   "language": "python",
   "name": "python3"
  },
  "language_info": {
   "codemirror_mode": {
    "name": "ipython",
    "version": 3
   },
   "file_extension": ".py",
   "mimetype": "text/x-python",
   "name": "python",
   "nbconvert_exporter": "python",
   "pygments_lexer": "ipython3",
   "version": "3.10.14"
  }
 },
 "nbformat": 4,
 "nbformat_minor": 5
}
