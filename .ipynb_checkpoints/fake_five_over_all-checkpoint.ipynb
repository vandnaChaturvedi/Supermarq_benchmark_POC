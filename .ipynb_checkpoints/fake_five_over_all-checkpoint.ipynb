{
 "cells": [
  {
   "cell_type": "code",
   "execution_count": 1,
   "id": "73c0cb18-d087-4e67-9431-75bafb11742e",
   "metadata": {},
   "outputs": [],
   "source": [
    "from qiskit_aer import AerSimulator\n",
    "from qiskit import *\n",
    "import supermarq , os\n",
    "from qiskit.providers.fake_provider import *\n",
    "import numpy as np\n",
    "emulator_aer_dm = Aer.get_backend('aer_simulator_density_matrix')"
   ]
  },
  {
   "cell_type": "code",
   "execution_count": 2,
   "id": "90f74c95-9f9b-4e10-ae90-3b2380b7c753",
   "metadata": {},
   "outputs": [
    {
     "data": {
      "text/plain": [
       "[qiskit.providers.fake_provider.backends.oslo.fake_oslo.FakeOslo,\n",
       " qiskit.providers.fake_provider.backends.rome.fake_rome.FakeRomeV2,\n",
       " qiskit.providers.fake_provider.backends.lagos.fake_lagos.FakeLagosV2,\n",
       " qiskit.providers.fake_provider.backends.cambridge.fake_cambridge.FakeCambridgeV2,\n",
       " qiskit.providers.fake_provider.backends.armonk.fake_armonk.FakeArmonkV2]"
      ]
     },
     "execution_count": 2,
     "metadata": {},
     "output_type": "execute_result"
    }
   ],
   "source": [
    "all_fakes=[FakeAlmadenV2,FakeArmonkV2,FakeAthensV2,FakeAuckland,FakeBelemV2,FakeBoeblingenV2,FakeBogotaV2,FakeBrooklynV2,FakeBurlingtonV2,FakeCairoV2,FakeCambridgeV2,FakeCasablancaV2,FakeEssexV2,FakeGeneva,FakeGuadalupeV2,FakeHanoiV2,FakeJakartaV2,FakeJohannesburgV2,FakeKolkataV2,FakeLagosV2,FakeLimaV2,FakeLondonV2,FakeManhattanV2,FakeManilaV2,FakeMelbourneV2,FakeMontrealV2,FakeMumbaiV2,FakeNairobiV2,FakeOslo,FakeOurenseV2,FakeParisV2,FakePerth,FakePrague,FakePoughkeepsieV2,FakeQuitoV2,FakeRochesterV2,FakeRomeV2,FakeSantiagoV2,FakeSherbrooke,FakeSingaporeV2,FakeSydneyV2,FakeTorontoV2,FakeValenciaV2,FakeVigoV2,FakeWashingtonV2,FakeYorktownV2]\n",
    "import random; selected_fakes = random.sample(all_fakes, 5)\n",
    "selected_fakes  # having any randomly selected 5 fake backends out of 46 mentioned in the inital list"
   ]
  },
  {
   "cell_type": "code",
   "execution_count": 3,
   "id": "157fda5c-7a99-4184-9fa5-d123ca2c9fe9",
   "metadata": {},
   "outputs": [
    {
     "name": "stdout",
     "output_type": "stream",
     "text": [
      "bitcode3 \n",
      "\n",
      "              ┌───┐                                                    ┌─┐     »\n",
      "         q_0: ┤ X ├──■─────────────────■────────────────────■──────────┤M├─────»\n",
      "              └───┘┌─┴─┐┌───┐┌─┐     ┌─┴─┐┌───┐   ┌─┐     ┌─┴─┐┌───┐   └╥┘     »\n",
      "         q_1: ─────┤ X ├┤ X ├┤M├─|0>─┤ X ├┤ X ├───┤M├─|0>─┤ X ├┤ X ├────╫──────»\n",
      "                   └───┘└─┬─┘└╥┘     └───┘└─┬─┘   └╥┘     └───┘└─┬─┘    ║      »\n",
      "         q_2: ──■─────────■───╫────────■────■──────╫────────■────■──────╫──────»\n",
      "              ┌─┴─┐┌───┐ ┌─┐  ║      ┌─┴─┐┌───┐┌─┐ ║      ┌─┴─┐┌───┐┌─┐ ║      »\n",
      "         q_3: ┤ X ├┤ X ├─┤M├──╫──|0>─┤ X ├┤ X ├┤M├─╫──|0>─┤ X ├┤ X ├┤M├─╫──|0>─»\n",
      "              ├───┤└─┬─┘ └╥┘  ║      └───┘└─┬─┘└╥┘ ║      └───┘└─┬─┘└╥┘ ║  ┌─┐ »\n",
      "         q_4: ┤ X ├──■────╫───╫─────────────■───╫──╫─────────────■───╫──╫──┤M├─»\n",
      "              └───┘       ║   ║                 ║  ║                 ║  ║  └╥┘ »\n",
      "    m_mcm0: 2/════════════╩═══╩═════════════════╬══╬═════════════════╬══╬═══╬══»\n",
      "                          1   0                 ║  ║                 ║  ║   ║  »\n",
      "    m_mcm1: 2/══════════════════════════════════╩══╩═════════════════╬══╬═══╬══»\n",
      "                                                1  0                 ║  ║   ║  »\n",
      "    m_mcm2: 2/═══════════════════════════════════════════════════════╩══╬═══╬══»\n",
      "                                                                     1  ║   ║  »\n",
      "m_meas_all: 5/══════════════════════════════════════════════════════════╩═══╩══»\n",
      "                                                                        0   4  »\n",
      "«                            \n",
      "«         q_0: ──────────────\n",
      "«              ┌─┐        ┌─┐\n",
      "«         q_1: ┤M├─|0>────┤M├\n",
      "«              └╥┘ ┌─┐    └╥┘\n",
      "«         q_2: ─╫──┤M├─────╫─\n",
      "«               ║  └╥┘ ┌─┐ ║ \n",
      "«         q_3: ─╫───╫──┤M├─╫─\n",
      "«               ║   ║  └╥┘ ║ \n",
      "«         q_4: ─╫───╫───╫──╫─\n",
      "«               ║   ║   ║  ║ \n",
      "«    m_mcm0: 2/═╬═══╬═══╬══╬═\n",
      "«               ║   ║   ║  ║ \n",
      "«    m_mcm1: 2/═╬═══╬═══╬══╬═\n",
      "«               ║   ║   ║  ║ \n",
      "«    m_mcm2: 2/═╩═══╬═══╬══╬═\n",
      "«               0   ║   ║  ║ \n",
      "«m_meas_all: 5/═════╩═══╩══╩═\n",
      "«                   2   3  1 \n",
      "ghz3 \n",
      "\n",
      "     ┌───┐          ┌─┐      \n",
      "q_0: ┤ H ├──■───────┤M├──────\n",
      "     └───┘┌─┴─┐     └╥┘┌─┐   \n",
      "q_1: ─────┤ X ├──■───╫─┤M├───\n",
      "          └───┘┌─┴─┐ ║ └╥┘┌─┐\n",
      "q_2: ──────────┤ X ├─╫──╫─┤M├\n",
      "               └───┘ ║  ║ └╥┘\n",
      "c: 3/════════════════╩══╩══╩═\n",
      "                     0  1  2 \n",
      "hsim3 \n",
      "\n",
      "     ┌───┐┌───────────┐┌───┐                           ┌─┐                    »\n",
      "q_0: ┤ H ├┤ Rz(-3π/4) ├┤ H ├──■────────────────■───────┤M├────────────────────»\n",
      "     ├───┤├───────────┤├───┤┌─┴─┐┌──────────┐┌─┴─┐     └╥┘                 ┌─┐»\n",
      "q_1: ┤ H ├┤ Rz(-3π/4) ├┤ H ├┤ X ├┤ Rz(-π/2) ├┤ X ├──■───╫───────────────■──┤M├»\n",
      "     ├───┤├───────────┤├───┤└───┘└──────────┘└───┘┌─┴─┐ ║ ┌──────────┐┌─┴─┐└╥┘»\n",
      "q_2: ┤ H ├┤ Rz(-3π/4) ├┤ H ├──────────────────────┤ X ├─╫─┤ Rz(-π/2) ├┤ X ├─╫─»\n",
      "     └───┘└───────────┘└───┘                      └───┘ ║ └──────────┘└───┘ ║ »\n",
      "c: 3/═══════════════════════════════════════════════════╩═══════════════════╩═»\n",
      "                                                        0                   1 »\n",
      "«        \n",
      "«q_0: ───\n",
      "«        \n",
      "«q_1: ───\n",
      "«     ┌─┐\n",
      "«q_2: ┤M├\n",
      "«     └╥┘\n",
      "«c: 3/═╩═\n",
      "«      2 \n",
      "marmin_bell_3 \n",
      "\n",
      "      ┌──────────┐                         ┌───┐┌───┐┌───┐   ┌───┐     ┌─┐   \n",
      " q_0: ┤ Rx(-π/2) ├──■──────────────■───────┤ X ├┤ X ├┤ S ├─■─┤ H ├─────┤M├───\n",
      "      └──────────┘┌─┴─┐     ┌───┐  │       └─┬─┘└─┬─┘└───┘ │ ├───┤┌───┐└╥┘┌─┐\n",
      " q_1: ────────────┤ X ├──■──┤ H ├──┼────■────┼────■────────■─┤ S ├┤ H ├─╫─┤M├\n",
      "                  └───┘┌─┴─┐├───┤┌─┴─┐┌─┴─┐  │  ┌───┐┌───┐┌─┐└───┘└───┘ ║ └╥┘\n",
      " q_2: ─────────────────┤ X ├┤ H ├┤ X ├┤ X ├──■──┤ S ├┤ H ├┤M├───────────╫──╫─\n",
      "                       └───┘└───┘└───┘└───┘     └───┘└───┘└╥┘           ║  ║ \n",
      "m0: 3/═════════════════════════════════════════════════════╩════════════╩══╩═\n",
      "                                                           2            0  1 \n",
      "qaoa_swap_proxy3 \n",
      "\n",
      "      ┌───┐                    ┌───┐                                   »\n",
      " q_0: ┤ H ├──■─────────────────┤ X ├──■────────────────────────────────»\n",
      "      ├───┤┌─┴─┐┌─────────────┐└─┬─┘┌─┴─┐                    ┌───┐     »\n",
      " q_1: ┤ H ├┤ X ├┤ Rz(-4.7593) ├──■──┤ X ├──■─────────────────┤ X ├──■──»\n",
      "      ├───┤└───┘└─────────────┘     └───┘┌─┴─┐┌─────────────┐└─┬─┘┌─┴─┐»\n",
      " q_2: ┤ H ├──────────────────────────────┤ X ├┤ Rz(-4.7593) ├──■──┤ X ├»\n",
      "      └───┘                              └───┘└─────────────┘     └───┘»\n",
      "m0: 3/═════════════════════════════════════════════════════════════════»\n",
      "                                                                       »\n",
      "«                                   ┌───┐     ┌────────────┐┌─┐   \n",
      "« q_0: ──────■──────────────────────┤ X ├──■──┤ Rx(1.5242) ├┤M├───\n",
      "«          ┌─┴─┐     ┌─────────────┐└─┬─┘┌─┴─┐├────────────┤└╥┘┌─┐\n",
      "« q_1: ────┤ X ├─────┤ Rz(-4.7593) ├──■──┤ X ├┤ Rx(1.5242) ├─╫─┤M├\n",
      "«      ┌───┴───┴────┐└─────┬─┬─────┘     └───┘└────────────┘ ║ └╥┘\n",
      "« q_2: ┤ Rx(1.5242) ├──────┤M├───────────────────────────────╫──╫─\n",
      "«      └────────────┘      └╥┘                               ║  ║ \n",
      "«m0: 3/═════════════════════╩════════════════════════════════╩══╩═\n",
      "«                           2                                0  1 \n",
      "qaoa_vanilla_proxy3 \n",
      "\n",
      "      ┌───┐                                                                »\n",
      " q_0: ┤ H ├───────────────────────────■───────────────────■────────■───────»\n",
      "      ├───┤                           │                   │      ┌─┴─┐     »\n",
      " q_1: ┤ H ├──■───────────────────■────┼───────────────────┼──────┤ X ├─────»\n",
      "      ├───┤┌─┴─┐┌─────────────┐┌─┴─┐┌─┴─┐┌─────────────┐┌─┴─┐┌───┴───┴────┐»\n",
      " q_2: ┤ H ├┤ X ├┤ Rz(-11.044) ├┤ X ├┤ X ├┤ Rz(-11.044) ├┤ X ├┤ Rx(10.948) ├»\n",
      "      └───┘└───┘└─────────────┘└───┘└───┘└─────────────┘└───┘└────────────┘»\n",
      "m0: 3/═════════════════════════════════════════════════════════════════════»\n",
      "                                                                           »\n",
      "«                          ┌────────────┐┌─┐   \n",
      "« q_0: ─────────────────■──┤ Rx(10.948) ├┤M├───\n",
      "«      ┌─────────────┐┌─┴─┐├────────────┤└╥┘┌─┐\n",
      "« q_1: ┤ Rz(-11.044) ├┤ X ├┤ Rx(10.948) ├─╫─┤M├\n",
      "«      └─────┬─┬─────┘└───┘└────────────┘ ║ └╥┘\n",
      "« q_2: ──────┤M├──────────────────────────╫──╫─\n",
      "«            └╥┘                          ║  ║ \n",
      "«m0: 3/═══════╩═══════════════════════════╩══╩═\n",
      "«             2                           0  1 \n"
     ]
    }
   ],
   "source": [
    "benchmarks = [\n",
    "    (supermarq.bit_code.BitCode(3, 3, [1, 0, 1]), \"bitcode3\"),\n",
    "    (supermarq.ghz.GHZ(3), \"ghz3\"),\n",
    "    (supermarq.hamiltonian_simulation.HamiltonianSimulation(3), \"hsim3\"),\n",
    "    (supermarq.mermin_bell.MerminBell(3), \"marmin_bell_3\"),\n",
    "    (supermarq.qaoa_fermionic_swap_proxy.QAOAFermionicSwapProxy(3), \"qaoa_swap_proxy3\"),\n",
    "    (supermarq.qaoa_vanilla_proxy.QAOAVanillaProxy(3), \"qaoa_vanilla_proxy3\"),]  \n",
    "\n",
    "for i in benchmarks:\n",
    "    circuit=i[0].qiskit_circuit()\n",
    "    print(i[1],\"\\n\")\n",
    "    print(circuit.draw())"
   ]
  },
  {
   "cell_type": "code",
   "execution_count": 4,
   "id": "b9a8eda9-471c-43a8-b3f2-9862c57bc789",
   "metadata": {},
   "outputs": [
    {
     "name": "stdout",
     "output_type": "stream",
     "text": [
      "{'bitcode3': [0.4, 0.5, 0.8571428571428571, 0.6142857142857143, 0.46153846153846156, 0.0], 'ghz3': [0.6666666666666666, 1.0, 0.6666666666666666, 0.6666666666666666, 0.0, 0], 'hsim3': [0.6666666666666666, 1.0, 0.26666666666666666, 0.7333333333333333, 0.0, 0.25], 'marmin_bell_3': [1.0, 1.0, 0.4375, 0.6666666666666666, 0.0, 0.11538461538461542], 'qaoa_swap_proxy3': [0.6666666666666666, 1.0, 0.5, 0.6666666666666666, 0.0, 0.09999999999999998], 'qaoa_vanilla_proxy3': [1.0, 1.0, 0.4, 0.6666666666666666, 0.0, 0.125]}\n"
     ]
    }
   ],
   "source": [
    "benchmark_features = {}\n",
    "for benchmark, label in benchmarks:\n",
    "    benchmark_features[label] = [\n",
    "        supermarq.converters.compute_communication_with_qiskit(benchmark.qiskit_circuit()),\n",
    "        supermarq.converters.compute_depth_with_qiskit(benchmark.qiskit_circuit()),\n",
    "        supermarq.converters.compute_entanglement_with_qiskit(benchmark.qiskit_circuit()),\n",
    "        supermarq.converters.compute_liveness_with_qiskit(benchmark.qiskit_circuit()),\n",
    "        supermarq.converters.compute_measurement_with_qiskit(benchmark.qiskit_circuit()),\n",
    "        supermarq.converters.compute_parallelism_with_qiskit(benchmark.qiskit_circuit()),]\n",
    "print(benchmark_features)"
   ]
  },
  {
   "cell_type": "code",
   "execution_count": 5,
   "id": "f1c9bbcd-54ac-445a-8e02-783e804dada4",
   "metadata": {},
   "outputs": [],
   "source": [
    "def cut(j):\n",
    "    l= str(j)\n",
    "    import re; parts = l.split(\".\")\n",
    "    j=parts[5]\n",
    "    return j"
   ]
  },
  {
   "cell_type": "code",
   "execution_count": null,
   "id": "78ceb8da-9c66-4751-9ac4-6b6dcb697aaf",
   "metadata": {},
   "outputs": [
    {
     "name": "stdout",
     "output_type": "stream",
     "text": [
      "=============SCORES OF ALL THE CIRCUITS=============\n",
      "------------------------BACKEND-NAME ::  fake_oslo\n",
      "bitcode3  ::  0.0\n",
      "ghz3  ::  0.9699494819050744\n",
      "hsim3  ::  0.9884466094067259\n",
      "marmin_bell_3  ::  0.487\n",
      "qaoa_swap_proxy3  ::  0.9300020752051547\n",
      "qaoa_vanilla_proxy3  ::  0.9606691131795178\n",
      "------------------------BACKEND-NAME ::  fake_rome\n",
      "bitcode3  ::  0.0\n",
      "ghz3  ::  0.902161735673221\n",
      "hsim3  ::  0.9577799427400593\n",
      "marmin_bell_3  ::  0.485\n",
      "qaoa_swap_proxy3  ::  0.8980019207712826\n",
      "qaoa_vanilla_proxy3  ::  0.9160022092966991\n",
      "------------------------BACKEND-NAME ::  fake_lagos\n",
      "bitcode3  ::  0.0\n",
      "ghz3  ::  0.9609872526925142\n",
      "hsim3  ::  0.9847799427400592\n",
      "marmin_bell_3  ::  0.493\n",
      "qaoa_swap_proxy3  ::  0.9346687643934277\n",
      "qaoa_vanilla_proxy3  ::  0.9573357621434864\n",
      "------------------------BACKEND-NAME ::  fake_cambridge\n",
      "bitcode3  ::  0.0\n"
     ]
    }
   ],
   "source": [
    "jobs =[]\n",
    "print(\"=============SCORES OF ALL THE CIRCUITS=============\")    \n",
    "for backend in selected_fakes:\n",
    "    fake=backend\n",
    "    heading=cut(fake)\n",
    "    print(\"------------------------BACKEND-NAME :: \", heading)\n",
    "    for benchmark, label in benchmarks:\n",
    "        circuit=benchmark.qiskit_circuit()\n",
    "        job = fake().run(circuit, shots=1000)\n",
    "        result=job.result()\n",
    "        counts = job.result(0).get_counts()\n",
    "        score = benchmark.score(counts)\n",
    "        print(label,\" :: \",score)\n",
    "        #counts=job.result(0).count()\n",
    "        jobs.append((label,benchmark,fake,job,score))\n",
    "#jobs"
   ]
  },
  {
   "cell_type": "code",
   "execution_count": null,
   "id": "4d06b228-1c26-41bd-9161-aa2b5866fc40",
   "metadata": {},
   "outputs": [],
   "source": [
    "all_scores={}  \n",
    "all_fake_names=[]\n",
    "all_fake_scores=[]\n",
    "for i in selected_fakes:\n",
    "    fakes=i\n",
    "    #print(\"SELCETED_FAKES:: \",i)\n",
    "    i={}\n",
    "    for label,benchmark,backend,job,score in jobs:\n",
    "        #supermarq.plotting.plot_results([score], [label])\n",
    "        if fakes == backend:\n",
    "            i[label] = score\n",
    "    device_scores = 'device_score_' +str(cut(fakes))\n",
    "    all_scores[device_scores]= i\n",
    "    all_fake_scores.append(i)\n",
    "    all_fake_names.append(device_scores)   \n",
    "#print(all_scores)    "
   ]
  },
  {
   "cell_type": "code",
   "execution_count": null,
   "id": "2dc8cb02-d894-4e72-b601-70eb0e91f567",
   "metadata": {
    "scrolled": true
   },
   "outputs": [],
   "source": [
    "for label,benchmark,backend,job,score in jobs:\n",
    "    backend=cut(backend)\n",
    "    print(\"USED BACKEND::\",backend,\"; CIRCUIT_NAME:\",label,\"; COUNTS :\", counts, \"; SCORE =\",score)\n",
    "    supermarq.plotting.plot_results([score], [label])\n",
    "    print(\"-----------------------------------------------------------\")"
   ]
  },
  {
   "cell_type": "code",
   "execution_count": null,
   "id": "c487140e-4cbb-4cf8-a2d4-5d1b562c3ed8",
   "metadata": {},
   "outputs": [],
   "source": [
    "\n",
    "\n",
    "supermarq.plotting.plot_correlations(benchmark_features,all_fake_scores,[\"PC\", \"CD\", \"Ent\", \"Liv\", \"Mea\", \"Par\"],device_name=all_fake_names,show=True,)\n"
   ]
  },
  {
   "cell_type": "code",
   "execution_count": null,
   "id": "3261a69d-b88b-44d5-b7dc-2be2f29c4efd",
   "metadata": {},
   "outputs": [],
   "source": []
  }
 ],
 "metadata": {
  "kernelspec": {
   "display_name": "Python 3 (ipykernel)",
   "language": "python",
   "name": "python3"
  },
  "language_info": {
   "codemirror_mode": {
    "name": "ipython",
    "version": 3
   },
   "file_extension": ".py",
   "mimetype": "text/x-python",
   "name": "python",
   "nbconvert_exporter": "python",
   "pygments_lexer": "ipython3",
   "version": "3.10.14"
  }
 },
 "nbformat": 4,
 "nbformat_minor": 5
}
