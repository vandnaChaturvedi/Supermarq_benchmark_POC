{
 "cells": [
  {
   "cell_type": "code",
   "execution_count": null,
   "id": "1b681850-7dba-4fab-a7ad-10824e1061a2",
   "metadata": {
    "scrolled": true
   },
   "outputs": [],
   "source": [
    "from qiskit_aer import AerSimulator\n",
    "from qiskit import *\n",
    "import supermarq\n",
    "from qiskit.providers.fake_provider import *\n",
    "import numpy as np \n",
    "import os\n",
    "import random\n",
    "########## INPUT ############\n",
    "f=5 # number of fake_backend want to choose\n",
    "lower_limit= 9 # the lower limit of qubits for the circuit\n",
    "upper_limit= 16 # the lower limit of qubits for the circuit\n",
    "steps= 2 #jump in qubit numbers\n",
    "name_of_algo='bitcode'"
   ]
  },
  {
   "cell_type": "code",
   "execution_count": null,
   "id": "42df5a40-9fda-44b9-882a-e0b69e3b3770",
   "metadata": {},
   "outputs": [],
   "source": [
    "all_fakes=[FakeAlmadenV2,FakeArmonkV2,FakeAthensV2,FakeAuckland,FakeBelemV2,FakeBoeblingenV2,FakeBogotaV2,FakeBrooklynV2,FakeBurlingtonV2,FakeCairoV2,FakeCambridgeV2,FakeCasablancaV2,FakeEssexV2,FakeGeneva,FakeGuadalupeV2,FakeHanoiV2,FakeJakartaV2,FakeJohannesburgV2,FakeKolkataV2,FakeLagosV2,FakeLimaV2,FakeLondonV2,FakeManhattanV2,FakeManilaV2,FakeMelbourneV2,FakeMontrealV2,FakeMumbaiV2,FakeNairobiV2,FakeOslo,FakeOurenseV2,FakeParisV2,FakePerth,FakePrague,FakePoughkeepsieV2,FakeQuitoV2,FakeRochesterV2,FakeRomeV2,FakeSantiagoV2,FakeSherbrooke,FakeSingaporeV2,FakeSydneyV2,FakeTorontoV2,FakeValenciaV2,FakeVigoV2,FakeWashingtonV2,FakeYorktownV2]\n",
    "selected_fakes = random.sample(all_fakes, f)\n",
    "selected_fakes  # having any randomly selected 5 fake backends out of 46 mentioned in the inital list"
   ]
  },
  {
   "cell_type": "code",
   "execution_count": null,
   "id": "519c4db0-09fa-42ea-a37a-cc2babf9244e",
   "metadata": {
    "scrolled": true
   },
   "outputs": [],
   "source": [
    "benchmarks=[]\n",
    "for i in range(lower_limit,upper_limit,steps):\n",
    "    label = name_of_algo+str(i)\n",
    "    rand_list=[]\n",
    "    for j in range(i):       \n",
    "        rand_list.append(random.randint(0,1))\n",
    "    print(\"i=\",i,\"i-1=\",i-1,\"rand_list=\",rand_list)\n",
    "    benchmarks.append((supermarq.bit_code.BitCode(i,i-1,rand_list),label))\n",
    "for i in benchmarks:\n",
    "    circuit=i[0].qiskit_circuit()\n",
    "    print(\"--------------------------\",i[1],\"---------------------------\")\n",
    "    #circuit.draw(output=\"mpl\")\n",
    "    print(circuit.draw())"
   ]
  },
  {
   "cell_type": "code",
   "execution_count": null,
   "id": "b2e8d2a4-ebad-40f4-a671-0155ca2c2566",
   "metadata": {},
   "outputs": [],
   "source": [
    "benchmark_features = {}\n",
    "for benchmark, label in benchmarks:\n",
    "    benchmark_features[label] = [\n",
    "        supermarq.converters.compute_communication_with_qiskit(benchmark.qiskit_circuit()),\n",
    "        supermarq.converters.compute_depth_with_qiskit(benchmark.qiskit_circuit()),\n",
    "        supermarq.converters.compute_entanglement_with_qiskit(benchmark.qiskit_circuit()),\n",
    "        supermarq.converters.compute_liveness_with_qiskit(benchmark.qiskit_circuit()),\n",
    "        supermarq.converters.compute_measurement_with_qiskit(benchmark.qiskit_circuit()),\n",
    "        supermarq.converters.compute_parallelism_with_qiskit(benchmark.qiskit_circuit()),]\n",
    "print(benchmark_features)"
   ]
  },
  {
   "cell_type": "code",
   "execution_count": null,
   "id": "b7789a55-6a10-49b5-a77e-43b834b71504",
   "metadata": {},
   "outputs": [],
   "source": [
    "jobs =[]\n",
    "print(\"=============SCORES OF ALL THE CIRCUITS=============\")    \n",
    "for backend in selected_fakes:\n",
    "    print(\"------------------------BACKEND-NAME :: \", backend().name)\n",
    "    for benchmark, label in benchmarks:\n",
    "        circuit=benchmark.qiskit_circuit()\n",
    "        score_list=[]\n",
    "        for i in range(0,5):\n",
    "            job = backend().run(circuit, shots=1000)\n",
    "            result=job.result()\n",
    "            #print(result)\n",
    "            counts = job.result(0).get_counts()\n",
    "            score = benchmark.score(counts)\n",
    "            score_list.append(score)\n",
    "        score = np.mean(score_list) \n",
    "        sd = np.std(score_list)\n",
    "        print(label,\" --> score :: \",score,\"           SD :: \",sd,\"  time_taken= \",job.result(0).time_taken)\n",
    "        #counts=job.result(0).count()\n",
    "        jobs.append((label,benchmark,backend,job,score,sd))\n",
    "#jobs"
   ]
  },
  {
   "cell_type": "code",
   "execution_count": null,
   "id": "0ab7eec9-047d-4e82-adb7-c5732f89f2cb",
   "metadata": {},
   "outputs": [],
   "source": [
    "all_scores={}  \n",
    "all_fake_names=[]\n",
    "all_fake_scores=[]\n",
    "for i in selected_fakes:\n",
    "    fakes=i\n",
    "    i={}\n",
    "    for label,benchmark,backend,job,score,sd in jobs:\n",
    "        #supermarq.plotting.plot_results([score], [label])\n",
    "        if fakes == backend:\n",
    "            i[label] = score\n",
    "    device_scores = 'device_score_' +str(fakes().name)\n",
    "    all_scores[device_scores]= i\n",
    "    all_fake_scores.append(i)\n",
    "    all_fake_names.append(device_scores)   "
   ]
  },
  {
   "cell_type": "code",
   "execution_count": null,
   "id": "d3403c08-3b8d-4c2e-a49f-0db9a3baeb38",
   "metadata": {
    "scrolled": true
   },
   "outputs": [],
   "source": [
    "for label,benchmark,backend,job,score,sd in jobs:\n",
    "    print(\"USED BACKEND::\",backend().name,\"; CIRCUIT_NAME:\",label, \"; SCORE =\",score)\n",
    "    supermarq.plotting.plot_results([score], [label])\n",
    "    print(\"-----------------------------------------------------------\")"
   ]
  },
  {
   "cell_type": "code",
   "execution_count": null,
   "id": "601d72a9-2c0d-45d5-a412-fee9cf135e36",
   "metadata": {
    "scrolled": true
   },
   "outputs": [],
   "source": [
    "names=[]\n",
    "scores=[]\n",
    "X=\"A \"+name_of_algo+' Benchamrk'\n",
    "for i,j in benchmark_features.items():\n",
    "    names.append(i)\n",
    "    scores.append(j)\n",
    "supermarq.plotting.plot_benchmark(\n",
    "        [X,names,scores],\n",
    "        spoke_labels=[\"PC\", \"CD\", \"Ent\", \"Liv\", \"Mea\", \"Par\"],\n",
    "        show=True)"
   ]
  },
  {
   "cell_type": "code",
   "execution_count": null,
   "id": "b5b7d4b8-132c-4b73-b9f2-d6d24f645362",
   "metadata": {
    "scrolled": true
   },
   "outputs": [],
   "source": [
    "supermarq.plotting.plot_correlations(benchmark_features,all_fake_scores,[\"PC\", \"CD\", \"Ent\", \"Liv\", \"Mea\", \"Par\"],device_name=all_fake_names,show=True,)"
   ]
  },
  {
   "cell_type": "code",
   "execution_count": null,
   "id": "7d4287d4-0321-4d5f-96a1-4ad51b73fe81",
   "metadata": {},
   "outputs": [],
   "source": [
    "%matplotlib inline \n",
    "import matplotlib.pyplot as plt \n",
    "import numpy as np\n",
    "all_fake_names=[]\n",
    "all_score=[]\n",
    "all_sd=[]\n",
    "all_ckt=[]\n",
    "for i in selected_fakes:\n",
    "    all_fake_names.append(i().name)    \n",
    "for benchmark, label in benchmarks:\n",
    "    i=[]\n",
    "    j=[]\n",
    "    k=[]\n",
    "    for ckt,benchmark,backend,job,score,sd in jobs:\n",
    "        if ckt == label:\n",
    "            i.append(score)\n",
    "            j.append(sd)\n",
    "    all_ckt.append(label)\n",
    "    all_score.append(i)\n",
    "    all_sd.append(j)\n",
    "num_bars = len(all_score)\n",
    "width = 0.1\n",
    "x = np.arange(len(all_fake_names)) # x-axis positions for each bar\n",
    "fig, ax = plt.subplots()\n",
    "for i in range(num_bars):               # Create bars for each category with appropriate offsets\n",
    "    ax.bar(x + i * width, all_score[i], width=width, label=f'Bar {i+1}', \n",
    "           yerr=all_sd[i],align='center',alpha=0.9,ecolor='black',capsize=2)\n",
    "ax.set_xlabel('Name of Fake Backends',fontweight ='bold',fontsize = 12)\n",
    "ax.set_ylabel('Scores',fontweight ='bold',fontsize = 12)\n",
    "ax.set_title('Plot of GHZ over Multiple Qubits')\n",
    "ax.set_xticks(x + (num_bars - 1) * width / 2)\n",
    "ax.set_xticklabels(all_fake_names)\n",
    "ax.legend(all_ckt,loc=\"lower left\")\n",
    "#ax.grid(True)\n",
    "plt.show()"
   ]
  }
 ],
 "metadata": {
  "kernelspec": {
   "display_name": "Python 3 (ipykernel)",
   "language": "python",
   "name": "python3"
  },
  "language_info": {
   "codemirror_mode": {
    "name": "ipython",
    "version": 3
   },
   "file_extension": ".py",
   "mimetype": "text/x-python",
   "name": "python",
   "nbconvert_exporter": "python",
   "pygments_lexer": "ipython3",
   "version": "3.10.14"
  }
 },
 "nbformat": 4,
 "nbformat_minor": 5
}
