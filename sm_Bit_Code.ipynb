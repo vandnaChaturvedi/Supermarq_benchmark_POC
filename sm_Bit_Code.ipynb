{
 "cells": [
  {
   "cell_type": "code",
   "execution_count": 1,
   "id": "1b681850-7dba-4fab-a7ad-10824e1061a2",
   "metadata": {
    "scrolled": true
   },
   "outputs": [],
   "source": [
    "from qiskit_aer import AerSimulator\n",
    "from qiskit import *\n",
    "import qiskit_superstaq as qss\n",
    "import supermarq\n",
    "import numpy as np \n",
    "import os"
   ]
  },
  {
   "cell_type": "code",
   "execution_count": 2,
   "id": "42df5a40-9fda-44b9-882a-e0b69e3b3770",
   "metadata": {},
   "outputs": [
    {
     "data": {
      "text/html": [
       "<pre style=\"word-wrap: normal;white-space: pre;background: #fff0;line-height: 1.1;font-family: &quot;Courier New&quot;,Courier,monospace\">     ┌───┐          ┌─┐                      \n",
       "q_0: ┤ H ├──■───────┤M├──────────────────────\n",
       "     └───┘┌─┴─┐     └╥┘     ┌─┐              \n",
       "q_1: ─────┤ X ├──■───╫──────┤M├──────────────\n",
       "          └───┘┌─┴─┐ ║      └╥┘     ┌─┐      \n",
       "q_2: ──────────┤ X ├─╫───■───╫──────┤M├──────\n",
       "               └───┘ ║ ┌─┴─┐ ║      └╥┘┌─┐   \n",
       "q_3: ────────────────╫─┤ X ├─╫───■───╫─┤M├───\n",
       "                     ║ └───┘ ║ ┌─┴─┐ ║ └╥┘┌─┐\n",
       "q_4: ────────────────╫───────╫─┤ X ├─╫──╫─┤M├\n",
       "                     ║       ║ └───┘ ║  ║ └╥┘\n",
       "c: 5/════════════════╩═══════╩═══════╩══╩══╩═\n",
       "                     0       1       2  3  4 </pre>"
      ],
      "text/plain": [
       "     ┌───┐          ┌─┐                      \n",
       "q_0: ┤ H ├──■───────┤M├──────────────────────\n",
       "     └───┘┌─┴─┐     └╥┘     ┌─┐              \n",
       "q_1: ─────┤ X ├──■───╫──────┤M├──────────────\n",
       "          └───┘┌─┴─┐ ║      └╥┘     ┌─┐      \n",
       "q_2: ──────────┤ X ├─╫───■───╫──────┤M├──────\n",
       "               └───┘ ║ ┌─┴─┐ ║      └╥┘┌─┐   \n",
       "q_3: ────────────────╫─┤ X ├─╫───■───╫─┤M├───\n",
       "                     ║ └───┘ ║ ┌─┴─┐ ║ └╥┘┌─┐\n",
       "q_4: ────────────────╫───────╫─┤ X ├─╫──╫─┤M├\n",
       "                     ║       ║ └───┘ ║  ║ └╥┘\n",
       "c: 5/════════════════╩═══════╩═══════╩══╩══╩═\n",
       "                     0       1       2  3  4 "
      ]
     },
     "execution_count": 2,
     "metadata": {},
     "output_type": "execute_result"
    }
   ],
   "source": [
    "ghz = supermarq.ghz.GHZ(5)\n",
    "ghz_circuit = ghz.qiskit_circuit()\n",
    "ghz_circuit.draw()"
   ]
  },
  {
   "cell_type": "code",
   "execution_count": null,
   "id": "519c4db0-09fa-42ea-a37a-cc2babf9244e",
   "metadata": {},
   "outputs": [],
   "source": [
    "emulator = Aer.get_backend('aer_simulator_density_matrix')"
   ]
  },
  {
   "cell_type": "code",
   "execution_count": 1,
   "id": "b2e8d2a4-ebad-40f4-a671-0155ca2c2566",
   "metadata": {},
   "outputs": [
    {
     "ename": "NameError",
     "evalue": "name 'transpile' is not defined",
     "output_type": "error",
     "traceback": [
      "\u001b[0;31m---------------------------------------------------------------------------\u001b[0m",
      "\u001b[0;31mNameError\u001b[0m                                 Traceback (most recent call last)",
      "Cell \u001b[0;32mIn[1], line 1\u001b[0m\n\u001b[0;32m----> 1\u001b[0m qc \u001b[38;5;241m=\u001b[39m \u001b[43mtranspile\u001b[49m(ghz_circuit, emulator)\n\u001b[1;32m      2\u001b[0m job \u001b[38;5;241m=\u001b[39m execute(qc, emulator, shots\u001b[38;5;241m=\u001b[39m\u001b[38;5;241m8192\u001b[39m, memory\u001b[38;5;241m=\u001b[39m\u001b[38;5;28;01mTrue\u001b[39;00m)\n\u001b[1;32m      3\u001b[0m data\u001b[38;5;241m=\u001b[39mjob\u001b[38;5;241m.\u001b[39mresult()\n",
      "\u001b[0;31mNameError\u001b[0m: name 'transpile' is not defined"
     ]
    }
   ],
   "source": [
    "qc = transpile(ghz_circuit, emulator)\n",
    "job = execute(qc, emulator, shots=8192, memory=True)\n",
    "data=job.result()\n",
    "job.status()"
   ]
  },
  {
   "cell_type": "code",
   "execution_count": 4,
   "id": "b7789a55-6a10-49b5-a77e-43b834b71504",
   "metadata": {},
   "outputs": [
    {
     "ename": "NameError",
     "evalue": "name 'supermarq' is not defined",
     "output_type": "error",
     "traceback": [
      "\u001b[0;31m---------------------------------------------------------------------------\u001b[0m",
      "\u001b[0;31mNameError\u001b[0m                                 Traceback (most recent call last)",
      "Cell \u001b[0;32mIn[4], line 1\u001b[0m\n\u001b[0;32m----> 1\u001b[0m mb3 \u001b[38;5;241m=\u001b[39m \u001b[43msupermarq\u001b[49m\u001b[38;5;241m.\u001b[39mmermin_bell\u001b[38;5;241m.\u001b[39mMerminBell(\u001b[38;5;241m3\u001b[39m)\u001b[38;5;241m.\u001b[39mqiskit_circuit()\n\u001b[1;32m      2\u001b[0m mb3_features \u001b[38;5;241m=\u001b[39m [\n\u001b[1;32m      3\u001b[0m     supermarq\u001b[38;5;241m.\u001b[39mconverters\u001b[38;5;241m.\u001b[39mcompute_communication_with_qiskit(mb3),\n\u001b[1;32m      4\u001b[0m     supermarq\u001b[38;5;241m.\u001b[39mconverters\u001b[38;5;241m.\u001b[39mcompute_depth_with_qiskit(mb3),\n\u001b[0;32m   (...)\u001b[0m\n\u001b[1;32m      8\u001b[0m     supermarq\u001b[38;5;241m.\u001b[39mconverters\u001b[38;5;241m.\u001b[39mcompute_parallelism_with_qiskit(mb3),\n\u001b[1;32m      9\u001b[0m ]\n\u001b[1;32m     10\u001b[0m \u001b[38;5;28mprint\u001b[39m(mb3_features)\n",
      "\u001b[0;31mNameError\u001b[0m: name 'supermarq' is not defined"
     ]
    }
   ],
   "source": [
    "data = job.result()\n",
    "data"
   ]
  },
  {
   "cell_type": "code",
   "execution_count": 5,
   "id": "0ab7eec9-047d-4e82-adb7-c5732f89f2cb",
   "metadata": {},
   "outputs": [
    {
     "ename": "NameError",
     "evalue": "name 'mb3' is not defined",
     "output_type": "error",
     "traceback": [
      "\u001b[0;31m---------------------------------------------------------------------------\u001b[0m",
      "\u001b[0;31mNameError\u001b[0m                                 Traceback (most recent call last)",
      "Cell \u001b[0;32mIn[5], line 1\u001b[0m\n\u001b[0;32m----> 1\u001b[0m \u001b[43mmb3\u001b[49m\u001b[38;5;241m.\u001b[39mdraw()\n",
      "\u001b[0;31mNameError\u001b[0m: name 'mb3' is not defined"
     ]
    }
   ],
   "source": [
    "counts = job.result().get_counts()\n",
    "print(counts)"
   ]
  },
  {
   "cell_type": "code",
   "execution_count": 6,
   "id": "d3403c08-3b8d-4c2e-a49f-0db9a3baeb38",
   "metadata": {},
   "outputs": [
    {
     "ename": "NameError",
     "evalue": "name 'supermarq' is not defined",
     "output_type": "error",
     "traceback": [
      "\u001b[0;31m---------------------------------------------------------------------------\u001b[0m",
      "\u001b[0;31mNameError\u001b[0m                                 Traceback (most recent call last)",
      "Cell \u001b[0;32mIn[6], line 1\u001b[0m\n\u001b[0;32m----> 1\u001b[0m \u001b[43msupermarq\u001b[49m\u001b[38;5;241m.\u001b[39mplotting\u001b[38;5;241m.\u001b[39mplot_benchmark(\n\u001b[1;32m      2\u001b[0m     [\u001b[38;5;124m\"\u001b[39m\u001b[38;5;124mA Marmin Bell with qubit-3 benchmark\u001b[39m\u001b[38;5;124m\"\u001b[39m, [\u001b[38;5;124m\"\u001b[39m\u001b[38;5;124mmb3\u001b[39m\u001b[38;5;124m\"\u001b[39m], [mb3_features]],\n\u001b[1;32m      3\u001b[0m     spoke_labels\u001b[38;5;241m=\u001b[39m[\u001b[38;5;124m\"\u001b[39m\u001b[38;5;124mPC\u001b[39m\u001b[38;5;124m\"\u001b[39m, \u001b[38;5;124m\"\u001b[39m\u001b[38;5;124mCD\u001b[39m\u001b[38;5;124m\"\u001b[39m, \u001b[38;5;124m\"\u001b[39m\u001b[38;5;124mEnt\u001b[39m\u001b[38;5;124m\"\u001b[39m, \u001b[38;5;124m\"\u001b[39m\u001b[38;5;124mLiv\u001b[39m\u001b[38;5;124m\"\u001b[39m, \u001b[38;5;124m\"\u001b[39m\u001b[38;5;124mMea\u001b[39m\u001b[38;5;124m\"\u001b[39m, \u001b[38;5;124m\"\u001b[39m\u001b[38;5;124mPar\u001b[39m\u001b[38;5;124m\"\u001b[39m],\n\u001b[1;32m      4\u001b[0m )\n",
      "\u001b[0;31mNameError\u001b[0m: name 'supermarq' is not defined"
     ]
    }
   ],
   "source": [
    "score = ghz.score(counts)\n",
    "print(score)"
   ]
  },
  {
   "cell_type": "code",
   "execution_count": 7,
   "id": "601d72a9-2c0d-45d5-a412-fee9cf135e36",
   "metadata": {},
   "outputs": [
    {
     "ename": "NameError",
     "evalue": "name 'supermarq' is not defined",
     "output_type": "error",
     "traceback": [
      "\u001b[0;31m---------------------------------------------------------------------------\u001b[0m",
      "\u001b[0;31mNameError\u001b[0m                                 Traceback (most recent call last)",
      "Cell \u001b[0;32mIn[7], line 3\u001b[0m\n\u001b[1;32m      1\u001b[0m benchmark_features \u001b[38;5;241m=\u001b[39m {}\n\u001b[1;32m      2\u001b[0m benchmarks \u001b[38;5;241m=\u001b[39m [\n\u001b[0;32m----> 3\u001b[0m     (\u001b[43msupermarq\u001b[49m\u001b[38;5;241m.\u001b[39mghz\u001b[38;5;241m.\u001b[39mGHZ(\u001b[38;5;241m5\u001b[39m), \u001b[38;5;124m\"\u001b[39m\u001b[38;5;124mghz5\u001b[39m\u001b[38;5;124m\"\u001b[39m),\n\u001b[1;32m      4\u001b[0m     (supermarq\u001b[38;5;241m.\u001b[39mhamiltonian_simulation\u001b[38;5;241m.\u001b[39mHamiltonianSimulation(\u001b[38;5;241m4\u001b[39m), \u001b[38;5;124m\"\u001b[39m\u001b[38;5;124mhsim4\u001b[39m\u001b[38;5;124m\"\u001b[39m),\n\u001b[1;32m      5\u001b[0m ]\n\u001b[1;32m      6\u001b[0m \u001b[38;5;28;01mfor\u001b[39;00m benchmark, label \u001b[38;5;129;01min\u001b[39;00m benchmarks:\n\u001b[1;32m      7\u001b[0m     benchmark_features[label] \u001b[38;5;241m=\u001b[39m [\n\u001b[1;32m      8\u001b[0m         supermarq\u001b[38;5;241m.\u001b[39mconverters\u001b[38;5;241m.\u001b[39mcompute_communication_with_qiskit(benchmark\u001b[38;5;241m.\u001b[39mqiskit_circuit()),\n\u001b[1;32m      9\u001b[0m         supermarq\u001b[38;5;241m.\u001b[39mconverters\u001b[38;5;241m.\u001b[39mcompute_depth_with_qiskit(benchmark\u001b[38;5;241m.\u001b[39mqiskit_circuit()),\n\u001b[0;32m   (...)\u001b[0m\n\u001b[1;32m     13\u001b[0m         supermarq\u001b[38;5;241m.\u001b[39mconverters\u001b[38;5;241m.\u001b[39mcompute_parallelism_with_qiskit(benchmark\u001b[38;5;241m.\u001b[39mqiskit_circuit()),\n\u001b[1;32m     14\u001b[0m     ]\n",
      "\u001b[0;31mNameError\u001b[0m: name 'supermarq' is not defined"
     ]
    }
   ],
   "source": [
    "supermarq.plotting.plot_results([score], [\"ghz_5\"])"
   ]
  },
  {
   "cell_type": "code",
   "execution_count": 8,
   "id": "b5b7d4b8-132c-4b73-b9f2-d6d24f645362",
   "metadata": {},
   "outputs": [
    {
     "ename": "NameError",
     "evalue": "name 'Aer' is not defined",
     "output_type": "error",
     "traceback": [
      "\u001b[0;31m---------------------------------------------------------------------------\u001b[0m",
      "\u001b[0;31mNameError\u001b[0m                                 Traceback (most recent call last)",
      "Cell \u001b[0;32mIn[8], line 1\u001b[0m\n\u001b[0;32m----> 1\u001b[0m emulator \u001b[38;5;241m=\u001b[39m \u001b[43mAer\u001b[49m\u001b[38;5;241m.\u001b[39mget_backend(\u001b[38;5;124m'\u001b[39m\u001b[38;5;124maer_simulator_statevector\u001b[39m\u001b[38;5;124m'\u001b[39m)\n\u001b[1;32m      2\u001b[0m job \u001b[38;5;241m=\u001b[39m execute(transpile(mb3, emulator), emulator, shots\u001b[38;5;241m=\u001b[39m\u001b[38;5;241m8192\u001b[39m, memory\u001b[38;5;241m=\u001b[39m\u001b[38;5;28;01mTrue\u001b[39;00m)\n\u001b[1;32m      3\u001b[0m job\n",
      "\u001b[0;31mNameError\u001b[0m: name 'Aer' is not defined"
     ]
    }
   ],
   "source": [
    "ghz_features = [\n",
    "    supermarq.converters.compute_communication_with_qiskit(ghz_circuit),\n",
    "    supermarq.converters.compute_depth_with_qiskit(ghz_circuit),\n",
    "    supermarq.converters.compute_entanglement_with_qiskit(ghz_circuit),\n",
    "    supermarq.converters.compute_liveness_with_qiskit(ghz_circuit),\n",
    "    supermarq.converters.compute_measurement_with_qiskit(ghz_circuit),\n",
    "    supermarq.converters.compute_parallelism_with_qiskit(ghz_circuit),\n",
    "]\n",
    "print(ghz_features)\n",
    "print(\"--------------------------------------------------------------\")\n",
    "supermarq.plotting.plot_benchmark(\n",
    "    [\"A single GHZ benchmark\", [\"ghz5\"], [ghz_features]],\n",
    "    spoke_labels=[\"PC\", \"CD\", \"Ent\", \"Liv\", \"Mea\", \"Par\"],\n",
    ")"
   ]
  },
  {
   "cell_type": "code",
   "execution_count": 9,
   "id": "7d4287d4-0321-4d5f-96a1-4ad51b73fe81",
   "metadata": {},
   "outputs": [
    {
     "ename": "NameError",
     "evalue": "name 'job' is not defined",
     "output_type": "error",
     "traceback": [
      "\u001b[0;31m---------------------------------------------------------------------------\u001b[0m",
      "\u001b[0;31mNameError\u001b[0m                                 Traceback (most recent call last)",
      "Cell \u001b[0;32mIn[9], line 1\u001b[0m\n\u001b[0;32m----> 1\u001b[0m data\u001b[38;5;241m=\u001b[39m\u001b[43mjob\u001b[49m\u001b[38;5;241m.\u001b[39mresult()\n\u001b[1;32m      2\u001b[0m data\n",
      "\u001b[0;31mNameError\u001b[0m: name 'job' is not defined"
     ]
    }
   ],
   "source": [
    "supermarq.plotting.plot_results([score], [\"ghz_5\"])"
   ]
  },
  {
   "cell_type": "code",
   "execution_count": 10,
   "id": "624d5d22-7427-4707-8776-722927ebfefa",
   "metadata": {},
   "outputs": [
    {
     "ename": "NameError",
     "evalue": "name 'job' is not defined",
     "output_type": "error",
     "traceback": [
      "\u001b[0;31m---------------------------------------------------------------------------\u001b[0m",
      "\u001b[0;31mNameError\u001b[0m                                 Traceback (most recent call last)",
      "Cell \u001b[0;32mIn[10], line 1\u001b[0m\n\u001b[0;32m----> 1\u001b[0m counts \u001b[38;5;241m=\u001b[39m \u001b[43mjob\u001b[49m\u001b[38;5;241m.\u001b[39mresult()\u001b[38;5;241m.\u001b[39mget_counts()\n\u001b[1;32m      2\u001b[0m \u001b[38;5;28mprint\u001b[39m(counts)\n",
      "\u001b[0;31mNameError\u001b[0m: name 'job' is not defined"
     ]
    }
   ],
   "source": [
    "benchmark_features = {}\n",
    "benchmarks = [(supermarq.ghz.GHZ(5), \"ghz5\"),(supermarq.ghz.GHZ(6), \"ghz6\"),]\n",
    "\n",
    "for benchmark, label in benchmarks:\n",
    "    benchmark_features[label] = [\n",
    "        supermarq.converters.compute_communication_with_qiskit(benchmark.qiskit_circuit()),\n",
    "        supermarq.converters.compute_depth_with_qiskit(benchmark.qiskit_circuit()),\n",
    "        supermarq.converters.compute_entanglement_with_qiskit(benchmark.qiskit_circuit()),\n",
    "        supermarq.converters.compute_liveness_with_qiskit(benchmark.qiskit_circuit()),\n",
    "        supermarq.converters.compute_measurement_with_qiskit(benchmark.qiskit_circuit()),\n",
    "        supermarq.converters.compute_parallelism_with_qiskit(benchmark.qiskit_circuit()),]\n",
    "print(benchmark_features)"
   ]
  },
  {
   "cell_type": "code",
   "execution_count": 11,
   "id": "a0c3d8cf-aea7-4235-b65b-cd943e6593a2",
   "metadata": {},
   "outputs": [
    {
     "ename": "NameError",
     "evalue": "name 'Aer' is not defined",
     "output_type": "error",
     "traceback": [
      "\u001b[0;31m---------------------------------------------------------------------------\u001b[0m",
      "\u001b[0;31mNameError\u001b[0m                                 Traceback (most recent call last)",
      "Cell \u001b[0;32mIn[11], line 2\u001b[0m\n\u001b[1;32m      1\u001b[0m jobs \u001b[38;5;241m=\u001b[39m []\n\u001b[0;32m----> 2\u001b[0m backend \u001b[38;5;241m=\u001b[39m \u001b[43mAer\u001b[49m\u001b[38;5;241m.\u001b[39mget_backend(\u001b[38;5;124m'\u001b[39m\u001b[38;5;124maer_simulator_statevector\u001b[39m\u001b[38;5;124m'\u001b[39m)\n\u001b[1;32m      3\u001b[0m \u001b[38;5;28;01mfor\u001b[39;00m benchmark, label \u001b[38;5;129;01min\u001b[39;00m benchmarks:\n\u001b[1;32m      4\u001b[0m     job \u001b[38;5;241m=\u001b[39m backend\u001b[38;5;241m.\u001b[39mrun(benchmark\u001b[38;5;241m.\u001b[39mmb3(), shots\u001b[38;5;241m=\u001b[39m\u001b[38;5;241m1000\u001b[39m)\n",
      "\u001b[0;31mNameError\u001b[0m: name 'Aer' is not defined"
     ]
    }
   ],
   "source": [
    "jobs = []\n",
    "for benchmark, label in benchmarks:\n",
    "    job = emulator.run(benchmark.qiskit_circuit(), shots=1000)\n",
    "    jobs.append((label, job, benchmark))\n",
    "jobs"
   ]
  },
  {
   "cell_type": "code",
   "execution_count": null,
   "id": "f0dd37d8-58b9-4a2a-b2fa-c63d322c311a",
   "metadata": {},
   "outputs": [],
   "source": [
    "device_scores = {}\n",
    "for label, job, benchmark in jobs:\n",
    "    if job.status() == qiskit.providers.jobstatus.JobStatus.DONE:\n",
    "        counts = job.result(0).get_counts()\n",
    "        print(counts)\n",
    "        score = benchmark.score(counts)\n",
    "        print(score)\n",
    "        device_scores[label] = score\n",
    "    else:\n",
    "        print(label, \"not done!\")"
   ]
  },
  {
   "cell_type": "code",
   "execution_count": null,
   "id": "7c7c8e99",
   "metadata": {},
   "outputs": [],
   "source": [
    "supermarq.plotting.plot_correlations(benchmark_features,\n",
    "    device_scores,\n",
    "    [\"PC\", \"CD\", \"Ent\", \"Liv\", \"Mea\", \"Par\"],\n",
    "    device_name=\"Aer_DM_Sim\",)"
   ]
  }
 ],
 "metadata": {
  "kernelspec": {
   "display_name": "Python 3 (ipykernel)",
   "language": "python",
   "name": "python3"
  },
  "language_info": {
   "codemirror_mode": {
    "name": "ipython",
    "version": 3
   },
   "file_extension": ".py",
   "mimetype": "text/x-python",
   "name": "python",
   "nbconvert_exporter": "python",
   "pygments_lexer": "ipython3",
   "version": "3.10.14"
  }
 },
 "nbformat": 4,
 "nbformat_minor": 5
}
