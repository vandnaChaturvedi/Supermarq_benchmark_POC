{
 "cells": [
  {
   "cell_type": "code",
   "execution_count": 2,
   "id": "1b681850-7dba-4fab-a7ad-10824e1061a2",
   "metadata": {
    "scrolled": true
   },
   "outputs": [
    {
     "ename": "ImportError",
     "evalue": "cannot import name 'AerSimulator' from 'qiskit_aer' (unknown location)",
     "output_type": "error",
     "traceback": [
      "\u001b[0;31m---------------------------------------------------------------------------\u001b[0m",
      "\u001b[0;31mImportError\u001b[0m                               Traceback (most recent call last)",
      "Cell \u001b[0;32mIn[2], line 14\u001b[0m\n\u001b[1;32m     12\u001b[0m \u001b[38;5;28;01mimport\u001b[39;00m \u001b[38;5;21;01mqiskit\u001b[39;00m\u001b[38;5;21;01m.\u001b[39;00m\u001b[38;5;21;01mquantum_info\u001b[39;00m \u001b[38;5;28;01mas\u001b[39;00m \u001b[38;5;21;01mqi\u001b[39;00m\n\u001b[1;32m     13\u001b[0m \u001b[38;5;28;01mfrom\u001b[39;00m \u001b[38;5;21;01m__future__\u001b[39;00m \u001b[38;5;28;01mimport\u001b[39;00m annotations\n\u001b[0;32m---> 14\u001b[0m \u001b[38;5;28;01mfrom\u001b[39;00m \u001b[38;5;21;01mqiskit_aer\u001b[39;00m \u001b[38;5;28;01mimport\u001b[39;00m AerSimulator\n\u001b[1;32m     15\u001b[0m \u001b[38;5;28;01mfrom\u001b[39;00m \u001b[38;5;21;01mqiskit_aer\u001b[39;00m\u001b[38;5;21;01m.\u001b[39;00m\u001b[38;5;21;01mnoise\u001b[39;00m \u001b[38;5;28;01mimport\u001b[39;00m NoiseModel, amplitude_damping_error\n\u001b[1;32m     16\u001b[0m \u001b[38;5;28;01mfrom\u001b[39;00m \u001b[38;5;21;01msupermarq\u001b[39;00m \u001b[38;5;28;01mimport\u001b[39;00m stabilizers\n",
      "\u001b[0;31mImportError\u001b[0m: cannot import name 'AerSimulator' from 'qiskit_aer' (unknown location)"
     ]
    }
   ],
   "source": [
    "from supermarq import * \n",
    "import supermarq\n",
    "import cirq\n",
    "#import qiskit\n",
    "from qiskit.quantum_info import hellinger_fidelity\n",
    "from supermarq.benchmark import Benchmark\n",
    "from typing import cast\n",
    "import cirq\n",
    "import numpy as np\n",
    "import sympy\n",
    "from qiskit import transpile, QuantumCircuit\n",
    "import qiskit.quantum_info as qi\n",
    "from __future__ import annotations\n",
    "from qiskit_aer import AerSimulator\n",
    "from qiskit_aer.noise import NoiseModel, amplitude_damping_error\n",
    "from supermarq import stabilizers\n",
    "from supermarq.benchmark import Benchmark\n",
    "from qiskit.tools.visualization import plot_histogram\n",
    "#---------------Plain qft code starts--------------------\n",
    "from concurrent.futures import ThreadPoolExecutor\n",
    "from qiskit import *\n",
    "from time import *\n",
    "import numpy as np"
   ]
  },
  {
   "cell_type": "code",
   "execution_count": 1,
   "id": "42df5a40-9fda-44b9-882a-e0b69e3b3770",
   "metadata": {},
   "outputs": [
    {
     "ename": "AttributeError",
     "evalue": "module 'qiskit' has no attribute 'QuantumCircuit'",
     "output_type": "error",
     "traceback": [
      "\u001b[0;31m---------------------------------------------------------------------------\u001b[0m",
      "\u001b[0;31mAttributeError\u001b[0m                            Traceback (most recent call last)",
      "Cell \u001b[0;32mIn[1], line 1\u001b[0m\n\u001b[0;32m----> 1\u001b[0m \u001b[38;5;28;01mfrom\u001b[39;00m \u001b[38;5;21;01msupermarq\u001b[39;00m \u001b[38;5;28;01mimport\u001b[39;00m \u001b[38;5;241m*\u001b[39m\n",
      "File \u001b[0;32m~/supermarq/client-superstaq/supermarq-benchmarks/supermarq/__init__.py:1\u001b[0m\n\u001b[0;32m----> 1\u001b[0m \u001b[38;5;28;01mfrom\u001b[39;00m \u001b[38;5;21;01m.\u001b[39;00m \u001b[38;5;28;01mimport\u001b[39;00m benchmark, converters, features, plotting, simulation, stabilizers\n\u001b[1;32m      2\u001b[0m \u001b[38;5;28;01mfrom\u001b[39;00m \u001b[38;5;21;01m.\u001b[39;00m\u001b[38;5;21;01m_version\u001b[39;00m \u001b[38;5;28;01mimport\u001b[39;00m __version__\n\u001b[1;32m      3\u001b[0m \u001b[38;5;28;01mfrom\u001b[39;00m \u001b[38;5;21;01m.\u001b[39;00m\u001b[38;5;21;01mbenchmarks\u001b[39;00m \u001b[38;5;28;01mimport\u001b[39;00m (\n\u001b[1;32m      4\u001b[0m     bit_code,\n\u001b[1;32m      5\u001b[0m     ghz,\n\u001b[0;32m   (...)\u001b[0m\n\u001b[1;32m     11\u001b[0m     vqe_proxy,\n\u001b[1;32m     12\u001b[0m )\n",
      "File \u001b[0;32m~/supermarq/client-superstaq/supermarq-benchmarks/supermarq/converters.py:7\u001b[0m\n\u001b[1;32m      3\u001b[0m \u001b[38;5;28;01mimport\u001b[39;00m \u001b[38;5;21;01mnumpy\u001b[39;00m \u001b[38;5;28;01mas\u001b[39;00m \u001b[38;5;21;01mnp\u001b[39;00m\n\u001b[1;32m      4\u001b[0m \u001b[38;5;28;01mimport\u001b[39;00m \u001b[38;5;21;01mqiskit\u001b[39;00m\n\u001b[0;32m----> 7\u001b[0m \u001b[38;5;28;01mdef\u001b[39;00m \u001b[38;5;21mcirq_to_qiskit\u001b[39m(circuit: cirq\u001b[38;5;241m.\u001b[39mCircuit) \u001b[38;5;241m-\u001b[39m\u001b[38;5;241m>\u001b[39m \u001b[43mqiskit\u001b[49m\u001b[38;5;241;43m.\u001b[39;49m\u001b[43mQuantumCircuit\u001b[49m:\n\u001b[1;32m      8\u001b[0m \u001b[38;5;250m    \u001b[39m\u001b[38;5;124;03m\"\"\"Convert a circuit from cirq to qiskit.\u001b[39;00m\n\u001b[1;32m      9\u001b[0m \n\u001b[1;32m     10\u001b[0m \u001b[38;5;124;03m    Args:\u001b[39;00m\n\u001b[0;32m   (...)\u001b[0m\n\u001b[1;32m     14\u001b[0m \u001b[38;5;124;03m        An equivalent `qiskit.QuantumCircuit`.\u001b[39;00m\n\u001b[1;32m     15\u001b[0m \u001b[38;5;124;03m    \"\"\"\u001b[39;00m\n\u001b[1;32m     16\u001b[0m     qasm \u001b[38;5;241m=\u001b[39m cirq\u001b[38;5;241m.\u001b[39mcircuits\u001b[38;5;241m.\u001b[39mQasmOutput(circuit, \u001b[38;5;28mtuple\u001b[39m(\u001b[38;5;28msorted\u001b[39m(circuit\u001b[38;5;241m.\u001b[39mall_qubits())))\n",
      "\u001b[0;31mAttributeError\u001b[0m: module 'qiskit' has no attribute 'QuantumCircuit'"
     ]
    }
   ],
   "source": [
    "from supermarq import *"
   ]
  },
  {
   "cell_type": "code",
   "execution_count": null,
   "id": "519c4db0-09fa-42ea-a37a-cc2babf9244e",
   "metadata": {},
   "outputs": [],
   "source": [
    "#BENCHMARKS: list[tuple[supermarq.benchmark.Benchmark, str]] = [\n",
    " #   (supermarq.ghz.GHZ(5), \"ghz5\"),\n",
    " #   (supermarq.hamiltonian_simulation.HamiltonianSimulation(4), \"hsim4\"),\n",
    "  #  (supermarq.mermin_bell.MerminBell(3), \"mb3\"),\n",
    "   # (supermarq.bit_code.BitCode(3, 3, [1, 0, 1]), \"bitcode3\"),\n",
    "#]"
   ]
  },
  {
   "cell_type": "code",
   "execution_count": 2,
   "id": "b2e8d2a4-ebad-40f4-a671-0155ca2c2566",
   "metadata": {},
   "outputs": [
    {
     "ename": "NameError",
     "evalue": "name 'Benchmark' is not defined",
     "output_type": "error",
     "traceback": [
      "\u001b[0;31m---------------------------------------------------------------------------\u001b[0m",
      "\u001b[0;31mNameError\u001b[0m                                 Traceback (most recent call last)",
      "Cell \u001b[0;32mIn[2], line 1\u001b[0m\n\u001b[0;32m----> 1\u001b[0m \u001b[38;5;28;01mclass\u001b[39;00m \u001b[38;5;21;01mMerminBell\u001b[39;00m(\u001b[43mBenchmark\u001b[49m):\n\u001b[1;32m      2\u001b[0m \u001b[38;5;250m    \u001b[39m\u001b[38;5;124;03m\"\"\"The Mermin-Bell benchmark is a test of a quantum computer's ability to exploit purely quantum\u001b[39;00m\n\u001b[1;32m      3\u001b[0m \u001b[38;5;124;03m    phenomemna such as superposition and entanglement. It is based on the famous Bell-inequality\u001b[39;00m\n\u001b[1;32m      4\u001b[0m \u001b[38;5;124;03m    tests of locality. Performance is based on a QPU's ability to prepare a GHZ state and measure\u001b[39;00m\n\u001b[1;32m      5\u001b[0m \u001b[38;5;124;03m    the Mermin operator.\u001b[39;00m\n\u001b[1;32m      6\u001b[0m \u001b[38;5;124;03m    \"\"\"\u001b[39;00m\n\u001b[1;32m      8\u001b[0m     \u001b[38;5;28;01mdef\u001b[39;00m \u001b[38;5;21m__init__\u001b[39m(\u001b[38;5;28mself\u001b[39m, num_qubits: \u001b[38;5;28mint\u001b[39m) \u001b[38;5;241m-\u001b[39m\u001b[38;5;241m>\u001b[39m \u001b[38;5;28;01mNone\u001b[39;00m:\n",
      "\u001b[0;31mNameError\u001b[0m: name 'Benchmark' is not defined"
     ]
    }
   ],
   "source": [
    "class MerminBell(Benchmark):\n",
    "    \"\"\"The Mermin-Bell benchmark is a test of a quantum computer's ability to exploit purely quantum\n",
    "    phenomemna such as superposition and entanglement. It is based on the famous Bell-inequality\n",
    "    tests of locality. Performance is based on a QPU's ability to prepare a GHZ state and measure\n",
    "    the Mermin operator.\n",
    "    \"\"\"\n",
    "\n",
    "    def __init__(self, num_qubits: int) -> None:\n",
    "        \"\"\"Initializes a `MerminBell`.\n",
    "\n",
    "        Args:\n",
    "            num_qubits: The number of qubits.\n",
    "        \"\"\"\n",
    "        self.num_qubits = num_qubits\n",
    "        self.qubits = cirq.LineQubit.range(self.num_qubits)\n",
    "\n",
    "        self.mermin_operator = self._mermin_operator(self.num_qubits)\n",
    "        self.stabilizer, self.pauli_basis = stabilizers.construct_stabilizer(\n",
    "            self.num_qubits, self.mermin_operator\n",
    "        )\n",
    "\n",
    "    def circuit(self) -> cirq.Circuit:\n",
    "        \"\"\"The Mermin-Bell circuit, simultaneously measuring Mermin terms in a GHZ circuit.\n",
    "\n",
    "        Returns:\n",
    "            The Mermin-Bell `cirq.Circuit`.\n",
    "        \"\"\"\n",
    "        circuit = cirq.Circuit()\n",
    "\n",
    "        # Create a GHZ state\n",
    "        circuit.append(cirq.rx(-np.pi / 2).on(self.qubits[0]))\n",
    "        for i in range(self.num_qubits - 1):\n",
    "            circuit.append(cirq.CNOT(self.qubits[i], self.qubits[i + 1]))\n",
    "\n",
    "        # Simultaneously measure all terms in the Mermin operator\n",
    "        measurement_circuit = self._get_measurement_circuit()\n",
    "        circuit.append(measurement_circuit.get_circuit())\n",
    "\n",
    "        return circuit\n",
    "\n",
    "    def score(self, counts: dict[str, float]) -> float:\n",
    "        \"\"\"Compute the score for the N-qubit Mermin-Bell benchmark.\n",
    "\n",
    "        This function assumes the regular big endian ordering of bitstring results.\n",
    "\n",
    "        Args:\n",
    "            counts: A dictionary containing the measurement counts from circuit execution.\n",
    "\n",
    "        Returns:\n",
    "            The score for the Mermin-Bell benchmark score.\n",
    "        \"\"\"\n",
    "\n",
    "        # Store the conjugation rules for H, S, CX, CZ, SWAP in dictionaries. The keys are\n",
    "        # the pauli strings to be conjugated and the values are the resulting pauli strings\n",
    "        # after conjugation.\n",
    "        # The typing here was added to satisfy mypy. Declaring this dict without the explicit\n",
    "        # typing gets created as Dict[EigenGate, Dict[str, str]], but iterating through a\n",
    "        # cirq.Circuit and passing op.gate as the key yields type Optional[Gate].\n",
    "        conjugation_rules: dict[cirq.Gate | None, dict[str, str]] = {\n",
    "            cirq.ops.H: {\"I\": \"I\", \"X\": \"Z\", \"Y\": \"-Y\", \"Z\": \"X\"},\n",
    "            cirq.ops.S: {\"I\": \"I\", \"X\": \"Y\", \"Y\": \"-X\", \"Z\": \"Z\"},\n",
    "            cirq.ops.CNOT: {\n",
    "                \"II\": \"II\",\n",
    "                \"IX\": \"IX\",\n",
    "                \"XI\": \"XX\",\n",
    "                \"XX\": \"XI\",\n",
    "                \"IY\": \"ZY\",\n",
    "                \"YI\": \"YX\",\n",
    "                \"YY\": \"-XZ\",\n",
    "                \"IZ\": \"ZZ\",\n",
    "                \"ZI\": \"ZI\",\n",
    "                \"ZZ\": \"IZ\",\n",
    "                \"XY\": \"YZ\",\n",
    "                \"YX\": \"YI\",\n",
    "                \"XZ\": \"-YY\",\n",
    "                \"ZX\": \"ZX\",\n",
    "                \"YZ\": \"XY\",\n",
    "                \"ZY\": \"IY\",\n",
    "            },\n",
    "            cirq.ops.CZ: {\n",
    "                \"II\": \"II\",\n",
    "                \"IX\": \"ZX\",\n",
    "                \"XI\": \"XZ\",\n",
    "                \"XX\": \"YY\",\n",
    "                \"IY\": \"ZY\",\n",
    "                \"YI\": \"YZ\",\n",
    "                \"YY\": \"XX\",\n",
    "                \"IZ\": \"IZ\",\n",
    "                \"ZI\": \"ZI\",\n",
    "                \"ZZ\": \"ZZ\",\n",
    "                \"XY\": \"-YX\",\n",
    "                \"YX\": \"-XY\",\n",
    "                \"XZ\": \"XI\",\n",
    "                \"ZX\": \"IX\",\n",
    "                \"YZ\": \"YI\",\n",
    "                \"ZY\": \"IY\",\n",
    "            },\n",
    "            cirq.ops.SWAP: {\n",
    "                \"II\": \"II\",\n",
    "                \"IX\": \"XI\",\n",
    "                \"XI\": \"IX\",\n",
    "                \"XX\": \"XX\",\n",
    "                \"IY\": \"YI\",\n",
    "                \"YI\": \"IY\",\n",
    "                \"YY\": \"YY\",\n",
    "                \"IZ\": \"ZI\",\n",
    "                \"ZI\": \"IZ\",\n",
    "                \"ZZ\": \"ZZ\",\n",
    "                \"XY\": \"YX\",\n",
    "                \"YX\": \"XY\",\n",
    "                \"XZ\": \"ZX\",\n",
    "                \"ZX\": \"XZ\",\n",
    "                \"YZ\": \"ZY\",\n",
    "                \"ZY\": \"YZ\",\n",
    "            },\n",
    "        }\n",
    "\n",
    "        measurement_circuit = self._get_measurement_circuit().get_circuit()\n",
    "\n",
    "        expect_val = 0.0\n",
    "        for mermin_coef, mermin_pauli in self.mermin_operator:\n",
    "            # Iterate through the operations in the measurement circuit and conjugate with the\n",
    "            # current Pauli to determine the correct measurement qubits and coefficient.\n",
    "            measure_pauli = [p for p in mermin_pauli]\n",
    "            parity = 1\n",
    "            for op in measurement_circuit.all_operations():\n",
    "                if isinstance(op.gate, cirq.ops.MeasurementGate):\n",
    "                    break\n",
    "\n",
    "                substr = [measure_pauli[cast(\"cirq.LineQubit\", qubit).x] for qubit in op.qubits]\n",
    "                conjugated_substr = conjugation_rules[op.gate][\"\".join(substr)]\n",
    "\n",
    "                if conjugated_substr[0] == \"-\":\n",
    "                    parity = -1 * parity\n",
    "                    conjugated_substr = conjugated_substr[1:]\n",
    "\n",
    "                for qubit, pauli in zip(op.qubits, conjugated_substr):\n",
    "                    measure_pauli[cast(\"cirq.LineQubit\", qubit).x] = pauli\n",
    "\n",
    "            measurement_qubits = [i for i, pauli in enumerate(measure_pauli) if pauli == \"Z\"]\n",
    "            measurement_coef = parity\n",
    "\n",
    "            numerator = 0.0\n",
    "            for bitstr, count in counts.items():\n",
    "                parity = 1\n",
    "                for qb in measurement_qubits:\n",
    "                    if bitstr[qb] == \"1\":  # Qubit order is big endian\n",
    "                        parity = -1 * parity\n",
    "\n",
    "                numerator += mermin_coef * measurement_coef * parity * count\n",
    "\n",
    "            expect_val += numerator / sum(list(counts.values()))\n",
    "\n",
    "        return (expect_val + 2 ** (self.num_qubits - 1)) / 2**self.num_qubits\n",
    "\n",
    "    def _mermin_operator(self, num_qubits: int) -> list[tuple[float, str]]:\n",
    "        \"\"\"Generate the Mermin operator\n",
    "        (https://journals.aps.org/prl/pdf/10.1103/PhysRevLett.65.1838), or M_n\n",
    "        (Eq. 2.8) in https://arxiv.org/pdf/2005.11271.pdf\n",
    "        \"\"\"\n",
    "        x = sympy.symbols(f\"x_1:{num_qubits + 1}\")\n",
    "        y = sympy.symbols(f\"y_1:{num_qubits + 1}\")\n",
    "\n",
    "        term1 = 1\n",
    "        term2 = 1\n",
    "        for j in range(num_qubits):\n",
    "            term1 = term1 * (x[j] + sympy.I * y[j])\n",
    "            term2 = term2 * (x[j] - sympy.I * y[j])\n",
    "        term1 = sympy.expand(term1)\n",
    "        term2 = sympy.expand(term2)\n",
    "\n",
    "        M_n = (1 / (2 * sympy.I)) * (term1 - term2)\n",
    "        M_n = sympy.simplify(M_n)\n",
    "\n",
    "        variables = M_n.as_terms()[1]\n",
    "        mermin_op = []\n",
    "        for term in M_n.as_terms()[0]:\n",
    "            coef = term[1][0][0]\n",
    "            pauli = [\"\"] * num_qubits\n",
    "            for i, v in enumerate(term[1][1]):\n",
    "                if v == 1:\n",
    "                    char, idx = str(variables[i]).split(\"_\")\n",
    "                    pauli[int(idx) - 1] = char.upper()\n",
    "\n",
    "            mermin_op.append((coef, \"\".join(pauli)))\n",
    "\n",
    "        return mermin_op\n",
    "\n",
    "    def _get_measurement_circuit(self) -> stabilizers.MeasurementCircuit:\n",
    "        \"\"\"Return a MeasurementCircuit for simultaneous measurement of N operators.\n",
    "\n",
    "        Each column of self.stabilizer represents a Pauli string that we seek to measure.\n",
    "        Thus, self.stabilizer should have dimensions of 2 * N rows by N columns. The first N rows\n",
    "        indicate the presence of a Z in each index of the Pauli String. The last N rows\n",
    "        indicate X's.\n",
    "\n",
    "        For instance, simultaneous measurement of YYI, XXY, IYZ would be represented by\n",
    "        [[1, 0, 0],  ========\n",
    "         [1, 0, 1],  Z matrix\n",
    "         [0, 1, 1],  ========\n",
    "         [1, 1, 0],  ========\n",
    "         [1, 1, 1],  X matrix\n",
    "         [0, 1, 0]   ========\n",
    "\n",
    "        As annotated above, the submatrix of the first (last) N rows is referred to as\n",
    "        the Z (X) matrix.\n",
    "\n",
    "        All operators must commute and be independent (i.e. can't express any column as a base-2\n",
    "        product of the other columns) for this code to work.\n",
    "        \"\"\"\n",
    "        # Validate that the stabilizer matrix is valid\n",
    "        assert self.stabilizer.shape == (\n",
    "            2 * self.num_qubits,\n",
    "            self.num_qubits,\n",
    "        ), f\"{self.num_qubits} qubits, but matrix shape: {self.stabilizer.shape}\"\n",
    "\n",
    "        # i, j will always denote row, column index\n",
    "        for i in range(2 * self.num_qubits):\n",
    "            for j in range(self.num_qubits):\n",
    "                value = self.stabilizer[i, j]\n",
    "                assert value in [0, 1], f\"[{i}, {j}] index is {value}\"\n",
    "\n",
    "        measurement_circuit = stabilizers.MeasurementCircuit(\n",
    "            cirq.Circuit(), self.stabilizer, self.num_qubits, self.qubits\n",
    "        )\n",
    "\n",
    "        stabilizers.prepare_X_matrix(measurement_circuit)\n",
    "        stabilizers.row_reduce_X_matrix(measurement_circuit)\n",
    "        stabilizers.patch_Z_matrix(measurement_circuit)\n",
    "        stabilizers.change_X_to_Z_basis(measurement_circuit)\n",
    "        # terminate with measurements\n",
    "        measurement_circuit.get_circuit().append(cirq.measure(*self.qubits))\n",
    "\n",
    "        return measurement_circuit"
   ]
  },
  {
   "cell_type": "code",
   "execution_count": 4,
   "id": "b7789a55-6a10-49b5-a77e-43b834b71504",
   "metadata": {},
   "outputs": [
    {
     "ename": "NameError",
     "evalue": "name 'supermarq' is not defined",
     "output_type": "error",
     "traceback": [
      "\u001b[0;31m---------------------------------------------------------------------------\u001b[0m",
      "\u001b[0;31mNameError\u001b[0m                                 Traceback (most recent call last)",
      "Cell \u001b[0;32mIn[4], line 1\u001b[0m\n\u001b[0;32m----> 1\u001b[0m mb3 \u001b[38;5;241m=\u001b[39m \u001b[43msupermarq\u001b[49m\u001b[38;5;241m.\u001b[39mmermin_bell\u001b[38;5;241m.\u001b[39mMerminBell(\u001b[38;5;241m3\u001b[39m)\u001b[38;5;241m.\u001b[39mqiskit_circuit()\n\u001b[1;32m      2\u001b[0m mb3_features \u001b[38;5;241m=\u001b[39m [\n\u001b[1;32m      3\u001b[0m     supermarq\u001b[38;5;241m.\u001b[39mconverters\u001b[38;5;241m.\u001b[39mcompute_communication_with_qiskit(mb3),\n\u001b[1;32m      4\u001b[0m     supermarq\u001b[38;5;241m.\u001b[39mconverters\u001b[38;5;241m.\u001b[39mcompute_depth_with_qiskit(mb3),\n\u001b[0;32m   (...)\u001b[0m\n\u001b[1;32m      8\u001b[0m     supermarq\u001b[38;5;241m.\u001b[39mconverters\u001b[38;5;241m.\u001b[39mcompute_parallelism_with_qiskit(mb3),\n\u001b[1;32m      9\u001b[0m ]\n\u001b[1;32m     10\u001b[0m \u001b[38;5;28mprint\u001b[39m(mb3_features)\n",
      "\u001b[0;31mNameError\u001b[0m: name 'supermarq' is not defined"
     ]
    }
   ],
   "source": [
    "mb3 = supermarq.mermin_bell.MerminBell(3).qiskit_circuit()\n",
    "mb3_features = [\n",
    "    supermarq.converters.compute_communication_with_qiskit(mb3),\n",
    "    supermarq.converters.compute_depth_with_qiskit(mb3),\n",
    "    supermarq.converters.compute_entanglement_with_qiskit(mb3),\n",
    "    supermarq.converters.compute_liveness_with_qiskit(mb3),\n",
    "    supermarq.converters.compute_measurement_with_qiskit(mb3),\n",
    "    supermarq.converters.compute_parallelism_with_qiskit(mb3),\n",
    "]\n",
    "print(mb3_features)"
   ]
  },
  {
   "cell_type": "code",
   "execution_count": 5,
   "id": "0ab7eec9-047d-4e82-adb7-c5732f89f2cb",
   "metadata": {},
   "outputs": [
    {
     "ename": "NameError",
     "evalue": "name 'mb3' is not defined",
     "output_type": "error",
     "traceback": [
      "\u001b[0;31m---------------------------------------------------------------------------\u001b[0m",
      "\u001b[0;31mNameError\u001b[0m                                 Traceback (most recent call last)",
      "Cell \u001b[0;32mIn[5], line 1\u001b[0m\n\u001b[0;32m----> 1\u001b[0m \u001b[43mmb3\u001b[49m\u001b[38;5;241m.\u001b[39mdraw()\n",
      "\u001b[0;31mNameError\u001b[0m: name 'mb3' is not defined"
     ]
    }
   ],
   "source": [
    "mb3.draw()"
   ]
  },
  {
   "cell_type": "code",
   "execution_count": 6,
   "id": "d3403c08-3b8d-4c2e-a49f-0db9a3baeb38",
   "metadata": {},
   "outputs": [
    {
     "ename": "NameError",
     "evalue": "name 'supermarq' is not defined",
     "output_type": "error",
     "traceback": [
      "\u001b[0;31m---------------------------------------------------------------------------\u001b[0m",
      "\u001b[0;31mNameError\u001b[0m                                 Traceback (most recent call last)",
      "Cell \u001b[0;32mIn[6], line 1\u001b[0m\n\u001b[0;32m----> 1\u001b[0m \u001b[43msupermarq\u001b[49m\u001b[38;5;241m.\u001b[39mplotting\u001b[38;5;241m.\u001b[39mplot_benchmark(\n\u001b[1;32m      2\u001b[0m     [\u001b[38;5;124m\"\u001b[39m\u001b[38;5;124mA Marmin Bell with qubit-3 benchmark\u001b[39m\u001b[38;5;124m\"\u001b[39m, [\u001b[38;5;124m\"\u001b[39m\u001b[38;5;124mmb3\u001b[39m\u001b[38;5;124m\"\u001b[39m], [mb3_features]],\n\u001b[1;32m      3\u001b[0m     spoke_labels\u001b[38;5;241m=\u001b[39m[\u001b[38;5;124m\"\u001b[39m\u001b[38;5;124mPC\u001b[39m\u001b[38;5;124m\"\u001b[39m, \u001b[38;5;124m\"\u001b[39m\u001b[38;5;124mCD\u001b[39m\u001b[38;5;124m\"\u001b[39m, \u001b[38;5;124m\"\u001b[39m\u001b[38;5;124mEnt\u001b[39m\u001b[38;5;124m\"\u001b[39m, \u001b[38;5;124m\"\u001b[39m\u001b[38;5;124mLiv\u001b[39m\u001b[38;5;124m\"\u001b[39m, \u001b[38;5;124m\"\u001b[39m\u001b[38;5;124mMea\u001b[39m\u001b[38;5;124m\"\u001b[39m, \u001b[38;5;124m\"\u001b[39m\u001b[38;5;124mPar\u001b[39m\u001b[38;5;124m\"\u001b[39m],\n\u001b[1;32m      4\u001b[0m )\n",
      "\u001b[0;31mNameError\u001b[0m: name 'supermarq' is not defined"
     ]
    }
   ],
   "source": [
    "supermarq.plotting.plot_benchmark(\n",
    "    [\"A Marmin Bell with qubit-3 benchmark\", [\"mb3\"], [mb3_features]],\n",
    "    spoke_labels=[\"PC\", \"CD\", \"Ent\", \"Liv\", \"Mea\", \"Par\"],\n",
    ")"
   ]
  },
  {
   "cell_type": "code",
   "execution_count": 7,
   "id": "601d72a9-2c0d-45d5-a412-fee9cf135e36",
   "metadata": {},
   "outputs": [
    {
     "ename": "NameError",
     "evalue": "name 'supermarq' is not defined",
     "output_type": "error",
     "traceback": [
      "\u001b[0;31m---------------------------------------------------------------------------\u001b[0m",
      "\u001b[0;31mNameError\u001b[0m                                 Traceback (most recent call last)",
      "Cell \u001b[0;32mIn[7], line 3\u001b[0m\n\u001b[1;32m      1\u001b[0m benchmark_features \u001b[38;5;241m=\u001b[39m {}\n\u001b[1;32m      2\u001b[0m benchmarks \u001b[38;5;241m=\u001b[39m [\n\u001b[0;32m----> 3\u001b[0m     (\u001b[43msupermarq\u001b[49m\u001b[38;5;241m.\u001b[39mghz\u001b[38;5;241m.\u001b[39mGHZ(\u001b[38;5;241m5\u001b[39m), \u001b[38;5;124m\"\u001b[39m\u001b[38;5;124mghz5\u001b[39m\u001b[38;5;124m\"\u001b[39m),\n\u001b[1;32m      4\u001b[0m     (supermarq\u001b[38;5;241m.\u001b[39mhamiltonian_simulation\u001b[38;5;241m.\u001b[39mHamiltonianSimulation(\u001b[38;5;241m4\u001b[39m), \u001b[38;5;124m\"\u001b[39m\u001b[38;5;124mhsim4\u001b[39m\u001b[38;5;124m\"\u001b[39m),\n\u001b[1;32m      5\u001b[0m ]\n\u001b[1;32m      6\u001b[0m \u001b[38;5;28;01mfor\u001b[39;00m benchmark, label \u001b[38;5;129;01min\u001b[39;00m benchmarks:\n\u001b[1;32m      7\u001b[0m     benchmark_features[label] \u001b[38;5;241m=\u001b[39m [\n\u001b[1;32m      8\u001b[0m         supermarq\u001b[38;5;241m.\u001b[39mconverters\u001b[38;5;241m.\u001b[39mcompute_communication_with_qiskit(benchmark\u001b[38;5;241m.\u001b[39mqiskit_circuit()),\n\u001b[1;32m      9\u001b[0m         supermarq\u001b[38;5;241m.\u001b[39mconverters\u001b[38;5;241m.\u001b[39mcompute_depth_with_qiskit(benchmark\u001b[38;5;241m.\u001b[39mqiskit_circuit()),\n\u001b[0;32m   (...)\u001b[0m\n\u001b[1;32m     13\u001b[0m         supermarq\u001b[38;5;241m.\u001b[39mconverters\u001b[38;5;241m.\u001b[39mcompute_parallelism_with_qiskit(benchmark\u001b[38;5;241m.\u001b[39mqiskit_circuit()),\n\u001b[1;32m     14\u001b[0m     ]\n",
      "\u001b[0;31mNameError\u001b[0m: name 'supermarq' is not defined"
     ]
    }
   ],
   "source": [
    "benchmark_features = {}\n",
    "benchmarks = [\n",
    "    (supermarq.ghz.GHZ(5), \"ghz5\"),\n",
    "    (supermarq.hamiltonian_simulation.HamiltonianSimulation(4), \"hsim4\"),\n",
    "]\n",
    "for benchmark, label in benchmarks:\n",
    "    benchmark_features[label] = [\n",
    "        supermarq.converters.compute_communication_with_qiskit(benchmark.qiskit_circuit()),\n",
    "        supermarq.converters.compute_depth_with_qiskit(benchmark.qiskit_circuit()),\n",
    "        supermarq.converters.compute_entanglement_with_qiskit(benchmark.qiskit_circuit()),\n",
    "        supermarq.converters.compute_liveness_with_qiskit(benchmark.qiskit_circuit()),\n",
    "        supermarq.converters.compute_measurement_with_qiskit(benchmark.qiskit_circuit()),\n",
    "        supermarq.converters.compute_parallelism_with_qiskit(benchmark.qiskit_circuit()),\n",
    "    ]\n",
    "print(benchmark_features)"
   ]
  },
  {
   "cell_type": "code",
   "execution_count": 8,
   "id": "b5b7d4b8-132c-4b73-b9f2-d6d24f645362",
   "metadata": {},
   "outputs": [
    {
     "ename": "NameError",
     "evalue": "name 'Aer' is not defined",
     "output_type": "error",
     "traceback": [
      "\u001b[0;31m---------------------------------------------------------------------------\u001b[0m",
      "\u001b[0;31mNameError\u001b[0m                                 Traceback (most recent call last)",
      "Cell \u001b[0;32mIn[8], line 1\u001b[0m\n\u001b[0;32m----> 1\u001b[0m emulator \u001b[38;5;241m=\u001b[39m \u001b[43mAer\u001b[49m\u001b[38;5;241m.\u001b[39mget_backend(\u001b[38;5;124m'\u001b[39m\u001b[38;5;124maer_simulator_statevector\u001b[39m\u001b[38;5;124m'\u001b[39m)\n\u001b[1;32m      2\u001b[0m job \u001b[38;5;241m=\u001b[39m execute(transpile(mb3, emulator), emulator, shots\u001b[38;5;241m=\u001b[39m\u001b[38;5;241m8192\u001b[39m, memory\u001b[38;5;241m=\u001b[39m\u001b[38;5;28;01mTrue\u001b[39;00m)\n\u001b[1;32m      3\u001b[0m job\n",
      "\u001b[0;31mNameError\u001b[0m: name 'Aer' is not defined"
     ]
    }
   ],
   "source": [
    "emulator = Aer.get_backend('aer_simulator_statevector')\n",
    "job = execute(transpile(mb3, emulator), emulator, shots=8192, memory=True)\n",
    "job\n"
   ]
  },
  {
   "cell_type": "code",
   "execution_count": 9,
   "id": "7d4287d4-0321-4d5f-96a1-4ad51b73fe81",
   "metadata": {},
   "outputs": [
    {
     "ename": "NameError",
     "evalue": "name 'job' is not defined",
     "output_type": "error",
     "traceback": [
      "\u001b[0;31m---------------------------------------------------------------------------\u001b[0m",
      "\u001b[0;31mNameError\u001b[0m                                 Traceback (most recent call last)",
      "Cell \u001b[0;32mIn[9], line 1\u001b[0m\n\u001b[0;32m----> 1\u001b[0m data\u001b[38;5;241m=\u001b[39m\u001b[43mjob\u001b[49m\u001b[38;5;241m.\u001b[39mresult()\n\u001b[1;32m      2\u001b[0m data\n",
      "\u001b[0;31mNameError\u001b[0m: name 'job' is not defined"
     ]
    }
   ],
   "source": [
    "data=job.result()\n",
    "data"
   ]
  },
  {
   "cell_type": "code",
   "execution_count": 10,
   "id": "624d5d22-7427-4707-8776-722927ebfefa",
   "metadata": {},
   "outputs": [
    {
     "ename": "NameError",
     "evalue": "name 'job' is not defined",
     "output_type": "error",
     "traceback": [
      "\u001b[0;31m---------------------------------------------------------------------------\u001b[0m",
      "\u001b[0;31mNameError\u001b[0m                                 Traceback (most recent call last)",
      "Cell \u001b[0;32mIn[10], line 1\u001b[0m\n\u001b[0;32m----> 1\u001b[0m counts \u001b[38;5;241m=\u001b[39m \u001b[43mjob\u001b[49m\u001b[38;5;241m.\u001b[39mresult()\u001b[38;5;241m.\u001b[39mget_counts()\n\u001b[1;32m      2\u001b[0m \u001b[38;5;28mprint\u001b[39m(counts)\n",
      "\u001b[0;31mNameError\u001b[0m: name 'job' is not defined"
     ]
    }
   ],
   "source": [
    "counts = job.result().get_counts()\n",
    "print(counts)"
   ]
  },
  {
   "cell_type": "code",
   "execution_count": 11,
   "id": "a0c3d8cf-aea7-4235-b65b-cd943e6593a2",
   "metadata": {},
   "outputs": [
    {
     "ename": "NameError",
     "evalue": "name 'Aer' is not defined",
     "output_type": "error",
     "traceback": [
      "\u001b[0;31m---------------------------------------------------------------------------\u001b[0m",
      "\u001b[0;31mNameError\u001b[0m                                 Traceback (most recent call last)",
      "Cell \u001b[0;32mIn[11], line 2\u001b[0m\n\u001b[1;32m      1\u001b[0m jobs \u001b[38;5;241m=\u001b[39m []\n\u001b[0;32m----> 2\u001b[0m backend \u001b[38;5;241m=\u001b[39m \u001b[43mAer\u001b[49m\u001b[38;5;241m.\u001b[39mget_backend(\u001b[38;5;124m'\u001b[39m\u001b[38;5;124maer_simulator_statevector\u001b[39m\u001b[38;5;124m'\u001b[39m)\n\u001b[1;32m      3\u001b[0m \u001b[38;5;28;01mfor\u001b[39;00m benchmark, label \u001b[38;5;129;01min\u001b[39;00m benchmarks:\n\u001b[1;32m      4\u001b[0m     job \u001b[38;5;241m=\u001b[39m backend\u001b[38;5;241m.\u001b[39mrun(benchmark\u001b[38;5;241m.\u001b[39mmb3(), shots\u001b[38;5;241m=\u001b[39m\u001b[38;5;241m1000\u001b[39m)\n",
      "\u001b[0;31mNameError\u001b[0m: name 'Aer' is not defined"
     ]
    }
   ],
   "source": [
    "jobs = []\n",
    "backend = Aer.get_backend('aer_simulator_statevector')\n",
    "for benchmark, label in benchmarks:\n",
    "    job = backend.run(benchmark.mb3(), shots=1000)\n",
    "    jobs.append((label, job, benchmark))\n",
    "ghz_circuit"
   ]
  },
  {
   "cell_type": "code",
   "execution_count": null,
   "id": "f0dd37d8-58b9-4a2a-b2fa-c63d322c311a",
   "metadata": {},
   "outputs": [],
   "source": []
  }
 ],
 "metadata": {
  "kernelspec": {
   "display_name": "Python 3 (ipykernel)",
   "language": "python",
   "name": "python3"
  },
  "language_info": {
   "codemirror_mode": {
    "name": "ipython",
    "version": 3
   },
   "file_extension": ".py",
   "mimetype": "text/x-python",
   "name": "python",
   "nbconvert_exporter": "python",
   "pygments_lexer": "ipython3",
   "version": "3.10.14"
  }
 },
 "nbformat": 4,
 "nbformat_minor": 5
}
