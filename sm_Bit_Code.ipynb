{
 "cells": [
  {
   "cell_type": "code",
   "execution_count": 2,
   "id": "1b681850-7dba-4fab-a7ad-10824e1061a2",
   "metadata": {
    "scrolled": true
   },
   "outputs": [
    {
     "ename": "ImportError",
     "evalue": "cannot import name 'AerSimulator' from 'qiskit_aer' (unknown location)",
     "output_type": "error",
     "traceback": [
      "\u001b[0;31m---------------------------------------------------------------------------\u001b[0m",
      "\u001b[0;31mImportError\u001b[0m                               Traceback (most recent call last)",
      "Cell \u001b[0;32mIn[2], line 14\u001b[0m\n\u001b[1;32m     12\u001b[0m \u001b[38;5;28;01mimport\u001b[39;00m \u001b[38;5;21;01mqiskit\u001b[39;00m\u001b[38;5;21;01m.\u001b[39;00m\u001b[38;5;21;01mquantum_info\u001b[39;00m \u001b[38;5;28;01mas\u001b[39;00m \u001b[38;5;21;01mqi\u001b[39;00m\n\u001b[1;32m     13\u001b[0m \u001b[38;5;28;01mfrom\u001b[39;00m \u001b[38;5;21;01m__future__\u001b[39;00m \u001b[38;5;28;01mimport\u001b[39;00m annotations\n\u001b[0;32m---> 14\u001b[0m \u001b[38;5;28;01mfrom\u001b[39;00m \u001b[38;5;21;01mqiskit_aer\u001b[39;00m \u001b[38;5;28;01mimport\u001b[39;00m AerSimulator\n\u001b[1;32m     15\u001b[0m \u001b[38;5;28;01mfrom\u001b[39;00m \u001b[38;5;21;01mqiskit_aer\u001b[39;00m\u001b[38;5;21;01m.\u001b[39;00m\u001b[38;5;21;01mnoise\u001b[39;00m \u001b[38;5;28;01mimport\u001b[39;00m NoiseModel, amplitude_damping_error\n\u001b[1;32m     16\u001b[0m \u001b[38;5;28;01mfrom\u001b[39;00m \u001b[38;5;21;01msupermarq\u001b[39;00m \u001b[38;5;28;01mimport\u001b[39;00m stabilizers\n",
      "\u001b[0;31mImportError\u001b[0m: cannot import name 'AerSimulator' from 'qiskit_aer' (unknown location)"
     ]
    }
   ],
   "source": [
    "from qiskit_aer import AerSimulator\n",
    "from qiskit import *\n",
    "import qiskit_superstaq as qss\n",
    "import supermarq\n",
    "import numpy as np \n",
    "import os"
   ]
  },
  {
   "cell_type": "code",
   "execution_count": 1,
   "id": "42df5a40-9fda-44b9-882a-e0b69e3b3770",
   "metadata": {},
   "outputs": [
    {
     "ename": "AttributeError",
     "evalue": "module 'qiskit' has no attribute 'QuantumCircuit'",
     "output_type": "error",
     "traceback": [
      "\u001b[0;31m---------------------------------------------------------------------------\u001b[0m",
      "\u001b[0;31mAttributeError\u001b[0m                            Traceback (most recent call last)",
      "Cell \u001b[0;32mIn[1], line 1\u001b[0m\n\u001b[0;32m----> 1\u001b[0m \u001b[38;5;28;01mfrom\u001b[39;00m \u001b[38;5;21;01msupermarq\u001b[39;00m \u001b[38;5;28;01mimport\u001b[39;00m \u001b[38;5;241m*\u001b[39m\n",
      "File \u001b[0;32m~/supermarq/client-superstaq/supermarq-benchmarks/supermarq/__init__.py:1\u001b[0m\n\u001b[0;32m----> 1\u001b[0m \u001b[38;5;28;01mfrom\u001b[39;00m \u001b[38;5;21;01m.\u001b[39;00m \u001b[38;5;28;01mimport\u001b[39;00m benchmark, converters, features, plotting, simulation, stabilizers\n\u001b[1;32m      2\u001b[0m \u001b[38;5;28;01mfrom\u001b[39;00m \u001b[38;5;21;01m.\u001b[39;00m\u001b[38;5;21;01m_version\u001b[39;00m \u001b[38;5;28;01mimport\u001b[39;00m __version__\n\u001b[1;32m      3\u001b[0m \u001b[38;5;28;01mfrom\u001b[39;00m \u001b[38;5;21;01m.\u001b[39;00m\u001b[38;5;21;01mbenchmarks\u001b[39;00m \u001b[38;5;28;01mimport\u001b[39;00m (\n\u001b[1;32m      4\u001b[0m     bit_code,\n\u001b[1;32m      5\u001b[0m     ghz,\n\u001b[0;32m   (...)\u001b[0m\n\u001b[1;32m     11\u001b[0m     vqe_proxy,\n\u001b[1;32m     12\u001b[0m )\n",
      "File \u001b[0;32m~/supermarq/client-superstaq/supermarq-benchmarks/supermarq/converters.py:7\u001b[0m\n\u001b[1;32m      3\u001b[0m \u001b[38;5;28;01mimport\u001b[39;00m \u001b[38;5;21;01mnumpy\u001b[39;00m \u001b[38;5;28;01mas\u001b[39;00m \u001b[38;5;21;01mnp\u001b[39;00m\n\u001b[1;32m      4\u001b[0m \u001b[38;5;28;01mimport\u001b[39;00m \u001b[38;5;21;01mqiskit\u001b[39;00m\n\u001b[0;32m----> 7\u001b[0m \u001b[38;5;28;01mdef\u001b[39;00m \u001b[38;5;21mcirq_to_qiskit\u001b[39m(circuit: cirq\u001b[38;5;241m.\u001b[39mCircuit) \u001b[38;5;241m-\u001b[39m\u001b[38;5;241m>\u001b[39m \u001b[43mqiskit\u001b[49m\u001b[38;5;241;43m.\u001b[39;49m\u001b[43mQuantumCircuit\u001b[49m:\n\u001b[1;32m      8\u001b[0m \u001b[38;5;250m    \u001b[39m\u001b[38;5;124;03m\"\"\"Convert a circuit from cirq to qiskit.\u001b[39;00m\n\u001b[1;32m      9\u001b[0m \n\u001b[1;32m     10\u001b[0m \u001b[38;5;124;03m    Args:\u001b[39;00m\n\u001b[0;32m   (...)\u001b[0m\n\u001b[1;32m     14\u001b[0m \u001b[38;5;124;03m        An equivalent `qiskit.QuantumCircuit`.\u001b[39;00m\n\u001b[1;32m     15\u001b[0m \u001b[38;5;124;03m    \"\"\"\u001b[39;00m\n\u001b[1;32m     16\u001b[0m     qasm \u001b[38;5;241m=\u001b[39m cirq\u001b[38;5;241m.\u001b[39mcircuits\u001b[38;5;241m.\u001b[39mQasmOutput(circuit, \u001b[38;5;28mtuple\u001b[39m(\u001b[38;5;28msorted\u001b[39m(circuit\u001b[38;5;241m.\u001b[39mall_qubits())))\n",
      "\u001b[0;31mAttributeError\u001b[0m: module 'qiskit' has no attribute 'QuantumCircuit'"
     ]
    }
   ],
   "source": [
    "ghz = supermarq.ghz.GHZ(5)\n",
    "ghz_circuit = ghz.qiskit_circuit()\n",
    "ghz_circuit.draw()"
   ]
  },
  {
   "cell_type": "code",
   "execution_count": null,
   "id": "519c4db0-09fa-42ea-a37a-cc2babf9244e",
   "metadata": {},
   "outputs": [],
   "source": [
    "emulator = Aer.get_backend('aer_simulator_density_matrix')"
   ]
  },
  {
   "cell_type": "code",
   "execution_count": 2,
   "id": "b2e8d2a4-ebad-40f4-a671-0155ca2c2566",
   "metadata": {},
   "outputs": [
    {
     "ename": "NameError",
     "evalue": "name 'Benchmark' is not defined",
     "output_type": "error",
     "traceback": [
      "\u001b[0;31m---------------------------------------------------------------------------\u001b[0m",
      "\u001b[0;31mNameError\u001b[0m                                 Traceback (most recent call last)",
      "Cell \u001b[0;32mIn[2], line 1\u001b[0m\n\u001b[0;32m----> 1\u001b[0m \u001b[38;5;28;01mclass\u001b[39;00m \u001b[38;5;21;01mMerminBell\u001b[39;00m(\u001b[43mBenchmark\u001b[49m):\n\u001b[1;32m      2\u001b[0m \u001b[38;5;250m    \u001b[39m\u001b[38;5;124;03m\"\"\"The Mermin-Bell benchmark is a test of a quantum computer's ability to exploit purely quantum\u001b[39;00m\n\u001b[1;32m      3\u001b[0m \u001b[38;5;124;03m    phenomemna such as superposition and entanglement. It is based on the famous Bell-inequality\u001b[39;00m\n\u001b[1;32m      4\u001b[0m \u001b[38;5;124;03m    tests of locality. Performance is based on a QPU's ability to prepare a GHZ state and measure\u001b[39;00m\n\u001b[1;32m      5\u001b[0m \u001b[38;5;124;03m    the Mermin operator.\u001b[39;00m\n\u001b[1;32m      6\u001b[0m \u001b[38;5;124;03m    \"\"\"\u001b[39;00m\n\u001b[1;32m      8\u001b[0m     \u001b[38;5;28;01mdef\u001b[39;00m \u001b[38;5;21m__init__\u001b[39m(\u001b[38;5;28mself\u001b[39m, num_qubits: \u001b[38;5;28mint\u001b[39m) \u001b[38;5;241m-\u001b[39m\u001b[38;5;241m>\u001b[39m \u001b[38;5;28;01mNone\u001b[39;00m:\n",
      "\u001b[0;31mNameError\u001b[0m: name 'Benchmark' is not defined"
     ]
    }
   ],
   "source": [
    "qc = transpile(ghz_circuit, emulator)\n",
    "job = execute(qc, emulator, shots=8192, memory=True)\n",
    "data=job.result()\n",
    "job.status()"
   ]
  },
  {
   "cell_type": "code",
   "execution_count": 4,
   "id": "b7789a55-6a10-49b5-a77e-43b834b71504",
   "metadata": {},
   "outputs": [
    {
     "ename": "NameError",
     "evalue": "name 'supermarq' is not defined",
     "output_type": "error",
     "traceback": [
      "\u001b[0;31m---------------------------------------------------------------------------\u001b[0m",
      "\u001b[0;31mNameError\u001b[0m                                 Traceback (most recent call last)",
      "Cell \u001b[0;32mIn[4], line 1\u001b[0m\n\u001b[0;32m----> 1\u001b[0m mb3 \u001b[38;5;241m=\u001b[39m \u001b[43msupermarq\u001b[49m\u001b[38;5;241m.\u001b[39mmermin_bell\u001b[38;5;241m.\u001b[39mMerminBell(\u001b[38;5;241m3\u001b[39m)\u001b[38;5;241m.\u001b[39mqiskit_circuit()\n\u001b[1;32m      2\u001b[0m mb3_features \u001b[38;5;241m=\u001b[39m [\n\u001b[1;32m      3\u001b[0m     supermarq\u001b[38;5;241m.\u001b[39mconverters\u001b[38;5;241m.\u001b[39mcompute_communication_with_qiskit(mb3),\n\u001b[1;32m      4\u001b[0m     supermarq\u001b[38;5;241m.\u001b[39mconverters\u001b[38;5;241m.\u001b[39mcompute_depth_with_qiskit(mb3),\n\u001b[0;32m   (...)\u001b[0m\n\u001b[1;32m      8\u001b[0m     supermarq\u001b[38;5;241m.\u001b[39mconverters\u001b[38;5;241m.\u001b[39mcompute_parallelism_with_qiskit(mb3),\n\u001b[1;32m      9\u001b[0m ]\n\u001b[1;32m     10\u001b[0m \u001b[38;5;28mprint\u001b[39m(mb3_features)\n",
      "\u001b[0;31mNameError\u001b[0m: name 'supermarq' is not defined"
     ]
    }
   ],
   "source": [
    "data = job.result()\n",
    "data"
   ]
  },
  {
   "cell_type": "code",
   "execution_count": 5,
   "id": "0ab7eec9-047d-4e82-adb7-c5732f89f2cb",
   "metadata": {},
   "outputs": [
    {
     "ename": "NameError",
     "evalue": "name 'mb3' is not defined",
     "output_type": "error",
     "traceback": [
      "\u001b[0;31m---------------------------------------------------------------------------\u001b[0m",
      "\u001b[0;31mNameError\u001b[0m                                 Traceback (most recent call last)",
      "Cell \u001b[0;32mIn[5], line 1\u001b[0m\n\u001b[0;32m----> 1\u001b[0m \u001b[43mmb3\u001b[49m\u001b[38;5;241m.\u001b[39mdraw()\n",
      "\u001b[0;31mNameError\u001b[0m: name 'mb3' is not defined"
     ]
    }
   ],
   "source": [
    "counts = job.result().get_counts()\n",
    "print(counts)"
   ]
  },
  {
   "cell_type": "code",
   "execution_count": 6,
   "id": "d3403c08-3b8d-4c2e-a49f-0db9a3baeb38",
   "metadata": {},
   "outputs": [
    {
     "ename": "NameError",
     "evalue": "name 'supermarq' is not defined",
     "output_type": "error",
     "traceback": [
      "\u001b[0;31m---------------------------------------------------------------------------\u001b[0m",
      "\u001b[0;31mNameError\u001b[0m                                 Traceback (most recent call last)",
      "Cell \u001b[0;32mIn[6], line 1\u001b[0m\n\u001b[0;32m----> 1\u001b[0m \u001b[43msupermarq\u001b[49m\u001b[38;5;241m.\u001b[39mplotting\u001b[38;5;241m.\u001b[39mplot_benchmark(\n\u001b[1;32m      2\u001b[0m     [\u001b[38;5;124m\"\u001b[39m\u001b[38;5;124mA Marmin Bell with qubit-3 benchmark\u001b[39m\u001b[38;5;124m\"\u001b[39m, [\u001b[38;5;124m\"\u001b[39m\u001b[38;5;124mmb3\u001b[39m\u001b[38;5;124m\"\u001b[39m], [mb3_features]],\n\u001b[1;32m      3\u001b[0m     spoke_labels\u001b[38;5;241m=\u001b[39m[\u001b[38;5;124m\"\u001b[39m\u001b[38;5;124mPC\u001b[39m\u001b[38;5;124m\"\u001b[39m, \u001b[38;5;124m\"\u001b[39m\u001b[38;5;124mCD\u001b[39m\u001b[38;5;124m\"\u001b[39m, \u001b[38;5;124m\"\u001b[39m\u001b[38;5;124mEnt\u001b[39m\u001b[38;5;124m\"\u001b[39m, \u001b[38;5;124m\"\u001b[39m\u001b[38;5;124mLiv\u001b[39m\u001b[38;5;124m\"\u001b[39m, \u001b[38;5;124m\"\u001b[39m\u001b[38;5;124mMea\u001b[39m\u001b[38;5;124m\"\u001b[39m, \u001b[38;5;124m\"\u001b[39m\u001b[38;5;124mPar\u001b[39m\u001b[38;5;124m\"\u001b[39m],\n\u001b[1;32m      4\u001b[0m )\n",
      "\u001b[0;31mNameError\u001b[0m: name 'supermarq' is not defined"
     ]
    }
   ],
   "source": [
    "score = ghz.score(counts)\n",
    "print(score)"
   ]
  },
  {
   "cell_type": "code",
   "execution_count": 7,
   "id": "601d72a9-2c0d-45d5-a412-fee9cf135e36",
   "metadata": {},
   "outputs": [
    {
     "ename": "NameError",
     "evalue": "name 'supermarq' is not defined",
     "output_type": "error",
     "traceback": [
      "\u001b[0;31m---------------------------------------------------------------------------\u001b[0m",
      "\u001b[0;31mNameError\u001b[0m                                 Traceback (most recent call last)",
      "Cell \u001b[0;32mIn[7], line 3\u001b[0m\n\u001b[1;32m      1\u001b[0m benchmark_features \u001b[38;5;241m=\u001b[39m {}\n\u001b[1;32m      2\u001b[0m benchmarks \u001b[38;5;241m=\u001b[39m [\n\u001b[0;32m----> 3\u001b[0m     (\u001b[43msupermarq\u001b[49m\u001b[38;5;241m.\u001b[39mghz\u001b[38;5;241m.\u001b[39mGHZ(\u001b[38;5;241m5\u001b[39m), \u001b[38;5;124m\"\u001b[39m\u001b[38;5;124mghz5\u001b[39m\u001b[38;5;124m\"\u001b[39m),\n\u001b[1;32m      4\u001b[0m     (supermarq\u001b[38;5;241m.\u001b[39mhamiltonian_simulation\u001b[38;5;241m.\u001b[39mHamiltonianSimulation(\u001b[38;5;241m4\u001b[39m), \u001b[38;5;124m\"\u001b[39m\u001b[38;5;124mhsim4\u001b[39m\u001b[38;5;124m\"\u001b[39m),\n\u001b[1;32m      5\u001b[0m ]\n\u001b[1;32m      6\u001b[0m \u001b[38;5;28;01mfor\u001b[39;00m benchmark, label \u001b[38;5;129;01min\u001b[39;00m benchmarks:\n\u001b[1;32m      7\u001b[0m     benchmark_features[label] \u001b[38;5;241m=\u001b[39m [\n\u001b[1;32m      8\u001b[0m         supermarq\u001b[38;5;241m.\u001b[39mconverters\u001b[38;5;241m.\u001b[39mcompute_communication_with_qiskit(benchmark\u001b[38;5;241m.\u001b[39mqiskit_circuit()),\n\u001b[1;32m      9\u001b[0m         supermarq\u001b[38;5;241m.\u001b[39mconverters\u001b[38;5;241m.\u001b[39mcompute_depth_with_qiskit(benchmark\u001b[38;5;241m.\u001b[39mqiskit_circuit()),\n\u001b[0;32m   (...)\u001b[0m\n\u001b[1;32m     13\u001b[0m         supermarq\u001b[38;5;241m.\u001b[39mconverters\u001b[38;5;241m.\u001b[39mcompute_parallelism_with_qiskit(benchmark\u001b[38;5;241m.\u001b[39mqiskit_circuit()),\n\u001b[1;32m     14\u001b[0m     ]\n",
      "\u001b[0;31mNameError\u001b[0m: name 'supermarq' is not defined"
     ]
    }
   ],
   "source": [
    "supermarq.plotting.plot_results([score], [\"ghz_5\"])"
   ]
  },
  {
   "cell_type": "code",
   "execution_count": 8,
   "id": "b5b7d4b8-132c-4b73-b9f2-d6d24f645362",
   "metadata": {},
   "outputs": [
    {
     "ename": "NameError",
     "evalue": "name 'Aer' is not defined",
     "output_type": "error",
     "traceback": [
      "\u001b[0;31m---------------------------------------------------------------------------\u001b[0m",
      "\u001b[0;31mNameError\u001b[0m                                 Traceback (most recent call last)",
      "Cell \u001b[0;32mIn[8], line 1\u001b[0m\n\u001b[0;32m----> 1\u001b[0m emulator \u001b[38;5;241m=\u001b[39m \u001b[43mAer\u001b[49m\u001b[38;5;241m.\u001b[39mget_backend(\u001b[38;5;124m'\u001b[39m\u001b[38;5;124maer_simulator_statevector\u001b[39m\u001b[38;5;124m'\u001b[39m)\n\u001b[1;32m      2\u001b[0m job \u001b[38;5;241m=\u001b[39m execute(transpile(mb3, emulator), emulator, shots\u001b[38;5;241m=\u001b[39m\u001b[38;5;241m8192\u001b[39m, memory\u001b[38;5;241m=\u001b[39m\u001b[38;5;28;01mTrue\u001b[39;00m)\n\u001b[1;32m      3\u001b[0m job\n",
      "\u001b[0;31mNameError\u001b[0m: name 'Aer' is not defined"
     ]
    }
   ],
   "source": [
    "ghz_features = [\n",
    "    supermarq.converters.compute_communication_with_qiskit(ghz_circuit),\n",
    "    supermarq.converters.compute_depth_with_qiskit(ghz_circuit),\n",
    "    supermarq.converters.compute_entanglement_with_qiskit(ghz_circuit),\n",
    "    supermarq.converters.compute_liveness_with_qiskit(ghz_circuit),\n",
    "    supermarq.converters.compute_measurement_with_qiskit(ghz_circuit),\n",
    "    supermarq.converters.compute_parallelism_with_qiskit(ghz_circuit),\n",
    "]\n",
    "print(ghz_features)\n",
    "print(\"--------------------------------------------------------------\")\n",
    "supermarq.plotting.plot_benchmark(\n",
    "    [\"A single GHZ benchmark\", [\"ghz5\"], [ghz_features]],\n",
    "    spoke_labels=[\"PC\", \"CD\", \"Ent\", \"Liv\", \"Mea\", \"Par\"],\n",
    ")"
   ]
  },
  {
   "cell_type": "code",
   "execution_count": 9,
   "id": "7d4287d4-0321-4d5f-96a1-4ad51b73fe81",
   "metadata": {},
   "outputs": [
    {
     "ename": "NameError",
     "evalue": "name 'job' is not defined",
     "output_type": "error",
     "traceback": [
      "\u001b[0;31m---------------------------------------------------------------------------\u001b[0m",
      "\u001b[0;31mNameError\u001b[0m                                 Traceback (most recent call last)",
      "Cell \u001b[0;32mIn[9], line 1\u001b[0m\n\u001b[0;32m----> 1\u001b[0m data\u001b[38;5;241m=\u001b[39m\u001b[43mjob\u001b[49m\u001b[38;5;241m.\u001b[39mresult()\n\u001b[1;32m      2\u001b[0m data\n",
      "\u001b[0;31mNameError\u001b[0m: name 'job' is not defined"
     ]
    }
   ],
   "source": [
    "supermarq.plotting.plot_results([score], [\"ghz_5\"])"
   ]
  },
  {
   "cell_type": "code",
   "execution_count": 10,
   "id": "624d5d22-7427-4707-8776-722927ebfefa",
   "metadata": {},
   "outputs": [
    {
     "ename": "NameError",
     "evalue": "name 'job' is not defined",
     "output_type": "error",
     "traceback": [
      "\u001b[0;31m---------------------------------------------------------------------------\u001b[0m",
      "\u001b[0;31mNameError\u001b[0m                                 Traceback (most recent call last)",
      "Cell \u001b[0;32mIn[10], line 1\u001b[0m\n\u001b[0;32m----> 1\u001b[0m counts \u001b[38;5;241m=\u001b[39m \u001b[43mjob\u001b[49m\u001b[38;5;241m.\u001b[39mresult()\u001b[38;5;241m.\u001b[39mget_counts()\n\u001b[1;32m      2\u001b[0m \u001b[38;5;28mprint\u001b[39m(counts)\n",
      "\u001b[0;31mNameError\u001b[0m: name 'job' is not defined"
     ]
    }
   ],
   "source": [
    "benchmark_features = {}\n",
    "benchmarks = [(supermarq.ghz.GHZ(5), \"ghz5\"),(supermarq.ghz.GHZ(6), \"ghz6\"),]\n",
    "\n",
    "for benchmark, label in benchmarks:\n",
    "    benchmark_features[label] = [\n",
    "        supermarq.converters.compute_communication_with_qiskit(benchmark.qiskit_circuit()),\n",
    "        supermarq.converters.compute_depth_with_qiskit(benchmark.qiskit_circuit()),\n",
    "        supermarq.converters.compute_entanglement_with_qiskit(benchmark.qiskit_circuit()),\n",
    "        supermarq.converters.compute_liveness_with_qiskit(benchmark.qiskit_circuit()),\n",
    "        supermarq.converters.compute_measurement_with_qiskit(benchmark.qiskit_circuit()),\n",
    "        supermarq.converters.compute_parallelism_with_qiskit(benchmark.qiskit_circuit()),]\n",
    "print(benchmark_features)"
   ]
  },
  {
   "cell_type": "code",
   "execution_count": 11,
   "id": "a0c3d8cf-aea7-4235-b65b-cd943e6593a2",
   "metadata": {},
   "outputs": [
    {
     "ename": "NameError",
     "evalue": "name 'Aer' is not defined",
     "output_type": "error",
     "traceback": [
      "\u001b[0;31m---------------------------------------------------------------------------\u001b[0m",
      "\u001b[0;31mNameError\u001b[0m                                 Traceback (most recent call last)",
      "Cell \u001b[0;32mIn[11], line 2\u001b[0m\n\u001b[1;32m      1\u001b[0m jobs \u001b[38;5;241m=\u001b[39m []\n\u001b[0;32m----> 2\u001b[0m backend \u001b[38;5;241m=\u001b[39m \u001b[43mAer\u001b[49m\u001b[38;5;241m.\u001b[39mget_backend(\u001b[38;5;124m'\u001b[39m\u001b[38;5;124maer_simulator_statevector\u001b[39m\u001b[38;5;124m'\u001b[39m)\n\u001b[1;32m      3\u001b[0m \u001b[38;5;28;01mfor\u001b[39;00m benchmark, label \u001b[38;5;129;01min\u001b[39;00m benchmarks:\n\u001b[1;32m      4\u001b[0m     job \u001b[38;5;241m=\u001b[39m backend\u001b[38;5;241m.\u001b[39mrun(benchmark\u001b[38;5;241m.\u001b[39mmb3(), shots\u001b[38;5;241m=\u001b[39m\u001b[38;5;241m1000\u001b[39m)\n",
      "\u001b[0;31mNameError\u001b[0m: name 'Aer' is not defined"
     ]
    }
   ],
   "source": [
    "jobs = []\n",
    "for benchmark, label in benchmarks:\n",
    "    job = emulator.run(benchmark.qiskit_circuit(), shots=1000)\n",
    "    jobs.append((label, job, benchmark))\n",
    "jobs"
   ]
  },
  {
   "cell_type": "code",
   "execution_count": null,
   "id": "f0dd37d8-58b9-4a2a-b2fa-c63d322c311a",
   "metadata": {},
   "outputs": [],
   "source": [
    "device_scores = {}\n",
    "for label, job, benchmark in jobs:\n",
    "    if job.status() == qiskit.providers.jobstatus.JobStatus.DONE:\n",
    "        counts = job.result(0).get_counts()\n",
    "        print(counts)\n",
    "        score = benchmark.score(counts)\n",
    "        print(score)\n",
    "        device_scores[label] = score\n",
    "    else:\n",
    "        print(label, \"not done!\")"
   ]
  },
  {
   "cell_type": "code",
   "execution_count": null,
   "id": "7c7c8e99",
   "metadata": {},
   "outputs": [],
   "source": [
    "supermarq.plotting.plot_correlations(benchmark_features,\n",
    "    device_scores,\n",
    "    [\"PC\", \"CD\", \"Ent\", \"Liv\", \"Mea\", \"Par\"],\n",
    "    device_name=\"Aer_DM_Sim\",)"
   ]
  }
 ],
 "metadata": {
  "kernelspec": {
   "display_name": "Python 3 (ipykernel)",
   "language": "python",
   "name": "python3"
  },
  "language_info": {
   "codemirror_mode": {
    "name": "ipython",
    "version": 3
   },
   "file_extension": ".py",
   "mimetype": "text/x-python",
   "name": "python",
   "nbconvert_exporter": "python",
   "pygments_lexer": "ipython3",
   "version": "3.10.14"
  }
 },
 "nbformat": 4,
 "nbformat_minor": 5
}
