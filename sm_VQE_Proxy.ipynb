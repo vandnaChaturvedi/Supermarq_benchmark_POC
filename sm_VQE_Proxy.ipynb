{
 "cells": [
  {
   "cell_type": "code",
   "execution_count": 1,
   "id": "55f19af5-7332-4b7b-8548-c31e3c40f528",
   "metadata": {
    "execution": {
     "iopub.execute_input": "2024-08-08T09:54:14.242426Z",
     "iopub.status.busy": "2024-08-08T09:54:14.242063Z",
     "iopub.status.idle": "2024-08-08T09:54:16.878081Z",
     "shell.execute_reply": "2024-08-08T09:54:16.877112Z",
     "shell.execute_reply.started": "2024-08-08T09:54:14.242393Z"
    }
   },
   "outputs": [],
   "source": [
    "from qiskit_aer import AerSimulator\n",
    "from qiskit import *\n",
    "import supermarq\n",
    "from qiskit.providers.fake_provider import *\n",
    "import numpy as np \n",
    "import os\n",
    "import matplotlib.pyplot as plt \n",
    "########## INPUT ############\n",
    "f=5 # number of fake_backend want to choose\n",
    "lower_limit= 4 # the lower limit of qubits for the circuit\n",
    "upper_limit= 5 # the lower limit of qubits for the circuit\n",
    "steps= 1 #jump in qubit numbers\n",
    "name_of_algo='vqe'"
   ]
  },
  {
   "cell_type": "code",
   "execution_count": 2,
   "id": "8d4823e6-f4a7-48c4-b2bb-98281393fb17",
   "metadata": {
    "execution": {
     "iopub.execute_input": "2024-08-08T09:54:16.879979Z",
     "iopub.status.busy": "2024-08-08T09:54:16.879481Z",
     "iopub.status.idle": "2024-08-08T09:54:16.892383Z",
     "shell.execute_reply": "2024-08-08T09:54:16.883820Z",
     "shell.execute_reply.started": "2024-08-08T09:54:16.879940Z"
    },
    "scrolled": true
   },
   "outputs": [],
   "source": [
    "#all_fakes=[FakeAlmadenV2,FakeArmonkV2,FakeAthensV2,FakeAuckland,FakeBelemV2,FakeBoeblingenV2,FakeBogotaV2,FakeBrooklynV2,FakeBurlingtonV2,FakeCairoV2,FakeCambridgeV2,FakeCasablancaV2,FakeEssexV2,FakeGeneva,FakeGuadalupeV2,FakeHanoiV2,FakeJakartaV2,FakeJohannesburgV2,FakeKolkataV2,FakeLagosV2,FakeLimaV2,FakeLondonV2,FakeManhattanV2,FakeManilaV2,FakeMelbourneV2,FakeMontrealV2,FakeMumbaiV2,FakeNairobiV2,FakeOslo,FakeOurenseV2,FakeParisV2,FakePerth,FakePrague,FakePoughkeepsieV2,FakeQuitoV2,FakeRochesterV2,FakeRomeV2,FakeSantiagoV2,FakeSherbrooke,FakeSingaporeV2,FakeSydneyV2,FakeTorontoV2,FakeValenciaV2,FakeVigoV2,FakeWashingtonV2,FakeYorktownV2]\n",
    "#selected_fakes = random.sample(all_fakes, f)\n",
    "#selected_fakes  # having any randomly selected 5 fake backends out of 46 mentioned in the inital list\n",
    "selected_fakes=[FakeBoeblingenV2,FakeRomeV2,FakeGeneva,FakeTorontoV2,FakeRochesterV2]"
   ]
  },
  {
   "cell_type": "code",
   "execution_count": 24,
   "id": "c4e03a4b-82dd-4174-a253-da954e75e7d8",
   "metadata": {
    "execution": {
     "iopub.execute_input": "2024-08-08T10:17:33.673179Z",
     "iopub.status.busy": "2024-08-08T10:17:33.672955Z",
     "iopub.status.idle": "2024-08-08T10:17:37.334657Z",
     "shell.execute_reply": "2024-08-08T10:17:37.334012Z",
     "shell.execute_reply.started": "2024-08-08T10:17:33.673161Z"
    }
   },
   "outputs": [
    {
     "name": "stdout",
     "output_type": "stream",
     "text": [
      "-------------------------- vqe4 ---------------------------\n",
      "[cirq.Circuit([\n",
      "    cirq.Moment(\n",
      "        cirq.Ry(rads=3.270861850591521).on(cirq.LineQubit(0)),\n",
      "        cirq.Ry(rads=3.736922888896891).on(cirq.LineQubit(1)),\n",
      "        cirq.Ry(rads=4.879243661422773).on(cirq.LineQubit(2)),\n",
      "        cirq.Ry(rads=7.729070563915058).on(cirq.LineQubit(3)),\n",
      "    ),\n",
      "    cirq.Moment(\n",
      "        cirq.Rz(rads=7.178017644056912).on(cirq.LineQubit(0)),\n",
      "        cirq.Rz(rads=5.09913840449918).on(cirq.LineQubit(1)),\n",
      "        cirq.Rz(rads=2.9810989455212966).on(cirq.LineQubit(2)),\n",
      "        cirq.Rz(rads=9.445286317060221).on(cirq.LineQubit(3)),\n",
      "    ),\n",
      "    cirq.Moment(\n",
      "        cirq.CNOT(cirq.LineQubit(0), cirq.LineQubit(1)),\n",
      "    ),\n",
      "    cirq.Moment(\n",
      "        cirq.CNOT(cirq.LineQubit(1), cirq.LineQubit(2)),\n",
      "        cirq.Ry(rads=3.731379792847273).on(cirq.LineQubit(0)),\n",
      "    ),\n",
      "    cirq.Moment(\n",
      "        cirq.CNOT(cirq.LineQubit(2), cirq.LineQubit(3)),\n",
      "        cirq.Ry(rads=6.8125416899714315).on(cirq.LineQubit(1)),\n",
      "        cirq.Rz(rads=6.243623142553494).on(cirq.LineQubit(0)),\n",
      "    ),\n",
      "    cirq.Moment(\n",
      "        cirq.Ry(rads=7.126702504319643).on(cirq.LineQubit(2)),\n",
      "        cirq.Ry(rads=13.546618139814363).on(cirq.LineQubit(3)),\n",
      "        cirq.Rz(rads=1.1274588140902244).on(cirq.LineQubit(1)),\n",
      "    ),\n",
      "    cirq.Moment(\n",
      "        cirq.Rz(rads=9.660335395654817).on(cirq.LineQubit(2)),\n",
      "        cirq.Rz(rads=9.419726302348304).on(cirq.LineQubit(3)),\n",
      "    ),\n",
      "    cirq.Moment(\n",
      "        cirq.measure(cirq.LineQubit(0), cirq.LineQubit(1), cirq.LineQubit(2), cirq.LineQubit(3)),\n",
      "    ),\n",
      "]), cirq.Circuit([\n",
      "    cirq.Moment(\n",
      "        cirq.Ry(rads=3.270861850591521).on(cirq.LineQubit(0)),\n",
      "        cirq.Ry(rads=3.736922888896891).on(cirq.LineQubit(1)),\n",
      "        cirq.Ry(rads=4.879243661422773).on(cirq.LineQubit(2)),\n",
      "        cirq.Ry(rads=7.729070563915058).on(cirq.LineQubit(3)),\n",
      "    ),\n",
      "    cirq.Moment(\n",
      "        cirq.Rz(rads=7.178017644056912).on(cirq.LineQubit(0)),\n",
      "        cirq.Rz(rads=5.09913840449918).on(cirq.LineQubit(1)),\n",
      "        cirq.Rz(rads=2.9810989455212966).on(cirq.LineQubit(2)),\n",
      "        cirq.Rz(rads=9.445286317060221).on(cirq.LineQubit(3)),\n",
      "    ),\n",
      "    cirq.Moment(\n",
      "        cirq.CNOT(cirq.LineQubit(0), cirq.LineQubit(1)),\n",
      "    ),\n",
      "    cirq.Moment(\n",
      "        cirq.CNOT(cirq.LineQubit(1), cirq.LineQubit(2)),\n",
      "        cirq.Ry(rads=3.731379792847273).on(cirq.LineQubit(0)),\n",
      "    ),\n",
      "    cirq.Moment(\n",
      "        cirq.CNOT(cirq.LineQubit(2), cirq.LineQubit(3)),\n",
      "        cirq.Ry(rads=6.8125416899714315).on(cirq.LineQubit(1)),\n",
      "        cirq.Rz(rads=6.243623142553494).on(cirq.LineQubit(0)),\n",
      "    ),\n",
      "    cirq.Moment(\n",
      "        cirq.Ry(rads=7.126702504319643).on(cirq.LineQubit(2)),\n",
      "        cirq.Ry(rads=13.546618139814363).on(cirq.LineQubit(3)),\n",
      "        cirq.Rz(rads=1.1274588140902244).on(cirq.LineQubit(1)),\n",
      "        cirq.H(cirq.LineQubit(0)),\n",
      "    ),\n",
      "    cirq.Moment(\n",
      "        cirq.Rz(rads=9.660335395654817).on(cirq.LineQubit(2)),\n",
      "        cirq.Rz(rads=9.419726302348304).on(cirq.LineQubit(3)),\n",
      "        cirq.H(cirq.LineQubit(1)),\n",
      "    ),\n",
      "    cirq.Moment(\n",
      "        cirq.H(cirq.LineQubit(2)),\n",
      "        cirq.H(cirq.LineQubit(3)),\n",
      "    ),\n",
      "    cirq.Moment(\n",
      "        cirq.measure(cirq.LineQubit(0), cirq.LineQubit(1), cirq.LineQubit(2), cirq.LineQubit(3)),\n",
      "    ),\n",
      "])]\n"
     ]
    }
   ],
   "source": [
    "%matplotlib inline\n",
    "benchmarks=[]\n",
    "for i in range(lower_limit,upper_limit,steps):\n",
    "    label = name_of_algo+str(i)\n",
    "    benchmarks.append((supermarq.vqe_proxy.VQEProxy(i,1),label))\n",
    "for i in benchmarks:\n",
    "    #circuit=i[0].qiskit_circuit()\n",
    "    print(\"--------------------------\",i[1],\"---------------------------\")\n",
    "    circuit=i[0].circuit()\n",
    "    print(circuit)\n",
    "    #circuit.draw(output='mpl')\n",
    "    #print(circuit.draw())"
   ]
  },
  {
   "cell_type": "code",
   "execution_count": 25,
   "id": "240e3f68-faf0-49c0-99d5-9baea57548cc",
   "metadata": {
    "execution": {
     "iopub.execute_input": "2024-08-08T10:18:12.744122Z",
     "iopub.status.busy": "2024-08-08T10:18:12.743947Z",
     "iopub.status.idle": "2024-08-08T10:18:12.755495Z",
     "shell.execute_reply": "2024-08-08T10:18:12.755063Z",
     "shell.execute_reply.started": "2024-08-08T10:18:12.744109Z"
    }
   },
   "outputs": [
    {
     "ename": "AttributeError",
     "evalue": "'list' object has no attribute 'draw'",
     "output_type": "error",
     "traceback": [
      "\u001b[0;31m---------------------------------------------------------------------------\u001b[0m",
      "\u001b[0;31mAttributeError\u001b[0m                            Traceback (most recent call last)",
      "Cell \u001b[0;32mIn[25], line 2\u001b[0m\n\u001b[1;32m      1\u001b[0m \u001b[38;5;66;03m#circuit=i[0].qiskit_circuit()\u001b[39;00m\n\u001b[0;32m----> 2\u001b[0m \u001b[38;5;28mprint\u001b[39m(\u001b[43mcircuit\u001b[49m\u001b[38;5;241;43m.\u001b[39;49m\u001b[43mdraw\u001b[49m())\n",
      "\u001b[0;31mAttributeError\u001b[0m: 'list' object has no attribute 'draw'"
     ]
    }
   ],
   "source": [
    "#circuit=i[0].qiskit_circuit()\n",
    " assert len(vqe.circuit()) == 2\n",
    "    assert len(vqe.circuit()[0].all_qubits()) == 3"
   ]
  },
  {
   "cell_type": "code",
   "execution_count": 19,
   "id": "2f456050-78de-4fc8-b7a7-64b7eb30291a",
   "metadata": {
    "execution": {
     "iopub.execute_input": "2024-08-08T10:12:56.888840Z",
     "iopub.status.busy": "2024-08-08T10:12:56.888619Z",
     "iopub.status.idle": "2024-08-08T10:12:56.893403Z",
     "shell.execute_reply": "2024-08-08T10:12:56.893021Z",
     "shell.execute_reply.started": "2024-08-08T10:12:56.888823Z"
    }
   },
   "outputs": [],
   "source": [
    "def apply_reservoir_gates(qc, n_steps):\n",
    "    for step in range(n_steps):\n",
    "        for qubit in range(5):\n",
    "            qc.rx(np.pi / 4, qubit)  # Apply rotation gate\n",
    "            qc.ry(np.pi / 4, qubit)  # Apply rotation gate\n",
    "            qc.rz(np.pi / 4, qubit)  # Apply rotation gate\n",
    "    return qc\n",
    "\n",
    "# Create and modify quantum circuit\n",
    "qc = QuantumCircuit(5)\n",
    "qc = apply_reservoir_gates(qc, 5)\n",
    "qc.measure_all()"
   ]
  },
  {
   "cell_type": "code",
   "execution_count": 20,
   "id": "ad9572f0-2012-4239-b71c-58085254ff3a",
   "metadata": {
    "execution": {
     "iopub.execute_input": "2024-08-08T10:13:19.772057Z",
     "iopub.status.busy": "2024-08-08T10:13:19.771734Z",
     "iopub.status.idle": "2024-08-08T10:13:19.793157Z",
     "shell.execute_reply": "2024-08-08T10:13:19.792839Z",
     "shell.execute_reply.started": "2024-08-08T10:13:19.772032Z"
    }
   },
   "outputs": [
    {
     "name": "stdout",
     "output_type": "stream",
     "text": [
      "        ┌─────────┐┌─────────┐┌─────────┐┌─────────┐┌─────────┐┌─────────┐»\n",
      "   q_0: ┤ Rx(π/4) ├┤ Ry(π/4) ├┤ Rz(π/4) ├┤ Rx(π/4) ├┤ Ry(π/4) ├┤ Rz(π/4) ├»\n",
      "        ├─────────┤├─────────┤├─────────┤├─────────┤├─────────┤├─────────┤»\n",
      "   q_1: ┤ Rx(π/4) ├┤ Ry(π/4) ├┤ Rz(π/4) ├┤ Rx(π/4) ├┤ Ry(π/4) ├┤ Rz(π/4) ├»\n",
      "        ├─────────┤├─────────┤├─────────┤├─────────┤├─────────┤├─────────┤»\n",
      "   q_2: ┤ Rx(π/4) ├┤ Ry(π/4) ├┤ Rz(π/4) ├┤ Rx(π/4) ├┤ Ry(π/4) ├┤ Rz(π/4) ├»\n",
      "        ├─────────┤├─────────┤├─────────┤├─────────┤├─────────┤├─────────┤»\n",
      "   q_3: ┤ Rx(π/4) ├┤ Ry(π/4) ├┤ Rz(π/4) ├┤ Rx(π/4) ├┤ Ry(π/4) ├┤ Rz(π/4) ├»\n",
      "        ├─────────┤├─────────┤├─────────┤├─────────┤├─────────┤├─────────┤»\n",
      "   q_4: ┤ Rx(π/4) ├┤ Ry(π/4) ├┤ Rz(π/4) ├┤ Rx(π/4) ├┤ Ry(π/4) ├┤ Rz(π/4) ├»\n",
      "        └─────────┘└─────────┘└─────────┘└─────────┘└─────────┘└─────────┘»\n",
      "meas: 5/══════════════════════════════════════════════════════════════════»\n",
      "                                                                          »\n",
      "«        ┌─────────┐┌─────────┐┌─────────┐┌─────────┐┌─────────┐┌─────────┐»\n",
      "«   q_0: ┤ Rx(π/4) ├┤ Ry(π/4) ├┤ Rz(π/4) ├┤ Rx(π/4) ├┤ Ry(π/4) ├┤ Rz(π/4) ├»\n",
      "«        ├─────────┤├─────────┤├─────────┤├─────────┤├─────────┤├─────────┤»\n",
      "«   q_1: ┤ Rx(π/4) ├┤ Ry(π/4) ├┤ Rz(π/4) ├┤ Rx(π/4) ├┤ Ry(π/4) ├┤ Rz(π/4) ├»\n",
      "«        ├─────────┤├─────────┤├─────────┤├─────────┤├─────────┤├─────────┤»\n",
      "«   q_2: ┤ Rx(π/4) ├┤ Ry(π/4) ├┤ Rz(π/4) ├┤ Rx(π/4) ├┤ Ry(π/4) ├┤ Rz(π/4) ├»\n",
      "«        ├─────────┤├─────────┤├─────────┤├─────────┤├─────────┤├─────────┤»\n",
      "«   q_3: ┤ Rx(π/4) ├┤ Ry(π/4) ├┤ Rz(π/4) ├┤ Rx(π/4) ├┤ Ry(π/4) ├┤ Rz(π/4) ├»\n",
      "«        ├─────────┤├─────────┤├─────────┤├─────────┤├─────────┤├─────────┤»\n",
      "«   q_4: ┤ Rx(π/4) ├┤ Ry(π/4) ├┤ Rz(π/4) ├┤ Rx(π/4) ├┤ Ry(π/4) ├┤ Rz(π/4) ├»\n",
      "«        └─────────┘└─────────┘└─────────┘└─────────┘└─────────┘└─────────┘»\n",
      "«meas: 5/══════════════════════════════════════════════════════════════════»\n",
      "«                                                                          »\n",
      "«        ┌─────────┐┌─────────┐┌─────────┐ ░ ┌─┐            \n",
      "«   q_0: ┤ Rx(π/4) ├┤ Ry(π/4) ├┤ Rz(π/4) ├─░─┤M├────────────\n",
      "«        ├─────────┤├─────────┤├─────────┤ ░ └╥┘┌─┐         \n",
      "«   q_1: ┤ Rx(π/4) ├┤ Ry(π/4) ├┤ Rz(π/4) ├─░──╫─┤M├─────────\n",
      "«        ├─────────┤├─────────┤├─────────┤ ░  ║ └╥┘┌─┐      \n",
      "«   q_2: ┤ Rx(π/4) ├┤ Ry(π/4) ├┤ Rz(π/4) ├─░──╫──╫─┤M├──────\n",
      "«        ├─────────┤├─────────┤├─────────┤ ░  ║  ║ └╥┘┌─┐   \n",
      "«   q_3: ┤ Rx(π/4) ├┤ Ry(π/4) ├┤ Rz(π/4) ├─░──╫──╫──╫─┤M├───\n",
      "«        ├─────────┤├─────────┤├─────────┤ ░  ║  ║  ║ └╥┘┌─┐\n",
      "«   q_4: ┤ Rx(π/4) ├┤ Ry(π/4) ├┤ Rz(π/4) ├─░──╫──╫──╫──╫─┤M├\n",
      "«        └─────────┘└─────────┘└─────────┘ ░  ║  ║  ║  ║ └╥┘\n",
      "«meas: 5/═════════════════════════════════════╩══╩══╩══╩══╩═\n",
      "«                                             0  1  2  3  4 \n"
     ]
    }
   ],
   "source": [
    "print(qc)"
   ]
  },
  {
   "cell_type": "code",
   "execution_count": 4,
   "id": "1f56c735-9507-4fff-81af-9af404fff4cb",
   "metadata": {
    "execution": {
     "iopub.execute_input": "2024-08-08T09:55:37.165773Z",
     "iopub.status.busy": "2024-08-08T09:55:37.165154Z",
     "iopub.status.idle": "2024-08-08T09:55:37.677128Z",
     "shell.execute_reply": "2024-08-08T09:55:37.676065Z",
     "shell.execute_reply.started": "2024-08-08T09:55:37.165736Z"
    }
   },
   "outputs": [
    {
     "ename": "AttributeError",
     "evalue": "'list' object has no attribute 'num_qubits'",
     "output_type": "error",
     "traceback": [
      "\u001b[0;31m---------------------------------------------------------------------------\u001b[0m",
      "\u001b[0;31mAttributeError\u001b[0m                            Traceback (most recent call last)",
      "Cell \u001b[0;32mIn[4], line 4\u001b[0m\n\u001b[1;32m      1\u001b[0m benchmark_features \u001b[38;5;241m=\u001b[39m {}\n\u001b[1;32m      2\u001b[0m \u001b[38;5;28;01mfor\u001b[39;00m benchmark, label \u001b[38;5;129;01min\u001b[39;00m benchmarks:\n\u001b[1;32m      3\u001b[0m     benchmark_features[label] \u001b[38;5;241m=\u001b[39m [\n\u001b[0;32m----> 4\u001b[0m         \u001b[43msupermarq\u001b[49m\u001b[38;5;241;43m.\u001b[39;49m\u001b[43mconverters\u001b[49m\u001b[38;5;241;43m.\u001b[39;49m\u001b[43mcompute_communication_with_qiskit\u001b[49m\u001b[43m(\u001b[49m\u001b[43mbenchmark\u001b[49m\u001b[38;5;241;43m.\u001b[39;49m\u001b[43mqiskit_circuit\u001b[49m\u001b[43m(\u001b[49m\u001b[43m)\u001b[49m\u001b[43m)\u001b[49m,\n\u001b[1;32m      5\u001b[0m         supermarq\u001b[38;5;241m.\u001b[39mconverters\u001b[38;5;241m.\u001b[39mcompute_depth_with_qiskit(benchmark\u001b[38;5;241m.\u001b[39mqiskit_circuit()),\n\u001b[1;32m      6\u001b[0m         supermarq\u001b[38;5;241m.\u001b[39mconverters\u001b[38;5;241m.\u001b[39mcompute_entanglement_with_qiskit(benchmark\u001b[38;5;241m.\u001b[39mqiskit_circuit()),\n\u001b[1;32m      7\u001b[0m         supermarq\u001b[38;5;241m.\u001b[39mconverters\u001b[38;5;241m.\u001b[39mcompute_liveness_with_qiskit(benchmark\u001b[38;5;241m.\u001b[39mqiskit_circuit()),\n\u001b[1;32m      8\u001b[0m         supermarq\u001b[38;5;241m.\u001b[39mconverters\u001b[38;5;241m.\u001b[39mcompute_measurement_with_qiskit(benchmark\u001b[38;5;241m.\u001b[39mqiskit_circuit()),\n\u001b[1;32m      9\u001b[0m         supermarq\u001b[38;5;241m.\u001b[39mconverters\u001b[38;5;241m.\u001b[39mcompute_parallelism_with_qiskit(benchmark\u001b[38;5;241m.\u001b[39mqiskit_circuit()),]\n\u001b[1;32m     10\u001b[0m \u001b[38;5;28mprint\u001b[39m(benchmark_features)\n",
      "File \u001b[0;32m~/anaconda3/envs/qiskit-venv/lib/python3.10/site-packages/supermarq/converters.py:31\u001b[0m, in \u001b[0;36mcompute_communication_with_qiskit\u001b[0;34m(circuit)\u001b[0m\n\u001b[1;32m     20\u001b[0m \u001b[38;5;28;01mdef\u001b[39;00m \u001b[38;5;21mcompute_communication_with_qiskit\u001b[39m(circuit: qiskit\u001b[38;5;241m.\u001b[39mQuantumCircuit) \u001b[38;5;241m-\u001b[39m\u001b[38;5;241m>\u001b[39m \u001b[38;5;28mfloat\u001b[39m:\n\u001b[1;32m     21\u001b[0m \u001b[38;5;250m    \u001b[39m\u001b[38;5;124;03m\"\"\"Compute the program communication of the given quantum circuit.\u001b[39;00m\n\u001b[1;32m     22\u001b[0m \n\u001b[1;32m     23\u001b[0m \u001b[38;5;124;03m    Program communication = circuit's average qubit degree / degree of a complete graph.\u001b[39;00m\n\u001b[0;32m   (...)\u001b[0m\n\u001b[1;32m     29\u001b[0m \u001b[38;5;124;03m        The value of the communication feature for this circuit.\u001b[39;00m\n\u001b[1;32m     30\u001b[0m \u001b[38;5;124;03m    \"\"\"\u001b[39;00m\n\u001b[0;32m---> 31\u001b[0m     num_qubits \u001b[38;5;241m=\u001b[39m \u001b[43mcircuit\u001b[49m\u001b[38;5;241;43m.\u001b[39;49m\u001b[43mnum_qubits\u001b[49m\n\u001b[1;32m     32\u001b[0m     dag \u001b[38;5;241m=\u001b[39m qiskit\u001b[38;5;241m.\u001b[39mconverters\u001b[38;5;241m.\u001b[39mcircuit_to_dag(circuit)\n\u001b[1;32m     33\u001b[0m     dag\u001b[38;5;241m.\u001b[39mremove_all_ops_named(\u001b[38;5;124m\"\u001b[39m\u001b[38;5;124mbarrier\u001b[39m\u001b[38;5;124m\"\u001b[39m)\n",
      "\u001b[0;31mAttributeError\u001b[0m: 'list' object has no attribute 'num_qubits'"
     ]
    }
   ],
   "source": [
    "benchmark_features = {}\n",
    "for benchmark, label in benchmarks:\n",
    "    benchmark_features[label] = [\n",
    "        supermarq.converters.compute_communication_with_qiskit(benchmark.qiskit_circuit()),\n",
    "        supermarq.converters.compute_depth_with_qiskit(benchmark.qiskit_circuit()),\n",
    "        supermarq.converters.compute_entanglement_with_qiskit(benchmark.qiskit_circuit()),\n",
    "        supermarq.converters.compute_liveness_with_qiskit(benchmark.qiskit_circuit()),\n",
    "        supermarq.converters.compute_measurement_with_qiskit(benchmark.qiskit_circuit()),\n",
    "        supermarq.converters.compute_parallelism_with_qiskit(benchmark.qiskit_circuit()),]\n",
    "print(benchmark_features)"
   ]
  },
  {
   "cell_type": "code",
   "execution_count": null,
   "id": "4ebb6bd3-15f5-4a44-b805-596b648c8432",
   "metadata": {},
   "outputs": [],
   "source": [
    "import time\n",
    "import pandas as pd\n",
    "from IPython.display import display\n",
    "jobs =[]\n",
    "data=[]\n",
    "print(\"=============SCORES OF ALL THE CIRCUITS=============\")    \n",
    "for backend in selected_fakes:\n",
    "    print(\"BACKEND-NAME :: \", backend().name)\n",
    "    for benchmark, label in benchmarks:\n",
    "        circuit=benchmark.qiskit_circuit()\n",
    "        score_list=[]\n",
    "        timetaken=[]\n",
    "        for i in range(0,1):\n",
    "            start=time.time()\n",
    "            job = backend().run(circuit, shots=1000)\n",
    "            result = job.result()\n",
    "            counts = job.result(0).get_counts()\n",
    "            score = benchmark.score(counts)\n",
    "            end=time.time()-start\n",
    "            score_list.append(score)\n",
    "            t=job.result(0).time_taken\n",
    "            timetaken.append(t)\n",
    "            #print(label ,\" ExecutionTime:\",t,\"& Total time:\",end)\n",
    "            print(i+1,\"th iteration ,\", label ,\", Execution time::\",t, \", Total Time Taken ::\",end )\n",
    "        print(\"------------------------------------------\")\n",
    "        score = np.mean(score_list) \n",
    "        sd = np.std(score_list)\n",
    "        execution_time = np.mean(timetaken)\n",
    "        dictionary={}\n",
    "        dictionary[\"Backend_Time\"]=backend().name\n",
    "        dictionary[\"Ciruit_Name\"]=label    \n",
    "        dictionary[\"Execution_Time\"]=execution_time\n",
    "        dictionary[\"Total_Time\"]=end\n",
    "        data.append(dictionary)\n",
    "        jobs.append((label,benchmark,backend,job,score,sd,execution_time,end))\n",
    "#jobs\n",
    "df = pd.DataFrame(data)\n",
    "display(df)\n",
    "df.to_excel(r\"./output_VQE.xlsx\", index=False)"
   ]
  },
  {
   "cell_type": "code",
   "execution_count": null,
   "id": "c01dd32e-be82-4474-a990-b17f8ba5565f",
   "metadata": {},
   "outputs": [],
   "source": [
    "\n",
    "plotdata = pd.DataFrame(df)\n",
    "plotdata.plot(kind=\"bar\")\n",
    "plt.title(\"Mince Pie Consumption Study\")\n",
    "plt.xlabel(\"Family Member\")\n",
    "plt.ylabel(\"Pies Consumed\")"
   ]
  },
  {
   "cell_type": "code",
   "execution_count": null,
   "id": "e87f7abc-b375-4ea7-ada3-4d67439819f1",
   "metadata": {},
   "outputs": [],
   "source": [
    "df"
   ]
  },
  {
   "cell_type": "code",
   "execution_count": null,
   "id": "0cbd4cde-bc4e-43c8-8aac-fdd0111528af",
   "metadata": {},
   "outputs": [],
   "source": [
    "all_scores={}  \n",
    "all_fake_names=[]\n",
    "all_fake_scores=[]\n",
    "for i in selected_fakes:\n",
    "    fakes=i\n",
    "    #print(\"SELCETED_FAKES:: \",i)\n",
    "    i={}\n",
    "    for label,benchmark,backend,job,score,sd,exec,tot in jobs:\n",
    "        #supermarq.plotting.plot_results([score], [label])\n",
    "        if fakes == backend:\n",
    "            i[label] = score\n",
    "    device_scores = 'device_score_' +str(fakes().name)\n",
    "    all_scores[device_scores]= i\n",
    "    all_fake_scores.append(i)\n",
    "    all_fake_names.append(device_scores)   \n",
    "#print(all_scores)    "
   ]
  },
  {
   "cell_type": "code",
   "execution_count": null,
   "id": "2296b800-d26d-4ba8-b199-940531330c9c",
   "metadata": {
    "scrolled": true
   },
   "outputs": [],
   "source": [
    "for label,benchmark,backend,job,score,sd,exec,tot in jobs:\n",
    "    print(\"USED BACKEND::\",backend().name,\"; CIRCUIT_NAME:\",label, \"; SCORE =\",score)\n",
    "    supermarq.plotting.plot_results([score], [label])\n",
    "    print(\"-----------------------------------------------------------\")"
   ]
  },
  {
   "cell_type": "code",
   "execution_count": null,
   "id": "bbe8a935-405c-40c1-b9f4-c01e38715b77",
   "metadata": {},
   "outputs": [],
   "source": [
    "names=[]\n",
    "scores=[]\n",
    "X=\"A \"+name_of_algo+' Benchamrk'\n",
    "for i,j in benchmark_features.items():\n",
    "    names.append(i)\n",
    "    scores.append(j)\n",
    "supermarq.plotting.plot_benchmark([X,names,scores],\n",
    "        spoke_labels=[\"PC\", \"CD\", \"Ent\", \"Liv\", \"Mea\", \"Par\"],show=True)"
   ]
  },
  {
   "cell_type": "code",
   "execution_count": null,
   "id": "f237e503-ea63-4902-acf2-9971d2e3875f",
   "metadata": {},
   "outputs": [],
   "source": [
    "supermarq.plotting.plot_correlations(benchmark_features,all_fake_scores,[\"PC\", \"CD\", \"Ent\", \"Liv\", \"Mea\", \"Par\"],device_name=all_fake_names,show=True,)"
   ]
  },
  {
   "cell_type": "code",
   "execution_count": null,
   "id": "71fa2c41-db38-4497-a1f7-4c33d42690c7",
   "metadata": {},
   "outputs": [],
   "source": [
    "%matplotlib inline \n",
    "\n",
    "all_fake_names=[]\n",
    "all_score=[]\n",
    "all_sd=[]\n",
    "all_ckt=[]\n",
    "v='Plot of '+name_of_algo+' over'+str(lower_limit)+' to '+str(upper_limit)+ ' Qubits'\n",
    "for i in selected_fakes:\n",
    "    all_fake_names.append(i().name)    \n",
    "for benchmark, label in benchmarks:\n",
    "    i=[]\n",
    "    j=[]\n",
    "    k=[]\n",
    "    for ckt,benchmark,backend,job,score,sd,exec,tot in jobs:\n",
    "        if ckt == label:\n",
    "            i.append(score)\n",
    "            j.append(sd)\n",
    "    all_ckt.append(label)\n",
    "    all_score.append(i)\n",
    "    all_sd.append(j)\n",
    "num_bars = len(all_score)\n",
    "width = 0.1\n",
    "x = np.arange(len(all_fake_names)) # x-axis positions for each bar\n",
    "fig, ax = plt.subplots()\n",
    "for i in range(num_bars):               # Create bars for each category with appropriate offsets\n",
    "    ax.bar(x + i * width, all_score[i], width=width, label=f'Bar {i+1}', \n",
    "           yerr=all_sd[i],align='center',alpha=0.9,ecolor='black',capsize=2)\n",
    "ax.set_xlabel('Name of Fake Backends',fontweight ='bold',fontsize = 12)\n",
    "ax.set_ylabel('Scores',fontweight ='bold',fontsize = 12)\n",
    "ax.set_title(v)\n",
    "ax.set_xticks(x + (num_bars - 1) * width / 2)\n",
    "ax.set_xticklabels(all_fake_names)\n",
    "ax.legend(all_ckt,loc=\"lower left\")\n",
    "#ax.grid(True)\n",
    "plt.show()"
   ]
  },
  {
   "cell_type": "code",
   "execution_count": null,
   "id": "a3ce63f4-ebf6-4f80-a002-b2b7a5b664ad",
   "metadata": {},
   "outputs": [],
   "source": [
    "import resource\n",
    "def get_memory():\n",
    "    usage = resource.getrusage(resource.RUSAGE_SELF)\n",
    "    max_mem = usage.ru_maxrss/1024 #in MB\n",
    "    return max_mem\n",
    "get_memory()"
   ]
  }
 ],
 "metadata": {
  "kernelspec": {
   "display_name": "Python 3 (ipykernel)",
   "language": "python",
   "name": "python3"
  },
  "language_info": {
   "codemirror_mode": {
    "name": "ipython",
    "version": 3
   },
   "file_extension": ".py",
   "mimetype": "text/x-python",
   "name": "python",
   "nbconvert_exporter": "python",
   "pygments_lexer": "ipython3",
   "version": "3.10.14"
  }
 },
 "nbformat": 4,
 "nbformat_minor": 5
}
