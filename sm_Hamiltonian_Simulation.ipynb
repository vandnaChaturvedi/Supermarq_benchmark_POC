{
 "cells": [
  {
   "cell_type": "code",
   "execution_count": 1,
   "id": "55f19af5-7332-4b7b-8548-c31e3c40f528",
   "metadata": {},
   "outputs": [],
   "source": [
    "from qiskit_aer import AerSimulator\n",
    "from qiskit import *\n",
    "import supermarq\n",
    "import numpy as np \n",
    "import os\n",
    "import qiskit\n",
    "emulator = Aer.get_backend('aer_simulator_density_matrix')"
   ]
  },
  {
   "cell_type": "code",
   "execution_count": 2,
   "id": "24d602b1-9afb-4dd5-995c-409b2d113015",
   "metadata": {},
   "outputs": [
    {
     "name": "stdout",
     "output_type": "stream",
     "text": [
      "{'hsim3': [<supermarq.benchmarks.hamiltonian_simulation.HamiltonianSimulation object at 0x74144e0f9c60>], 'hsim5': [<supermarq.benchmarks.hamiltonian_simulation.HamiltonianSimulation object at 0x74139698b3d0>], 'hsim7': [<supermarq.benchmarks.hamiltonian_simulation.HamiltonianSimulation object at 0x74139698b010>], 'hsim9': [<supermarq.benchmarks.hamiltonian_simulation.HamiltonianSimulation object at 0x74139698b0a0>], 'hsim11': [<supermarq.benchmarks.hamiltonian_simulation.HamiltonianSimulation object at 0x74139698bb80>], 'hsim13': [<supermarq.benchmarks.hamiltonian_simulation.HamiltonianSimulation object at 0x74139698bbe0>], 'hsim15': [<supermarq.benchmarks.hamiltonian_simulation.HamiltonianSimulation object at 0x74139698afe0>], 'hsim17': [<supermarq.benchmarks.hamiltonian_simulation.HamiltonianSimulation object at 0x74139698b250>], 'hsim19': [<supermarq.benchmarks.hamiltonian_simulation.HamiltonianSimulation object at 0x74139698b400>]}\n"
     ]
    }
   ],
   "source": [
    "hsim_qubits = {}\n",
    "for i in range(3, 20, 2):\n",
    "    num = str(i)\n",
    "    label ='hsim'+num\n",
    "    benchmarks = [(supermarq.hamiltonian_simulation.HamiltonianSimulation(i)),]\n",
    "    hsim_qubits[label] = benchmarks\n",
    "print(hsim_qubits) "
   ]
  },
  {
   "cell_type": "code",
   "execution_count": 4,
   "id": "97b52b0a-1612-49c8-8281-f9668d452063",
   "metadata": {},
   "outputs": [],
   "source": [
    "benchmark_features = {}\n"
   ]
  },
  {
   "cell_type": "code",
   "execution_count": 5,
   "id": "33fe814e-80df-45ed-b45f-efd28a0ba439",
   "metadata": {},
   "outputs": [
    {
     "ename": "ValueError",
     "evalue": "too many values to unpack (expected 2)",
     "output_type": "error",
     "traceback": [
      "\u001b[0;31m---------------------------------------------------------------------------\u001b[0m",
      "\u001b[0;31mValueError\u001b[0m                                Traceback (most recent call last)",
      "Cell \u001b[0;32mIn[5], line 2\u001b[0m\n\u001b[1;32m      1\u001b[0m benchmark_features \u001b[38;5;241m=\u001b[39m {}\n\u001b[0;32m----> 2\u001b[0m \u001b[38;5;28;01mfor\u001b[39;00m label, benchmark \u001b[38;5;129;01min\u001b[39;00m hsim_qubits:\n\u001b[1;32m      3\u001b[0m     benchmark_features[label] \u001b[38;5;241m=\u001b[39m [\n\u001b[1;32m      4\u001b[0m         supermarq\u001b[38;5;241m.\u001b[39mconverters\u001b[38;5;241m.\u001b[39mcompute_communication_with_qiskit(benchmark\u001b[38;5;241m.\u001b[39mqiskit_circuit()),\n\u001b[1;32m      5\u001b[0m         supermarq\u001b[38;5;241m.\u001b[39mconverters\u001b[38;5;241m.\u001b[39mcompute_depth_with_qiskit(benchmark\u001b[38;5;241m.\u001b[39mqiskit_circuit()),\n\u001b[0;32m   (...)\u001b[0m\n\u001b[1;32m      8\u001b[0m         supermarq\u001b[38;5;241m.\u001b[39mconverters\u001b[38;5;241m.\u001b[39mcompute_measurement_with_qiskit(benchmark\u001b[38;5;241m.\u001b[39mqiskit_circuit()),\n\u001b[1;32m      9\u001b[0m         supermarq\u001b[38;5;241m.\u001b[39mconverters\u001b[38;5;241m.\u001b[39mcompute_parallelism_with_qiskit(benchmark\u001b[38;5;241m.\u001b[39mqiskit_circuit()),]\n\u001b[1;32m     10\u001b[0m \u001b[38;5;28mprint\u001b[39m(benchmark_features)\n",
      "\u001b[0;31mValueError\u001b[0m: too many values to unpack (expected 2)"
     ]
    }
   ],
   "source": [
    "benchmark_features = {}\n",
    "for label, benchmark in hsim_qubits:\n",
    "    benchmark_features[label] = [\n",
    "        supermarq.converters.compute_communication_with_qiskit(benchmark.qiskit_circuit()),\n",
    "        supermarq.converters.compute_depth_with_qiskit(benchmark.qiskit_circuit()),\n",
    "        supermarq.converters.compute_entanglement_with_qiskit(benchmark.qiskit_circuit()),\n",
    "        supermarq.converters.compute_liveness_with_qiskit(benchmark.qiskit_circuit()),\n",
    "        supermarq.converters.compute_measurement_with_qiskit(benchmark.qiskit_circuit()),\n",
    "        supermarq.converters.compute_parallelism_with_qiskit(benchmark.qiskit_circuit()),]\n",
    "print(benchmark_features)"
   ]
  },
  {
   "cell_type": "code",
   "execution_count": 6,
   "id": "127c081f-e97b-476a-90d8-45ddb01b5a92",
   "metadata": {},
   "outputs": [],
   "source": [
    "for benchmark, label in benchmark_features:\n",
    "    print(benchmark_features[label])\n",
    "    #circuit=benchmarks[label].qiskit_circuit()\n",
    "    print(\"\\n------------------------------\",i[1],\"-----------------------------\")\n",
    "    #print(circuit.draw())"
   ]
  },
  {
   "cell_type": "code",
   "execution_count": 7,
   "id": "1c5ad5e0-da9a-493b-a872-6304ca377b08",
   "metadata": {},
   "outputs": [
    {
     "ename": "TypeError",
     "evalue": "cannot unpack non-iterable HamiltonianSimulation object",
     "output_type": "error",
     "traceback": [
      "\u001b[0;31m---------------------------------------------------------------------------\u001b[0m",
      "\u001b[0;31mTypeError\u001b[0m                                 Traceback (most recent call last)",
      "Cell \u001b[0;32mIn[7], line 2\u001b[0m\n\u001b[1;32m      1\u001b[0m jobs \u001b[38;5;241m=\u001b[39m []\n\u001b[0;32m----> 2\u001b[0m \u001b[38;5;28;01mfor\u001b[39;00m benchmark, label \u001b[38;5;129;01min\u001b[39;00m benchmarks:\n\u001b[1;32m      3\u001b[0m     job \u001b[38;5;241m=\u001b[39m emulator\u001b[38;5;241m.\u001b[39mrun(benchmark\u001b[38;5;241m.\u001b[39mqiskit_circuit(), shots\u001b[38;5;241m=\u001b[39m\u001b[38;5;241m1000\u001b[39m)\n\u001b[1;32m      4\u001b[0m     jobs\u001b[38;5;241m.\u001b[39mappend((label, job, benchmark))\n",
      "\u001b[0;31mTypeError\u001b[0m: cannot unpack non-iterable HamiltonianSimulation object"
     ]
    }
   ],
   "source": [
    "jobs = []\n",
    "for benchmark, label in benchmarks:\n",
    "    job = emulator.run(benchmark.qiskit_circuit(), shots=1000)\n",
    "    jobs.append((label, job, benchmark))\n",
    "\n",
    "\n",
    "for x in range(len(jobs)):\n",
    "    print(jobs[x])"
   ]
  },
  {
   "cell_type": "code",
   "execution_count": null,
   "id": "186744eb-c7fb-42a4-b1f4-85eee67d0760",
   "metadata": {},
   "outputs": [],
   "source": [
    "job.status()"
   ]
  },
  {
   "cell_type": "code",
   "execution_count": null,
   "id": "e96cdd05-9516-4467-b3c3-24a45eab3e63",
   "metadata": {},
   "outputs": [],
   "source": [
    "device_scores = {}\n",
    "for label, job, benchmark in jobs:\n",
    "    if job.status() == qiskit.providers.jobstatus.JobStatus.DONE:\n",
    "        counts = job.result(0).get_counts()\n",
    "        print(counts)\n",
    "        score = benchmark.score(counts)\n",
    "        print(score)\n",
    "        device_scores[label] = score\n",
    "    else:\n",
    "        print(label, \"not done!\")"
   ]
  },
  {
   "cell_type": "code",
   "execution_count": null,
   "id": "2c4726f0-2273-4e5d-b5dc-03ec244423cb",
   "metadata": {},
   "outputs": [],
   "source": [
    "device_scores"
   ]
  },
  {
   "cell_type": "code",
   "execution_count": null,
   "id": "6e70dfe9-193e-4ede-8285-857346499dae",
   "metadata": {},
   "outputs": [],
   "source": [
    "supermarq.plotting.plot_correlations(benchmark_features,\n",
    "    device_scores,\n",
    "    [\"PC\", \"CD\", \"Ent\", \"Liv\", \"Mea\", \"Par\"],\n",
    "    device_name=\"Aer_DM_Sim\",)"
   ]
  }
 ],
 "metadata": {
  "kernelspec": {
   "display_name": "Python 3 (ipykernel)",
   "language": "python",
   "name": "python3"
  },
  "language_info": {
   "codemirror_mode": {
    "name": "ipython",
    "version": 3
   },
   "file_extension": ".py",
   "mimetype": "text/x-python",
   "name": "python",
   "nbconvert_exporter": "python",
   "pygments_lexer": "ipython3",
   "version": "3.10.14"
  }
 },
 "nbformat": 4,
 "nbformat_minor": 5
}
