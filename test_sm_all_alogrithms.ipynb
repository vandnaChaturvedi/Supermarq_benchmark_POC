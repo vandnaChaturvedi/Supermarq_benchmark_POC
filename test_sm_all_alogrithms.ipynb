{
 "cells": [
  {
   "cell_type": "code",
   "execution_count": 27,
   "id": "55f19af5-7332-4b7b-8548-c31e3c40f528",
   "metadata": {},
   "outputs": [],
   "source": [
    "from qiskit_aer import AerSimulator\n",
    "from qiskit import *\n",
    "import supermarq\n",
    "import numpy as np \n",
    "import os\n",
    "import qiskit"
   ]
  },
  {
   "cell_type": "code",
   "execution_count": 28,
   "id": "681694b4-c084-4fc9-8bfd-666ee4e7680c",
   "metadata": {},
   "outputs": [],
   "source": [
    "benchmark_features = {}\n",
    "benchmarks = [\n",
    "    (supermarq.bit_code.BitCode(3, 3, [1, 0, 1]), \"bitcode3\"),\n",
    "    (supermarq.ghz.GHZ(3), \"ghz3\"),\n",
    "    (supermarq.hamiltonian_simulation.HamiltonianSimulation(3), \"hsim3\"),\n",
    "    (supermarq.mermin_bell.MerminBell(3), \"marmin_bell_3\"),\n",
    "    (supermarq.qaoa_fermionic_swap_proxy.QAOAFermionicSwapProxy(3), \"qaoa_swap_proxy3\"),\n",
    "    (supermarq.qaoa_vanilla_proxy.QAOAVanillaProxy(3), \"qaoa_vanilla_proxy3\"),\n",
    "    (supermarq.vqe_proxy.VQEProxy(3), \"vqe_vanilla_proxy3\"),  \n",
    "]"
   ]
  },
  {
   "cell_type": "code",
   "execution_count": null,
   "id": "2d04ed28-5972-4263-919c-66ff24b7cb89",
   "metadata": {},
   "outputs": [],
   "source": [
    "for benchmark, label in benchmarks:\n",
    "    benchmark_features[label] = [\n",
    "        supermarq.converters.compute_communication_with_qiskit(benchmark.qiskit_circuit()),\n",
    "        supermarq.converters.compute_depth_with_qiskit(benchmark.qiskit_circuit()),\n",
    "        supermarq.converters.compute_entanglement_with_qiskit(benchmark.qiskit_circuit()),\n",
    "        supermarq.converters.compute_liveness_with_qiskit(benchmark.qiskit_circuit()),\n",
    "        supermarq.converters.compute_measurement_with_qiskit(benchmark.qiskit_circuit()),\n",
    "        supermarq.converters.compute_parallelism_with_qiskit(benchmark.qiskit_circuit()),]\n",
    "print(benchmark_features)"
   ]
  },
  {
   "cell_type": "code",
   "execution_count": null,
   "id": "8d4823e6-f4a7-48c4-b2bb-98281393fb17",
   "metadata": {},
   "outputs": [],
   "source": [
    "emulator = Aer.get_backend('aer_simulator_density_matrix')"
   ]
  },
  {
   "cell_type": "code",
   "execution_count": null,
   "id": "1f56c735-9507-4fff-81af-9af404fff4cb",
   "metadata": {},
   "outputs": [],
   "source": [
    "qc = transpile(h_sim_circuit, emulator)\n",
    "job = execute(qc, emulator, shots=8192, memory=False)\n",
    "data=job.result()\n",
    "job.status()"
   ]
  },
  {
   "cell_type": "code",
   "execution_count": null,
   "id": "4ebb6bd3-15f5-4a44-b805-596b648c8432",
   "metadata": {},
   "outputs": [],
   "source": [
    "data = job.result()\n",
    "data"
   ]
  },
  {
   "cell_type": "code",
   "execution_count": null,
   "id": "2296b800-d26d-4ba8-b199-940531330c9c",
   "metadata": {},
   "outputs": [],
   "source": [
    "h_sim_features = [\n",
    "    supermarq.converters.compute_communication_with_qiskit(h_sim_circuit),\n",
    "    supermarq.converters.compute_depth_with_qiskit(h_sim_circuit),\n",
    "    supermarq.converters.compute_entanglement_with_qiskit(h_sim_circuit),\n",
    "    supermarq.converters.compute_liveness_with_qiskit(h_sim_circuit),\n",
    "    supermarq.converters.compute_measurement_with_qiskit(h_sim_circuit),\n",
    "    supermarq.converters.compute_parallelism_with_qiskit(h_sim_circuit),\n",
    "]\n",
    "print(h_sim_features)\n",
    "print(\"--------------------------------------------------------------\")\n",
    "supermarq.plotting.plot_benchmark(\n",
    "    [\"A single Hamiltonian Simulation benchmark\", [\"h_sim\"], [h_sim_features]],\n",
    "    spoke_labels=[\"PC\", \"CD\", \"Ent\", \"Liv\", \"Mea\", \"Par\"],\n",
    ")"
   ]
  },
  {
   "cell_type": "code",
   "execution_count": null,
   "id": "1e049ac6-4173-4a4c-848e-92eedde47d48",
   "metadata": {},
   "outputs": [],
   "source": [
    "counts = job.result().get_counts()\n",
    "print(counts)"
   ]
  },
  {
   "cell_type": "code",
   "execution_count": null,
   "id": "f2a17125-410c-434e-b7fa-8aa222a1a5af",
   "metadata": {},
   "outputs": [],
   "source": [
    "score = h_sim.score(counts)\n",
    "print(score)"
   ]
  },
  {
   "cell_type": "code",
   "execution_count": null,
   "id": "0cbd4cde-bc4e-43c8-8aac-fdd0111528af",
   "metadata": {},
   "outputs": [],
   "source": [
    "supermarq.plotting.plot_results([score], [\"h_sim_4\"])"
   ]
  },
  {
   "cell_type": "code",
   "execution_count": null,
   "id": "bb38aa3b-9b37-4c2d-b757-f1fab42e8c0c",
   "metadata": {},
   "outputs": [],
   "source": [
    "supermarq.plotting.plot_results([score], [\"h_sim_4\"])"
   ]
  },
  {
   "cell_type": "code",
   "execution_count": null,
   "id": "1c5ad5e0-da9a-493b-a872-6304ca377b08",
   "metadata": {},
   "outputs": [],
   "source": [
    "jobs = []\n",
    "for benchmark, label in benchmarks:\n",
    "    job = emulator.run(benchmark.qiskit_circuit(), shots=1000)\n",
    "    jobs.append((label, job, benchmark))\n",
    "jobs"
   ]
  },
  {
   "cell_type": "code",
   "execution_count": null,
   "id": "186744eb-c7fb-42a4-b1f4-85eee67d0760",
   "metadata": {},
   "outputs": [],
   "source": [
    "job.status()"
   ]
  },
  {
   "cell_type": "code",
   "execution_count": null,
   "id": "e96cdd05-9516-4467-b3c3-24a45eab3e63",
   "metadata": {},
   "outputs": [],
   "source": [
    "device_scores = {}\n",
    "for label, job, benchmark in jobs:\n",
    "    if job.status() == qiskit.providers.jobstatus.JobStatus.DONE:\n",
    "        counts = job.result(0).get_counts()\n",
    "        print(counts)\n",
    "        score = benchmark.score(counts)\n",
    "        print(score)\n",
    "        device_scores[label] = score\n",
    "    else:\n",
    "        print(label, \"not done!\")"
   ]
  },
  {
   "cell_type": "code",
   "execution_count": null,
   "id": "6e70dfe9-193e-4ede-8285-857346499dae",
   "metadata": {},
   "outputs": [],
   "source": [
    "supermarq.plotting.plot_correlations(benchmark_features,\n",
    "    device_scores,\n",
    "    [\"PC\", \"CD\", \"Ent\", \"Liv\", \"Mea\", \"Par\"],\n",
    "    device_name=\"Aer_DM_Sim\",)"
   ]
  }
 ],
 "metadata": {
  "kernelspec": {
   "display_name": "Python 3 (ipykernel)",
   "language": "python",
   "name": "python3"
  },
  "language_info": {
   "codemirror_mode": {
    "name": "ipython",
    "version": 3
   },
   "file_extension": ".py",
   "mimetype": "text/x-python",
   "name": "python",
   "nbconvert_exporter": "python",
   "pygments_lexer": "ipython3",
   "version": "3.10.14"
  }
 },
 "nbformat": 4,
 "nbformat_minor": 5
}
