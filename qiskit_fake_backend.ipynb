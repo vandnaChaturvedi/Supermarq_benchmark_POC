{
 "cells": [
  {
   "cell_type": "code",
   "execution_count": 1,
   "id": "73c0cb18-d087-4e67-9431-75bafb11742e",
   "metadata": {},
   "outputs": [
    {
     "ename": "AttributeError",
     "evalue": "'AerProvider' object has no attribute 'backend'",
     "output_type": "error",
     "traceback": [
      "\u001b[0;31m---------------------------------------------------------------------------\u001b[0m",
      "\u001b[0;31mAttributeError\u001b[0m                            Traceback (most recent call last)",
      "Cell \u001b[0;32mIn[1], line 5\u001b[0m\n\u001b[1;32m      3\u001b[0m \u001b[38;5;28;01mfrom\u001b[39;00m \u001b[38;5;21;01mqiskit\u001b[39;00m \u001b[38;5;28;01mimport\u001b[39;00m \u001b[38;5;241m*\u001b[39m\n\u001b[1;32m      4\u001b[0m emulator \u001b[38;5;241m=\u001b[39m Aer\u001b[38;5;241m.\u001b[39mget_backend(\u001b[38;5;124m'\u001b[39m\u001b[38;5;124maer_simulator_density_matrix\u001b[39m\u001b[38;5;124m'\u001b[39m)\n\u001b[0;32m----> 5\u001b[0m \u001b[38;5;28;01mfor\u001b[39;00m backend \u001b[38;5;129;01min\u001b[39;00m \u001b[43mAer\u001b[49m\u001b[38;5;241;43m.\u001b[39;49m\u001b[43mbackend\u001b[49m():\n\u001b[1;32m      6\u001b[0m     \u001b[38;5;28mprint\u001b[39m (backend\u001b[38;5;241m.\u001b[39mname())\n",
      "File \u001b[0;32m~/anaconda3/envs/qiskit-venv/lib/python3.10/site-packages/qiskit/__init__.py:159\u001b[0m, in \u001b[0;36mAerWrapper.__getattr__\u001b[0;34m(self, attr)\u001b[0m\n\u001b[1;32m    155\u001b[0m     \u001b[38;5;28;01mexcept\u001b[39;00m \u001b[38;5;167;01mImportError\u001b[39;00m \u001b[38;5;28;01mas\u001b[39;00m ex:\n\u001b[1;32m    156\u001b[0m         \u001b[38;5;28;01mraise\u001b[39;00m MissingOptionalLibraryError(\n\u001b[1;32m    157\u001b[0m             \u001b[38;5;124m\"\u001b[39m\u001b[38;5;124mqiskit-aer\u001b[39m\u001b[38;5;124m\"\u001b[39m, \u001b[38;5;124m\"\u001b[39m\u001b[38;5;124mAer provider\u001b[39m\u001b[38;5;124m\"\u001b[39m, \u001b[38;5;124m\"\u001b[39m\u001b[38;5;124mpip install qiskit-aer\u001b[39m\u001b[38;5;124m\"\u001b[39m\n\u001b[1;32m    158\u001b[0m         ) \u001b[38;5;28;01mfrom\u001b[39;00m \u001b[38;5;21;01mex\u001b[39;00m\n\u001b[0;32m--> 159\u001b[0m \u001b[38;5;28;01mreturn\u001b[39;00m \u001b[38;5;28;43mgetattr\u001b[39;49m\u001b[43m(\u001b[49m\u001b[38;5;28;43mself\u001b[39;49m\u001b[38;5;241;43m.\u001b[39;49m\u001b[43maer\u001b[49m\u001b[43m,\u001b[49m\u001b[43m \u001b[49m\u001b[43mattr\u001b[49m\u001b[43m)\u001b[49m\n",
      "\u001b[0;31mAttributeError\u001b[0m: 'AerProvider' object has no attribute 'backend'"
     ]
    }
   ],
   "source": [
    "from qiskit import Aer\n",
    "from qiskit_aer import AerSimulator\n",
    "from qiskit import *\n",
    "emulator = Aer.get_backend('aer_simulator_density_matrix')\n",
    "for backend in Aer.backend():\n",
    "    print (backend.name())"
   ]
  },
  {
   "cell_type": "code",
   "execution_count": null,
   "id": "8010dbe4-aae3-4790-99c9-cdd3aa34ba72",
   "metadata": {},
   "outputs": [],
   "source": [
    "from qiskit import QuantumCircuit, transpile\n",
    "from qiskit.providers.fake_provider import GenericBackendV2\n",
    "from qiskit.visualization import plot_histogram\n",
    "\n",
    "# Generate a 5-qubit simulated backend\n",
    "backend = GenericBackendV2(num_qubits=5)\n",
    " \n",
    "# Create a simple circuit\n",
    "circuit = QuantumCircuit(3)\n",
    "circuit.h(0)\n",
    "circuit.cx(0,1)\n",
    "circuit.cx(0,2)\n",
    "circuit.measure_all()\n",
    "circuit.draw('mpl')\n",
    " \n",
    "# Transpile the ideal circuit to a circuit that can be directly executed by the backend\n",
    "transpiled_circuit = transpile(circuit, backend)\n",
    "transpiled_circuit.draw('mpl')\n",
    " \n",
    "# Run the transpiled circuit using the simulated backend\n",
    "job = backend.run(transpiled_circuit)\n",
    "counts = job.result().get_counts()\n",
    "plot_histogram(counts)\n"
   ]
  },
  {
   "cell_type": "code",
   "execution_count": null,
   "id": "0ddeabe9-fca3-437b-bd87-48b726559dfd",
   "metadata": {},
   "outputs": [],
   "source": [
    "from timeit import timeit\n",
    "from qiskit_aer import AerSimulator\n",
    "from qiskit import QuantumCircuit\n",
    "import qiskit.primitives\n",
    "from qiskit.transpiler.preset_passmanagers import generate_preset_pass_manager\n",
    "\n",
    "backend = AerSimulator.from_backend(FakeSherbrooke())"
   ]
  },
  {
   "cell_type": "code",
   "execution_count": null,
   "id": "ae147e31-ead7-4661-832c-66bb4e526a5a",
   "metadata": {},
   "outputs": [],
   "source": [
    "import qiskit_ibm_runtime.fake_provider"
   ]
  },
  {
   "cell_type": "code",
   "execution_count": null,
   "id": "445e0069-13f0-41bc-9f47-21eca6cd62d0",
   "metadata": {},
   "outputs": [],
   "source": []
  }
 ],
 "metadata": {
  "kernelspec": {
   "display_name": "Python 3 (ipykernel)",
   "language": "python",
   "name": "python3"
  },
  "language_info": {
   "codemirror_mode": {
    "name": "ipython",
    "version": 3
   },
   "file_extension": ".py",
   "mimetype": "text/x-python",
   "name": "python",
   "nbconvert_exporter": "python",
   "pygments_lexer": "ipython3",
   "version": "3.10.14"
  }
 },
 "nbformat": 4,
 "nbformat_minor": 5
}
