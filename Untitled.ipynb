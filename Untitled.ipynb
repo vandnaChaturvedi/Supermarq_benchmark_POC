{
 "cells": [
  {
   "cell_type": "code",
   "execution_count": 6,
   "id": "e8ad3e41-bd11-4406-879f-dcefbf1bc74a",
   "metadata": {},
   "outputs": [
    {
     "ename": "ImportError",
     "evalue": "cannot import name 'QuantumCircuit' from 'qiskit.circuit' (unknown location)",
     "output_type": "error",
     "traceback": [
      "\u001b[0;31m---------------------------------------------------------------------------\u001b[0m",
      "\u001b[0;31mImportError\u001b[0m                               Traceback (most recent call last)",
      "Cell \u001b[0;32mIn[6], line 3\u001b[0m\n\u001b[1;32m      1\u001b[0m \u001b[38;5;28;01mfrom\u001b[39;00m \u001b[38;5;21;01mtypeguard\u001b[39;00m \u001b[38;5;28;01mimport\u001b[39;00m typechecked\n\u001b[0;32m----> 3\u001b[0m \u001b[38;5;28;01mfrom\u001b[39;00m \u001b[38;5;21;01mqiskit\u001b[39;00m\u001b[38;5;21;01m.\u001b[39;00m\u001b[38;5;21;01mcircuit\u001b[39;00m \u001b[38;5;28;01mimport\u001b[39;00m QuantumCircuit\n\u001b[1;32m      4\u001b[0m \u001b[38;5;28;01mfrom\u001b[39;00m \u001b[38;5;21;01mqiskit\u001b[39;00m\u001b[38;5;21;01m.\u001b[39;00m\u001b[38;5;21;01mresult\u001b[39;00m\u001b[38;5;21;01m.\u001b[39;00m\u001b[38;5;21;01mcounts\u001b[39;00m \u001b[38;5;28;01mimport\u001b[39;00m Counts\n\u001b[1;32m      6\u001b[0m \u001b[38;5;28;01mfrom\u001b[39;00m \u001b[38;5;21;01mqc_grader\u001b[39;00m\u001b[38;5;21;01m.\u001b[39;00m\u001b[38;5;21;01mgrader\u001b[39;00m\u001b[38;5;21;01m.\u001b[39;00m\u001b[38;5;21;01mgrade\u001b[39;00m \u001b[38;5;28;01mimport\u001b[39;00m grade\n",
      "\u001b[0;31mImportError\u001b[0m: cannot import name 'QuantumCircuit' from 'qiskit.circuit' (unknown location)"
     ]
    }
   ],
   "source": [
    "from typeguard import typechecked\n",
    "\n",
    "from qiskit.circuit import QuantumCircuit\n",
    "from qiskit.result.counts import Counts\n",
    "\n",
    "from qc_grader.grader.grade import grade\n",
    "\n",
    "\n",
    "_challenge_id = 'fall_fest23'\n",
    "\n",
    "\n",
    "@typechecked\n",
    "def grade_ex1a(answer1: Counts) -> None:\n",
    "    grade(answer1, 'ex1a', _challenge_id)\n",
    "\n",
    "\n",
    "@typechecked\n",
    "def grade_ex1b(answer2: QuantumCircuit) -> None:\n",
    "    grade(answer2, 'ex1b', _challenge_id)"
   ]
  },
  {
   "cell_type": "code",
   "execution_count": 5,
   "id": "97c04c99-740b-49c2-b228-d772939003d0",
   "metadata": {},
   "outputs": [
    {
     "name": "stdout",
     "output_type": "stream",
     "text": [
      "Collecting typeguard\n",
      "  Using cached typeguard-4.3.0-py3-none-any.whl.metadata (3.7 kB)\n",
      "Requirement already satisfied: typing-extensions>=4.10.0 in /home/vandna/anaconda3/envs/qiskit_46/lib/python3.9/site-packages (from typeguard) (4.11.0)\n",
      "Requirement already satisfied: importlib-metadata>=3.6 in /home/vandna/anaconda3/envs/qiskit_46/lib/python3.9/site-packages (from typeguard) (7.1.0)\n",
      "Requirement already satisfied: zipp>=0.5 in /home/vandna/anaconda3/envs/qiskit_46/lib/python3.9/site-packages (from importlib-metadata>=3.6->typeguard) (3.18.2)\n",
      "Using cached typeguard-4.3.0-py3-none-any.whl (35 kB)\n",
      "Installing collected packages: typeguard\n",
      "Successfully installed typeguard-4.3.0\n"
     ]
    }
   ],
   "source": [
    "!pip install typeguard"
   ]
  },
  {
   "cell_type": "code",
   "execution_count": null,
   "id": "627f8126-d71d-4d96-8d47-985cbe6b1b87",
   "metadata": {},
   "outputs": [],
   "source": []
  }
 ],
 "metadata": {
  "kernelspec": {
   "display_name": "Python 3 (ipykernel)",
   "language": "python",
   "name": "python3"
  },
  "language_info": {
   "codemirror_mode": {
    "name": "ipython",
    "version": 3
   },
   "file_extension": ".py",
   "mimetype": "text/x-python",
   "name": "python",
   "nbconvert_exporter": "python",
   "pygments_lexer": "ipython3",
   "version": "3.9.0"
  }
 },
 "nbformat": 4,
 "nbformat_minor": 5
}
